{
 "cells": [
  {
   "cell_type": "markdown",
   "metadata": {},
   "source": [
    "# Python Fundamentals II\n",
    "Welcome to the second lesson! This Jupyter Notebook file is meant to accompany **L02 - Python Fundamentals II.**"
   ]
  },
  {
   "cell_type": "markdown",
   "metadata": {},
   "source": [
    "Type your solutions for each exercise in the code cells below, and then press **Shift + Enter** to execute your code. Then, check the solution video to see how you did!"
   ]
  },
  {
   "cell_type": "markdown",
   "metadata": {},
   "source": [
    "### 1. Python Objects"
   ]
  },
  {
   "cell_type": "code",
   "execution_count": 1,
   "metadata": {},
   "outputs": [
    {
     "name": "stdout",
     "output_type": "stream",
     "text": [
      "<class 'int'>\n",
      "<class 'float'>\n",
      "<class 'str'>\n",
      "<class 'bool'>\n",
      "<class 'bool'>\n"
     ]
    }
   ],
   "source": [
    "# Lesson Workspace\n",
    "print(type(10))        # Print the datatype of 10\n",
    "print(type(10.5))\n",
    "print(type('this'))\n",
    "print(type(True))\n",
    "print(type(1 < 5))"
   ]
  },
  {
   "cell_type": "markdown",
   "metadata": {},
   "source": [
    "<font color = 'blue'> **EXERCISE 1.1** </font>"
   ]
  },
  {
   "cell_type": "code",
   "execution_count": 2,
   "metadata": {},
   "outputs": [
    {
     "name": "stdout",
     "output_type": "stream",
     "text": [
      "The object type of 10 is Integer\n",
      "The object type of 10.5 is Float\n",
      "The object type of this is String\n",
      "The object type of True is Boolean\n",
      "The object type of True is Boolean\n"
     ]
    }
   ],
   "source": [
    "print('The object type of {} is {}'.format(10, 'Integer'))\n",
    "print('The object type of {} is {}'.format(10.5, 'Float'))\n",
    "print('The object type of {} is {}'.format('this', 'String'))\n",
    "print('The object type of {} is {}'.format(True, 'Boolean'))\n",
    "print('The object type of {} is {}'.format(1 < 5, 'Boolean'))"
   ]
  },
  {
   "cell_type": "markdown",
   "metadata": {},
   "source": [
    "### 2. Lists"
   ]
  },
  {
   "cell_type": "code",
   "execution_count": 3,
   "metadata": {},
   "outputs": [
    {
     "name": "stdout",
     "output_type": "stream",
     "text": [
      "[1, 2, 3, 4, 5]\n",
      "['a', 'b', 'c', 'd', 'e']\n"
     ]
    }
   ],
   "source": [
    "# Lesson Workspace\n",
    "\n",
    "list_1 = [1,2,3,4,5]             # Create List object\n",
    "list_2 = ['a','b','c','d','e']   # Create List object\n",
    " \n",
    "print(list_1)                    # Print List 1\n",
    "print(list_2)                    # Print List 2"
   ]
  },
  {
   "cell_type": "code",
   "execution_count": 4,
   "metadata": {},
   "outputs": [
    {
     "data": {
      "text/plain": [
       "[[1, 'a'], [2, 'b'], [3, 'c'], [4, 'd'], [5, 'e']]"
      ]
     },
     "execution_count": 4,
     "metadata": {},
     "output_type": "execute_result"
    }
   ],
   "source": [
    "combined_list = [[1,'a'],[2,'b'],[3,'c'],[4,'d'],[5,'e']]\n",
    "combined_list"
   ]
  },
  {
   "cell_type": "markdown",
   "metadata": {},
   "source": [
    "##### Access elements in a list via indices"
   ]
  },
  {
   "cell_type": "code",
   "execution_count": 5,
   "metadata": {},
   "outputs": [
    {
     "name": "stdout",
     "output_type": "stream",
     "text": [
      "4\n",
      "5\n",
      "9\n"
     ]
    }
   ],
   "source": [
    "list_1 = [1,2,3,4,5]            # Python List are 0-based index\n",
    "#               ^list_1[3]\n",
    "#                 ^list_1[4]\n",
    "\n",
    "print(list_1[3])                # Print 4th element of list\n",
    "print(list_1[4])                # Print 5th element of list\n",
    "print(list_1[3] + list_1[4])    # Print addition of 4th and 5th element"
   ]
  },
  {
   "cell_type": "code",
   "execution_count": 6,
   "metadata": {},
   "outputs": [
    {
     "data": {
      "text/plain": [
       "[1, 2, 3]"
      ]
     },
     "execution_count": 6,
     "metadata": {},
     "output_type": "execute_result"
    }
   ],
   "source": [
    "list_1[0:3] #access indices 0,1,2"
   ]
  },
  {
   "cell_type": "code",
   "execution_count": 7,
   "metadata": {},
   "outputs": [
    {
     "data": {
      "text/plain": [
       "[1, 2, 3]"
      ]
     },
     "execution_count": 7,
     "metadata": {},
     "output_type": "execute_result"
    }
   ],
   "source": [
    "#access indices 0,1,2 - another way - don't need to include first index\n",
    "list_1[:3] "
   ]
  },
  {
   "cell_type": "code",
   "execution_count": 8,
   "metadata": {},
   "outputs": [
    {
     "data": {
      "text/plain": [
       "[3, 4, 5]"
      ]
     },
     "execution_count": 8,
     "metadata": {},
     "output_type": "execute_result"
    }
   ],
   "source": [
    "# Access 3rd, 4th, and 5th element in the list\n",
    "list_1[2:6] "
   ]
  },
  {
   "cell_type": "code",
   "execution_count": 9,
   "metadata": {},
   "outputs": [
    {
     "data": {
      "text/plain": [
       "[3, 4, 5]"
      ]
     },
     "execution_count": 9,
     "metadata": {},
     "output_type": "execute_result"
    }
   ],
   "source": [
    "# another way since we only have 5 elements in the list\n",
    "list_1[2:] "
   ]
  },
  {
   "cell_type": "markdown",
   "metadata": {},
   "source": [
    "<font color = 'blue'> **EXERCISE 2.1** </font>\n",
    "\n",
    "- Create a list called **list_1** containing the integers 1, 2, 3, 4, and 5\n",
    "- Create a list called **list_2** containing the integers 6, 7, 8, 9, and 10\n",
    "- Print the sum of the 4th object in **list_1** and the 1st object in **list_2**\n",
    "- Print the last two objects (as a range) in **list_1** and the first three objects (as a range) in **list_2**\n",
    "- Create a list called **list_3** containing the objects from Step 4 in numerical order and print the result\n"
   ]
  },
  {
   "cell_type": "code",
   "execution_count": 10,
   "metadata": {},
   "outputs": [
    {
     "name": "stdout",
     "output_type": "stream",
     "text": [
      "10\n",
      "[4, 5]\n",
      "[6, 7, 8]\n",
      "[4, 5, 6, 7, 8]\n"
     ]
    }
   ],
   "source": [
    "list_1 = [1,2,3,4,5]\n",
    "list_2 = [6,7,8,9,10]\n",
    "\n",
    "# Print 4th element list 1 + 1st element in list_2\n",
    "print(list_1[3] + list_2[0]) \n",
    "\n",
    "# Print the last two objects (as a range) in list_1 \n",
    "print(list_1[3:])\n",
    "\n",
    "# Print first three objects (as a range) in list_2\n",
    "print(list_2[:3])\n",
    "\n",
    "# Create a list called list_3 from step 4 in numerical order\n",
    "list_3 = list_1[3:] + list_2[:3]\n",
    "list_3.sort()\n",
    "print(list_3)"
   ]
  },
  {
   "cell_type": "markdown",
   "metadata": {},
   "source": [
    "#### Ways to Manipulate a Python List"
   ]
  },
  {
   "cell_type": "code",
   "execution_count": 11,
   "metadata": {},
   "outputs": [
    {
     "name": "stdout",
     "output_type": "stream",
     "text": [
      "['AAPL', 'AMZN', 'MSFT', 'tbd', 'GOOGL']\n"
     ]
    }
   ],
   "source": [
    "tech_portfolio = ['AAPL','AMZN','MSFT','tbd','GOOGL']\n",
    "print(tech_portfolio)"
   ]
  },
  {
   "cell_type": "code",
   "execution_count": 12,
   "metadata": {},
   "outputs": [
    {
     "name": "stdout",
     "output_type": "stream",
     "text": [
      "['AAPL', 'AMZN', 'MSFT', 'CSCO', 'GOOGL']\n"
     ]
    }
   ],
   "source": [
    "tech_portfolio[3] = 'CSCO'       # UPDATE value in index 3\n",
    "print(tech_portfolio)"
   ]
  },
  {
   "cell_type": "code",
   "execution_count": 13,
   "metadata": {},
   "outputs": [
    {
     "name": "stdout",
     "output_type": "stream",
     "text": [
      "['AAPL', 'AMZN', 'MSFT', 'CSCO', 'GOOGL', 'NVDA']\n"
     ]
    }
   ],
   "source": [
    "tech_portfolio.append('NVDA')    # Append new element to list\n",
    "print(tech_portfolio)"
   ]
  },
  {
   "cell_type": "code",
   "execution_count": 14,
   "metadata": {},
   "outputs": [
    {
     "name": "stdout",
     "output_type": "stream",
     "text": [
      "['AAPL', 'MSFT', 'CSCO', 'GOOGL', 'NVDA']\n"
     ]
    }
   ],
   "source": [
    "tech_portfolio.remove('AMZN')    # Remove AMZN from list\n",
    "print(tech_portfolio)"
   ]
  },
  {
   "cell_type": "code",
   "execution_count": 15,
   "metadata": {},
   "outputs": [
    {
     "name": "stdout",
     "output_type": "stream",
     "text": [
      "True\n",
      "5\n"
     ]
    }
   ],
   "source": [
    "print('GOOGL' in tech_portfolio) # Checks membership of Googl in the list\n",
    "print(len(tech_portfolio))       # Print the number of elements in list"
   ]
  },
  {
   "cell_type": "code",
   "execution_count": 16,
   "metadata": {},
   "outputs": [
    {
     "name": "stdout",
     "output_type": "stream",
     "text": [
      "1.84\n",
      "1.26\n"
     ]
    }
   ],
   "source": [
    "portfolio_beta = [1.26, 1.46, 1.3, 1.44, 1.84]\n",
    "print(max(portfolio_beta))       # Print Max Value of List\n",
    "print(min(portfolio_beta))       # Print Min Value of List"
   ]
  },
  {
   "cell_type": "markdown",
   "metadata": {},
   "source": [
    "<font color = 'blue'> **EXERCISE 2.2** </font>"
   ]
  },
  {
   "cell_type": "code",
   "execution_count": 17,
   "metadata": {},
   "outputs": [
    {
     "name": "stdout",
     "output_type": "stream",
     "text": [
      "['JPM', 'BAC', 'WFC', 'C', 'AXP']\n",
      "['JPM', 'BAC', 'WFC', 'C', 'PNC']\n",
      "False\n",
      "5\n"
     ]
    }
   ],
   "source": [
    "# Create and print a list called financials \n",
    "financials =['JPM', 'BAC', 'WFC', 'Citi', 'AXP'] \n",
    "\n",
    "# Change \"Citi\" to \"C\" and print the new list\n",
    "financials[3] = 'C'\n",
    "print(financials)\n",
    "\n",
    "# Remove \"AXP\", append \"PNC\", and print the new list\n",
    "financials.remove('AXP')\n",
    "financials.append('PNC')\n",
    "print(financials)\n",
    "\n",
    "# Check membership for \"BLK\" and print result\n",
    "print('BLK' in financials)\n",
    "\n",
    "# Print the length of financials\n",
    "print(len(financials))"
   ]
  },
  {
   "cell_type": "markdown",
   "metadata": {},
   "source": [
    "#### Tuples vs List\n",
    "They are similar, but not the same"
   ]
  },
  {
   "cell_type": "code",
   "execution_count": 18,
   "metadata": {},
   "outputs": [
    {
     "name": "stdout",
     "output_type": "stream",
     "text": [
      "(1, 2, 3, 4, 5)\n",
      "[1, 2, 3, 4, 5]\n"
     ]
    }
   ],
   "source": [
    "tuple_1 = (1,2,3,4,5)\n",
    "list_1 = [1,2,3,4,5]\n",
    "\n",
    "print(tuple_1)\n",
    "print(list_1)"
   ]
  },
  {
   "cell_type": "code",
   "execution_count": 19,
   "metadata": {},
   "outputs": [
    {
     "name": "stdout",
     "output_type": "stream",
     "text": [
      "[10, 2, 3, 4, 5]\n"
     ]
    }
   ],
   "source": [
    "list_1[0] = 10    # How to update element in List\n",
    "print(list_1)"
   ]
  },
  {
   "cell_type": "code",
   "execution_count": 20,
   "metadata": {},
   "outputs": [
    {
     "data": {
      "text/plain": [
       "1"
      ]
     },
     "execution_count": 20,
     "metadata": {},
     "output_type": "execute_result"
    }
   ],
   "source": [
    "tuple_1[0]"
   ]
  },
  {
   "cell_type": "code",
   "execution_count": 21,
   "metadata": {},
   "outputs": [
    {
     "ename": "TypeError",
     "evalue": "'tuple' object does not support item assignment",
     "output_type": "error",
     "traceback": [
      "\u001b[1;31m---------------------------------------------------------------------------\u001b[0m",
      "\u001b[1;31mTypeError\u001b[0m                                 Traceback (most recent call last)",
      "\u001b[1;32m<ipython-input-21-d238bc664258>\u001b[0m in \u001b[0;36m<module>\u001b[1;34m\u001b[0m\n\u001b[1;32m----> 1\u001b[1;33m \u001b[0mtuple_1\u001b[0m\u001b[1;33m[\u001b[0m\u001b[1;36m0\u001b[0m\u001b[1;33m]\u001b[0m \u001b[1;33m=\u001b[0m \u001b[1;36m10\u001b[0m   \u001b[1;31m# This shows that Tuples are immutable\u001b[0m\u001b[1;33m\u001b[0m\u001b[1;33m\u001b[0m\u001b[0m\n\u001b[0m",
      "\u001b[1;31mTypeError\u001b[0m: 'tuple' object does not support item assignment"
     ]
    }
   ],
   "source": [
    "tuple_1[0] = 10   # This shows that Tuples are immutable "
   ]
  },
  {
   "cell_type": "markdown",
   "metadata": {},
   "source": [
    "### 3. Sets\n",
    "In a set, elements in the data object are unique and not in specific order.\n",
    "\n",
    "To help remember the difference,\n",
    "1. The left most square bracket (**\\[**) looks like a capital L.\n",
    "2. The curly braces looks like a S.\n",
    "\n",
    "#### So L for list, and S is for Set"
   ]
  },
  {
   "cell_type": "code",
   "execution_count": 22,
   "metadata": {},
   "outputs": [],
   "source": [
    "# Lesson Workspace\n",
    "list_1 = ['a','a','b','b','c','c','d','d','e','e']\n",
    "set_1  = {'a','a','b','b','c','c','d','d','e','e'}"
   ]
  },
  {
   "cell_type": "code",
   "execution_count": 24,
   "metadata": {},
   "outputs": [
    {
     "name": "stdout",
     "output_type": "stream",
     "text": [
      "['a', 'a', 'b', 'b', 'c', 'c', 'd', 'd', 'e', 'e']\n"
     ]
    }
   ],
   "source": [
    "print(list_1)"
   ]
  },
  {
   "cell_type": "markdown",
   "metadata": {},
   "source": [
    "When we print out set 1, it's going to remove duplicates and scramble the order"
   ]
  },
  {
   "cell_type": "code",
   "execution_count": 25,
   "metadata": {},
   "outputs": [
    {
     "name": "stdout",
     "output_type": "stream",
     "text": [
      "{'a', 'b', 'c', 'e', 'd'}\n"
     ]
    }
   ],
   "source": [
    "print(set_1)"
   ]
  },
  {
   "cell_type": "code",
   "execution_count": 26,
   "metadata": {},
   "outputs": [
    {
     "name": "stdout",
     "output_type": "stream",
     "text": [
      "['IT', 'Consumer', 'IT', 'IT', 'Financials']\n",
      "{'IT', 'Consumer', 'Financials'}\n"
     ]
    }
   ],
   "source": [
    "list_1 = ['IT','Consumer','IT','IT','Financials']\n",
    "set_1  = {'IT','Consumer','IT','IT','Financials'}\n",
    "\n",
    "print(list_1)\n",
    "print(set_1)   # Fast way to remove duplicates and see unique values"
   ]
  },
  {
   "cell_type": "code",
   "execution_count": 27,
   "metadata": {},
   "outputs": [
    {
     "name": "stdout",
     "output_type": "stream",
     "text": [
      "['x', 'x', 'y', 'y', 'z', 'z']\n",
      "{'y', 'x', 'z'}\n"
     ]
    }
   ],
   "source": [
    "xyz_list = ['x','x','y','y','z','z']   # Create List object\n",
    "xyz_set  = set(xyz_list)               # Convert List object -> Set Object\n",
    "print(xyz_list)\n",
    "print(xyz_set)"
   ]
  },
  {
   "cell_type": "markdown",
   "metadata": {},
   "source": [
    "#### Go over 3 ways to manipulate sets\n",
    "Use the format `set_1.function(set_2)`\n",
    "1. `.union()`\n",
    "2. `.intersection()`\n",
    "3. `.difference()`"
   ]
  },
  {
   "cell_type": "code",
   "execution_count": 28,
   "metadata": {},
   "outputs": [
    {
     "name": "stdout",
     "output_type": "stream",
     "text": [
      "{'XOM', 'GOOGL', 'AMZN', 'AAPL', 'BRK/A', 'JNJ', 'MSFT'}\n",
      "{'MSFT'}\n",
      "--\n",
      "{'GOOGL', 'AAPL', 'AMZN', 'BRK/A'}\n",
      "{'XOM', 'JNJ'}\n"
     ]
    }
   ],
   "source": [
    "mkt_cap_over_500 = {'AAPL','AMZN','MSFT','GOOGL','BRK/A'}\n",
    "Aaa_rated = {'MSFT','JNJ','XOM'}\n",
    "\n",
    "# Order of Sets doesn't matter for below functions\n",
    "print(mkt_cap_over_500.union(Aaa_rated))        # Combine 2 sets \n",
    "print(mkt_cap_over_500.intersection(Aaa_rated)) # Find common elements\n",
    "\n",
    "print('--')\n",
    "\n",
    "# ORDER OF SETS DOES MATTER NOW !!!!\n",
    "print(mkt_cap_over_500.difference(Aaa_rated))   # Element of 500 not in AAA\n",
    "print(Aaa_rated.difference(mkt_cap_over_500))   # Element of AAA not in 500"
   ]
  },
  {
   "cell_type": "markdown",
   "metadata": {},
   "source": [
    "<font color = 'blue'> **EXERCISE 3.1** </font>"
   ]
  },
  {
   "cell_type": "markdown",
   "metadata": {},
   "source": [
    "From CFI - The **beta ($\\beta$)** of an investment security (i.e. a stock) is a measurement of its volatility of returns relative to the entire market. \n",
    "- It is used as a measure of risk and is an integral part of the Capital Asset Pricing Model (<font color='fa621c'>CAPM</font>). \n",
    "- A company with a higher beta has greater risk and also greater expected returns.\n",
    "\n",
    "The beta coefficient can be interpreted as follows:\n",
    "\n",
    "- $\\beta = 1$ exactly as volatile as the market\n",
    "- $\\beta > 1$ more volatile than the market\n",
    "- $\\beta<1>0$ less volatile than the market\n",
    "- $\\beta = 0$  uncorrelated to the market\n",
    "- $\\beta < 0$  negatively correlated to the market"
   ]
  },
  {
   "cell_type": "code",
   "execution_count": 29,
   "metadata": {},
   "outputs": [
    {
     "data": {
      "text/plain": [
       "{'ABBV', 'ABT', 'AMGN', 'JNJ', 'NFLX', 'NVDA', 'PFE', 'UNH'}"
      ]
     },
     "execution_count": 29,
     "metadata": {},
     "output_type": "execute_result"
    }
   ],
   "source": [
    "# Healthcare Companies: 'JNJ', 'UNH', 'PFE', 'ABBV', 'AMGN', 'ABT'\n",
    "# Companies with Beta > 1: 'ABBV', 'AMGN', 'ABT', 'NFLX', 'NVDA'\n",
    "\n",
    "healthcare = {'JNJ', 'UNH', 'PFE', 'ABBV', 'AMGN', 'ABT'}\n",
    "beta = {'ABBV', 'AMGN', 'ABT', 'NFLX', 'NVDA'}\n",
    "\n",
    "healthcare.union(beta)"
   ]
  },
  {
   "cell_type": "markdown",
   "metadata": {},
   "source": [
    "Which healthcare companies have a beta>1?"
   ]
  },
  {
   "cell_type": "code",
   "execution_count": 30,
   "metadata": {},
   "outputs": [
    {
     "data": {
      "text/plain": [
       "{'ABBV', 'ABT', 'AMGN'}"
      ]
     },
     "execution_count": 30,
     "metadata": {},
     "output_type": "execute_result"
    }
   ],
   "source": [
    "healthcare.intersection(beta)"
   ]
  },
  {
   "cell_type": "markdown",
   "metadata": {},
   "source": [
    "Which healthcare companies have a beta<1?"
   ]
  },
  {
   "cell_type": "code",
   "execution_count": 31,
   "metadata": {},
   "outputs": [
    {
     "data": {
      "text/plain": [
       "{'JNJ', 'PFE', 'UNH'}"
      ]
     },
     "execution_count": 31,
     "metadata": {},
     "output_type": "execute_result"
    }
   ],
   "source": [
    "healthcare.difference(beta)"
   ]
  },
  {
   "cell_type": "markdown",
   "metadata": {},
   "source": [
    "### 4. Dictionaries\n",
    "You can visualize the dictionary with keys and their associated values (could be string, integer, list, etc.)"
   ]
  },
  {
   "cell_type": "code",
   "execution_count": 32,
   "metadata": {},
   "outputs": [
    {
     "data": {
      "text/plain": [
       "{'JNJ': ['Johnson & Johnson', 0.86],\n",
       " 'UNH': ['UnitedHealth Group', 0.97],\n",
       " 'PFE': ['Pfizer Inc.', 0.81],\n",
       " 'ABBV': ['AbbVie Inc.', 1.39],\n",
       " 'AMGN': ['Angeb Inc.', 1.05],\n",
       " 'ABT': ['Abbot Labs', 1.07]}"
      ]
     },
     "execution_count": 32,
     "metadata": {},
     "output_type": "execute_result"
    }
   ],
   "source": [
    "healthcare_data = {\n",
    "    'JNJ'  : ['Johnson & Johnson',0.86],\n",
    "    'UNH'  : ['UnitedHealth Group',0.97],\n",
    "    'PFE'  : ['Pfizer Inc.',0.81],\n",
    "    'ABBV' : ['AbbVie Inc.',1.39],\n",
    "    'AMGN' : ['Angeb Inc.',1.05],\n",
    "    'ABT'  : ['Abbot Labs',1.07],\n",
    "}\n",
    "healthcare_data"
   ]
  },
  {
   "cell_type": "markdown",
   "metadata": {},
   "source": [
    "**Ways to interact with dictionaries**"
   ]
  },
  {
   "cell_type": "code",
   "execution_count": 33,
   "metadata": {},
   "outputs": [
    {
     "data": {
      "text/plain": [
       "['UnitedHealth Group', 0.97]"
      ]
     },
     "execution_count": 33,
     "metadata": {},
     "output_type": "execute_result"
    }
   ],
   "source": [
    "healthcare_data['UNH']         # Access UNH's value"
   ]
  },
  {
   "cell_type": "code",
   "execution_count": 34,
   "metadata": {},
   "outputs": [
    {
     "data": {
      "text/plain": [
       "'UnitedHealth Group'"
      ]
     },
     "execution_count": 34,
     "metadata": {},
     "output_type": "execute_result"
    }
   ],
   "source": [
    "healthcare_data['UNH'][0]      # Since Key's Value is list, you can access\n",
    "                               # elements inside the list"
   ]
  },
  {
   "cell_type": "code",
   "execution_count": 35,
   "metadata": {},
   "outputs": [
    {
     "data": {
      "text/plain": [
       "dict_keys(['JNJ', 'UNH', 'PFE', 'ABBV', 'AMGN', 'ABT'])"
      ]
     },
     "execution_count": 35,
     "metadata": {},
     "output_type": "execute_result"
    }
   ],
   "source": [
    "healthcare_beta_values = {\n",
    "    'JNJ'  : 0.86,\n",
    "    'UNH'  : 0.97,\n",
    "    'PFE'  : 0.81,\n",
    "    'ABBV' : 1.39,\n",
    "    'AMGN' : 1.05,\n",
    "    'ABT'  : 1.07,\n",
    "}\n",
    "\n",
    "healthcare_beta_values.keys()      # Display keys in dictionary"
   ]
  },
  {
   "cell_type": "code",
   "execution_count": 36,
   "metadata": {},
   "outputs": [
    {
     "data": {
      "text/plain": [
       "dict_values([0.86, 0.97, 0.81, 1.39, 1.05, 1.07])"
      ]
     },
     "execution_count": 36,
     "metadata": {},
     "output_type": "execute_result"
    }
   ],
   "source": [
    "healthcare_beta_values.values()    # Display Values in dictionary"
   ]
  },
  {
   "cell_type": "code",
   "execution_count": 37,
   "metadata": {},
   "outputs": [
    {
     "data": {
      "text/plain": [
       "dict_items([('JNJ', 0.86), ('UNH', 0.97), ('PFE', 0.81), ('ABBV', 1.39), ('AMGN', 1.05), ('ABT', 1.07)])"
      ]
     },
     "execution_count": 37,
     "metadata": {},
     "output_type": "execute_result"
    }
   ],
   "source": [
    "healthcare_beta_values.items()     # Display items in dictionary"
   ]
  },
  {
   "cell_type": "markdown",
   "metadata": {},
   "source": [
    "**Ways to modify an existing dictionary**"
   ]
  },
  {
   "cell_type": "code",
   "execution_count": 38,
   "metadata": {},
   "outputs": [
    {
     "data": {
      "text/plain": [
       "dict_keys(['JNJ', 'UNH', 'PFE', 'ABBV', 'AMGN', 'ABT', 'MRK'])"
      ]
     },
     "execution_count": 38,
     "metadata": {},
     "output_type": "execute_result"
    }
   ],
   "source": [
    "healthcare_beta_values['MRK'] = 0.65 # Add new item to existing dictionary\n",
    "healthcare_beta_values.keys()        # show that MRK key was added"
   ]
  },
  {
   "cell_type": "code",
   "execution_count": 39,
   "metadata": {},
   "outputs": [
    {
     "data": {
      "text/plain": [
       "0.71"
      ]
     },
     "execution_count": 39,
     "metadata": {},
     "output_type": "execute_result"
    }
   ],
   "source": [
    "healthcare_beta_values['MRK'] = 0.71 # Update value for key MRK\n",
    "healthcare_beta_values['MRK']        # Display value for MRK"
   ]
  },
  {
   "cell_type": "code",
   "execution_count": 40,
   "metadata": {},
   "outputs": [
    {
     "data": {
      "text/plain": [
       "dict_keys(['UNH', 'PFE', 'ABBV', 'AMGN', 'ABT', 'MRK'])"
      ]
     },
     "execution_count": 40,
     "metadata": {},
     "output_type": "execute_result"
    }
   ],
   "source": [
    "del healthcare_beta_values['JNJ']    # show that item with JNJ key\n",
    "healthcare_beta_values.keys()        # show that MRK key was deleted"
   ]
  },
  {
   "cell_type": "markdown",
   "metadata": {},
   "source": [
    "<font color = 'blue'> **EXERCISE 4.1** </font>"
   ]
  },
  {
   "cell_type": "markdown",
   "metadata": {},
   "source": [
    "1. **Define 6 lists using the data table**\n",
    "    1. Use company tickers for variable names (NOT A STRING)\n",
    "    2. The first object in each list should be the company’s current price, and the second object in each list should be the price target\n",
    "2. **Create a dictionary called price_dict with 6 items**\n",
    "    1. They key for each item should be a string of the company ticker\n",
    "    2. The value for each item should be the list defined in Step 1\n",
    "3. **Print** the entire value for **PFE**\n",
    "4. **Print** only the price target for **AMGN**"
   ]
  },
  {
   "cell_type": "code",
   "execution_count": 41,
   "metadata": {},
   "outputs": [
    {
     "name": "stdout",
     "output_type": "stream",
     "text": [
      "[42.96, 43.06]\n",
      "205.9\n"
     ]
    }
   ],
   "source": [
    "# Define lists - Current Price, Price Target\n",
    "jnj = [139.49,144.20]\n",
    "unh = [265.31,284.14]\n",
    "pfe = [42.96,43.06]\n",
    "abbv = [95.68,107.44]\n",
    "amgn = [200.58,205.90]\n",
    "abt = [68.42,71.06]\n",
    "\n",
    "# Create dictionary\n",
    "price_dict = {\n",
    "    'JNJ' : jnj,\n",
    "    'UNH' : unh,\n",
    "    'PFE' : pfe,\n",
    "    'ABBV' : abbv,\n",
    "    'AMGN' : amgn,\n",
    "    'ABT' : abt\n",
    "}\n",
    "\n",
    "# Print the entire value for PFE\n",
    "print(price_dict['PFE'])\n",
    "\n",
    "# Print the price target for AMGN\n",
    "print(price_dict['AMGN'][1])\n"
   ]
  },
  {
   "cell_type": "markdown",
   "metadata": {},
   "source": [
    "<font color = 'blue'> **EXERCISE 4.2** </font>\n",
    "1. Create a new item called “MRK” with current price 69.98 and target price 74.53, and then print the entire value of “MRK”\n",
    "\n",
    "2. Remove “JNJ” and print the dictionary keys\n"
   ]
  },
  {
   "cell_type": "code",
   "execution_count": 42,
   "metadata": {},
   "outputs": [
    {
     "data": {
      "text/plain": [
       "dict_keys(['UNH', 'PFE', 'ABBV', 'AMGN', 'ABT', 'MRK'])"
      ]
     },
     "execution_count": 42,
     "metadata": {},
     "output_type": "execute_result"
    }
   ],
   "source": [
    "price_dict['MRK'] = [69.98, 74.53]  # Add new item with new key MRK\n",
    "del price_dict['JNJ']               # Remove JNJ Key from dictionary\n",
    "price_dict.keys()                   # display key"
   ]
  }
 ],
 "metadata": {
  "kernelspec": {
   "display_name": "Python 3",
   "language": "python",
   "name": "python3"
  },
  "language_info": {
   "codemirror_mode": {
    "name": "ipython",
    "version": 3
   },
   "file_extension": ".py",
   "mimetype": "text/x-python",
   "name": "python",
   "nbconvert_exporter": "python",
   "pygments_lexer": "ipython3",
   "version": "3.8.5"
  }
 },
 "nbformat": 4,
 "nbformat_minor": 2
}
