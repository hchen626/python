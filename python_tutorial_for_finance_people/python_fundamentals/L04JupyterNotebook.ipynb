{
 "cells": [
  {
   "cell_type": "markdown",
   "metadata": {},
   "source": [
    "# NumPy\n",
    "Welcome to the fourth lesson! This Jupyter Notebook file is meant to accompany **L04 - NumPy.**"
   ]
  },
  {
   "cell_type": "markdown",
   "metadata": {},
   "source": [
    "Type your solutions for each exercise in the code cells below, and then press **Shift + Enter** to execute your code. Then, check the solution video to see how you did!"
   ]
  },
  {
   "cell_type": "markdown",
   "metadata": {},
   "source": [
    "1. <font color=blue>**Module**</font> is a collection of functions\n",
    "2. <font color=blue>**Package**</font> is collection of modules."
   ]
  },
  {
   "cell_type": "markdown",
   "metadata": {},
   "source": [
    "### 1. Introduction to NumPy"
   ]
  },
  {
   "cell_type": "code",
   "execution_count": 1,
   "metadata": {},
   "outputs": [],
   "source": [
    "import numpy as np"
   ]
  },
  {
   "cell_type": "markdown",
   "metadata": {},
   "source": [
    "### 2. NumPy Arrays\n",
    "All objects in a Numpy array  must be same type of object. \n",
    "- So you can't mix floats and integers\n",
    "- You can't mix strings and floats\n",
    "\n",
    "You can create a NumPy array by passing a list into the array function"
   ]
  },
  {
   "cell_type": "code",
   "execution_count": 2,
   "metadata": {},
   "outputs": [
    {
     "name": "stdout",
     "output_type": "stream",
     "text": [
      "[1 2 3 4 5]\n",
      "<class 'numpy.ndarray'>\n"
     ]
    }
   ],
   "source": [
    "array_1 = np.array([1,2,3,4,5])   # List got transformed into array\n",
    "print(array_1)\n",
    "print(type(array_1))"
   ]
  },
  {
   "cell_type": "code",
   "execution_count": 3,
   "metadata": {},
   "outputs": [
    {
     "name": "stdout",
     "output_type": "stream",
     "text": [
      "['1' '2' 'three' '4' '5']\n"
     ]
    }
   ],
   "source": [
    "# When you pass a list of different object types\n",
    "# NumPy will conver each object into string\n",
    "array_2 = np.array([1,2,'three', 4, 5]) \n",
    "print(array_2) "
   ]
  },
  {
   "cell_type": "code",
   "execution_count": 4,
   "metadata": {},
   "outputs": [
    {
     "name": "stdout",
     "output_type": "stream",
     "text": [
      "[1. 2. 3. 4. 5.]\n"
     ]
    }
   ],
   "source": [
    "array_3 = np.array([1,2,3.0,4,5])\n",
    "print(array_3)"
   ]
  },
  {
   "cell_type": "code",
   "execution_count": 5,
   "metadata": {},
   "outputs": [
    {
     "name": "stdout",
     "output_type": "stream",
     "text": [
      "[[1 2 3]\n",
      " [4 5 6]]\n",
      "---\n",
      "(2, 3)\n"
     ]
    }
   ],
   "source": [
    "array_4 = np.array([[1, 2, 3], [4, 5, 6]]) # Pass-in a list of 2 lists\n",
    "print(array_4)        # display array\n",
    "print('---')\n",
    "print(array_4.shape)  # display the shape of array_4"
   ]
  },
  {
   "cell_type": "markdown",
   "metadata": {},
   "source": [
    "<font color = 'blue'> **EXERCISE 2.1** </font>"
   ]
  },
  {
   "cell_type": "code",
   "execution_count": 6,
   "metadata": {},
   "outputs": [
    {
     "name": "stdout",
     "output_type": "stream",
     "text": [
      "[[1 2]\n",
      " [3 4]\n",
      " [5 6]]\n",
      "---\n",
      "(3, 2)\n"
     ]
    }
   ],
   "source": [
    "array_1 = np.array([ [1,2], [3,4], [5,6] ])\n",
    "print(array_1)\n",
    "print('---')\n",
    "print(array_1.shape)"
   ]
  },
  {
   "cell_type": "code",
   "execution_count": 7,
   "metadata": {},
   "outputs": [
    {
     "data": {
      "text/plain": [
       "array([[1, 2, 3],\n",
       "       [4, 5, 6]])"
      ]
     },
     "execution_count": 7,
     "metadata": {},
     "output_type": "execute_result"
    }
   ],
   "source": [
    "# Reshape and transpose\n",
    "array_1 = array_1.reshape(2,3)   # Number of Rows you want, Number of Columns you want\n",
    "array_1"
   ]
  },
  {
   "cell_type": "markdown",
   "metadata": {},
   "source": [
    "**Ways to interact with NumPy Arrays**"
   ]
  },
  {
   "cell_type": "markdown",
   "metadata": {},
   "source": [
    "1. Reshape to the original dimensions with 3 rows and 2 columns"
   ]
  },
  {
   "cell_type": "code",
   "execution_count": 8,
   "metadata": {},
   "outputs": [
    {
     "name": "stdout",
     "output_type": "stream",
     "text": [
      "Original Dimensions\n",
      "[[1 2]\n",
      " [3 4]\n",
      " [5 6]]\n",
      "---\n",
      "Transposed from Original\n",
      "[[1 3 5]\n",
      " [2 4 6]]\n"
     ]
    }
   ],
   "source": [
    "# Reshape to the original dimensions with 3 rows and 2 columns\n",
    "array_1 = array_1.reshape(3,2)   \n",
    "print('Original Dimensions')\n",
    "print(array_1)\n",
    "print('---')\n",
    "\n",
    "# transpose to 2 rows and 3 columns\n",
    "print('Transposed from Original')\n",
    "print(array_1.transpose())"
   ]
  },
  {
   "cell_type": "markdown",
   "metadata": {},
   "source": [
    "2. Access elements in lists vs. NumPy Array"
   ]
  },
  {
   "cell_type": "code",
   "execution_count": 9,
   "metadata": {},
   "outputs": [
    {
     "name": "stdout",
     "output_type": "stream",
     "text": [
      "5\n",
      "[1, 2, 3]\n"
     ]
    }
   ],
   "source": [
    "list_1 = [1, 2, 3, 4, 5]\n",
    "# Index   0  1  2  3  4\n",
    "\n",
    "print(list_1[4])   # Print index 4\n",
    "print(list_1[:3])  # Display first 3 elements; Or, access 0,1,2 (exclude index 3)"
   ]
  },
  {
   "cell_type": "code",
   "execution_count": 10,
   "metadata": {},
   "outputs": [
    {
     "data": {
      "text/plain": [
       "6"
      ]
     },
     "execution_count": 10,
     "metadata": {},
     "output_type": "execute_result"
    }
   ],
   "source": [
    "array_x = np.array([\n",
    "    [1,2,3],\n",
    "    [4,5,6],\n",
    "    [7,8,9]\n",
    "])\n",
    "\n",
    "array_x[1,2]"
   ]
  },
  {
   "cell_type": "code",
   "execution_count": 11,
   "metadata": {},
   "outputs": [
    {
     "name": "stdout",
     "output_type": "stream",
     "text": [
      "[[1 2]\n",
      " [4 5]]\n"
     ]
    }
   ],
   "source": [
    "print(array_x[0:2, 0:2]) # Range of Rows that you want, Range of columns "
   ]
  },
  {
   "cell_type": "markdown",
   "metadata": {},
   "source": [
    "<font color = 'blue'> **EXERCISE 2.2** </font>"
   ]
  },
  {
   "cell_type": "code",
   "execution_count": 12,
   "metadata": {},
   "outputs": [],
   "source": [
    "array_a = np.array([\n",
    "    ['n', 'e', 'w', 'y', '_', 's'],\n",
    "    ['t', 'o', 'c', 'k', '_', 'r'],\n",
    "    ['_', '_', '_', 'k', 'e', 'x'],\n",
    "    ['c', 'h', 'a', 'n', 'g', 'e']\n",
    "])"
   ]
  },
  {
   "cell_type": "code",
   "execution_count": 13,
   "metadata": {},
   "outputs": [
    {
     "name": "stdout",
     "output_type": "stream",
     "text": [
      "[['n' 'e' 'w' 'y']\n",
      " ['_' 's' 't' 'o']\n",
      " ['c' 'k' '_' 'r']\n",
      " ['_' '_' '_' 'k']\n",
      " ['e' 'x' 'c' 'h']\n",
      " ['a' 'n' 'g' 'e']]\n"
     ]
    }
   ],
   "source": [
    "# Reshape to 6 rows and 4 columns and print\n",
    "array_b = array_a.reshape(6,4)\n",
    "print(array_b)\n"
   ]
  },
  {
   "cell_type": "code",
   "execution_count": 14,
   "metadata": {},
   "outputs": [
    {
     "name": "stdout",
     "output_type": "stream",
     "text": [
      "['n' 'e' 'w']\n",
      "['y' 'o' 'r' 'k']\n",
      "['s' 't' 'o'] ['c' 'k']\n",
      "['e' 'x' 'c' 'h'] ['a' 'n' 'g' 'e']\n"
     ]
    }
   ],
   "source": [
    "# Print 'new york stock exchange' from array_b (one word per line)\n",
    "print(array_b[0, :3])                    # print first row with first 3 columns\n",
    "print(array_b[:4, 3])                    # print first 4 rows, and index 3 \n",
    "print(array_b[1, 1:], array_b[2, :2])\n",
    "print(array_b[4, :],  array_b[5, :] )    "
   ]
  },
  {
   "cell_type": "markdown",
   "metadata": {},
   "source": [
    "### 3. NumPy Array Functions"
   ]
  },
  {
   "cell_type": "code",
   "execution_count": 15,
   "metadata": {},
   "outputs": [
    {
     "name": "stdout",
     "output_type": "stream",
     "text": [
      "[[ 6  8]\n",
      " [10 12]]\n",
      "---\n",
      "[[16 18]\n",
      " [20 22]]\n",
      "---\n",
      "[[2.44948974 2.82842712]\n",
      " [3.16227766 3.46410162]]\n",
      "---\n",
      "[[2.45 2.83]\n",
      " [3.16 3.46]]\n",
      "---\n",
      "Sum of all objects = 36\n",
      "Min = 6\n",
      "Max = 12\n",
      "---\n",
      "Sum Across Rows = [16 20]\n",
      "Min Across Columns = [ 6 10]\n",
      "Max Across Columns = [ 8 12]\n"
     ]
    }
   ],
   "source": [
    "array_x = np.array([\n",
    "    [1,2],\n",
    "    [3,4]\n",
    "])\n",
    "\n",
    "array_y = np.array([\n",
    "    [5,6],\n",
    "    [7,8]\n",
    "])\n",
    "\n",
    "array_z = array_x + array_y   # Add elements in 2d-arrays by corresponding positions\n",
    "print(array_z)\n",
    "print('---')\n",
    "print(array_z + 10)           # Add 10 to each element\n",
    "\n",
    "# Useful NumPy functions\n",
    "# np.round()\n",
    "# np.sqrt()\n",
    "# np.abs()\n",
    "# np.power()\n",
    "\n",
    "print('---')\n",
    "root_z = np.sqrt(array_z)\n",
    "print(root_z)\n",
    "print('---')\n",
    "print(np.round(root_z, 2))\n",
    "print('---')\n",
    "print('Sum of all objects = {}'.format( np.sum(array_z) ))\n",
    "print('Min = {}'.format( np.min(array_z) ))\n",
    "print('Max = {}'.format( np.max(array_z) ))\n",
    "\n",
    "print('---')\n",
    "print('Sum Across Rows = {}'.format( np.sum(array_z, axis=0) ))\n",
    "print('Min Across Columns = {}'.format( np.min(array_z, axis=1) ))\n",
    "print('Max Across Columns = {}'.format( np.max(array_z, axis=1) ))"
   ]
  },
  {
   "cell_type": "markdown",
   "metadata": {},
   "source": [
    "<font color = 'blue'> **EXERCISE 3.1** </font>\n",
    "We’re looking at 3 tech companies, 3 financial companies and 3 healthcare companies. Each of these industries is organized into a column. Execute the cell to define those arrays and complete the following steps:\n",
    "\n",
    "1. Create a new array called **price_increases** by subtracting **current_prices** from **target_prices**\n",
    "2. Print **price_increases**\n",
    "3. Create a new array called **returns** by dividing **price_increases** by **current_prices** and rounding the result to 3 decimal places\n",
    "4. Print **returns**\n",
    "5. Print the maximum value in returns\n",
    "6. Print the mean **returns** for each industry column rounded to 3 decimal places\n"
   ]
  },
  {
   "cell_type": "code",
   "execution_count": 16,
   "metadata": {},
   "outputs": [],
   "source": [
    "current_prices = np.array([\n",
    "    [223.84, 113.5, 139.49],\n",
    "    [113.37, 30.37, 265.31],\n",
    "    [1177.98, 54.73, 42.96],\n",
    "])\n",
    "\n",
    "target_prices = np.array([\n",
    "    [232.27, 112.15, 144.2],\n",
    "    [122.3, 34.33, 284.14],\n",
    "    [1384.89, 62.12, 43.06],\n",
    "]) "
   ]
  },
  {
   "cell_type": "code",
   "execution_count": 17,
   "metadata": {},
   "outputs": [
    {
     "name": "stdout",
     "output_type": "stream",
     "text": [
      "[[ 8.4300e+00 -1.3500e+00  4.7100e+00]\n",
      " [ 8.9300e+00  3.9600e+00  1.8830e+01]\n",
      " [ 2.0691e+02  7.3900e+00  1.0000e-01]]\n",
      "---\n",
      "[[ 0.038 -0.012  0.034]\n",
      " [ 0.079  0.13   0.071]\n",
      " [ 0.176  0.135  0.002]]\n",
      "---\n",
      "0.176\n",
      "---\n",
      "[0.098 0.084 0.036]\n"
     ]
    }
   ],
   "source": [
    "price_increases = target_prices - current_prices\n",
    "print(price_increases)\n",
    "print('---')\n",
    "\n",
    "returns = np.round(price_increases / current_prices, 3)\n",
    "print(returns)\n",
    "print('---')\n",
    "\n",
    "print(np.max(returns))\n",
    "print('---')\n",
    "\n",
    "print(np.round(np.mean(returns, axis=0), 3))"
   ]
  },
  {
   "cell_type": "markdown",
   "metadata": {},
   "source": [
    "### 4. NumPy Random Tools"
   ]
  },
  {
   "cell_type": "code",
   "execution_count": 18,
   "metadata": {},
   "outputs": [
    {
     "name": "stdout",
     "output_type": "stream",
     "text": [
      "[8]\n"
     ]
    }
   ],
   "source": [
    "# low = lower boundary (inclusive)\n",
    "# high = upper boundary (exclusive)\n",
    "# size = the number of random numbers you want to generate\n",
    "\n",
    "# Generate Random number from 1 to 10\n",
    "print(np.random.randint(low=1, high=11, size=1))"
   ]
  },
  {
   "cell_type": "code",
   "execution_count": 19,
   "metadata": {},
   "outputs": [
    {
     "name": "stdout",
     "output_type": "stream",
     "text": [
      "[10  1  4  2  6  9  3  5  2  3]\n",
      "(10,)\n"
     ]
    }
   ],
   "source": [
    "rand_array = np.random.randint(low=1, high=11, size=10)\n",
    "print(rand_array)\n",
    "\n",
    "print(rand_array.shape)\n",
    "\n"
   ]
  },
  {
   "cell_type": "code",
   "execution_count": 20,
   "metadata": {},
   "outputs": [
    {
     "name": "stdout",
     "output_type": "stream",
     "text": [
      "[[10  1]\n",
      " [ 4  2]\n",
      " [ 6  9]\n",
      " [ 3  5]\n",
      " [ 2  3]]\n"
     ]
    }
   ],
   "source": [
    "rand_array = rand_array.reshape(5,2)\n",
    "print(rand_array)"
   ]
  },
  {
   "cell_type": "code",
   "execution_count": 21,
   "metadata": {},
   "outputs": [
    {
     "name": "stdout",
     "output_type": "stream",
     "text": [
      "[[ 6  5]\n",
      " [ 8  6]\n",
      " [ 7 10]\n",
      " [ 8  3]\n",
      " [ 4  8]]\n",
      "(5, 2)\n"
     ]
    }
   ],
   "source": [
    "rand_array = np.random.randint(low=1, high=11, size=(5,2)) # 5 rows and 2 columns\n",
    "print(rand_array)\n",
    "\n",
    "print(rand_array.shape)"
   ]
  },
  {
   "cell_type": "code",
   "execution_count": 22,
   "metadata": {},
   "outputs": [
    {
     "name": "stdout",
     "output_type": "stream",
     "text": [
      "[ 1  2  3  4  5  6  7  8  9 10]\n"
     ]
    }
   ],
   "source": [
    "ordered_array = np.array(range(1,11))\n",
    "print(ordered_array)"
   ]
  },
  {
   "cell_type": "markdown",
   "metadata": {},
   "source": [
    "Samping with and without replacement"
   ]
  },
  {
   "cell_type": "code",
   "execution_count": 23,
   "metadata": {},
   "outputs": [
    {
     "name": "stdout",
     "output_type": "stream",
     "text": [
      "[10  5  1  2 10]\n"
     ]
    }
   ],
   "source": [
    "np.random.seed(10)\n",
    "# Sampling with Replacement\n",
    "print(np.random.choice(ordered_array, 5)) "
   ]
  },
  {
   "cell_type": "code",
   "execution_count": 24,
   "metadata": {},
   "outputs": [
    {
     "name": "stdout",
     "output_type": "stream",
     "text": [
      "[9 3 6 7 4]\n"
     ]
    }
   ],
   "source": [
    "np.random.seed(10)\n",
    "# Sampling without Replacement\n",
    "# Only unique values; Can only be chosen once\n",
    "print(np.random.choice(ordered_array, 5, replace=False)) \n"
   ]
  },
  {
   "cell_type": "markdown",
   "metadata": {},
   "source": [
    "Brief Detour on Range, which creates a range of numbers in sequence.\n",
    "- This is good for creating an iteratable \n",
    "\n",
    "- In the below example, starting with 1 and **excluding** 6"
   ]
  },
  {
   "cell_type": "code",
   "execution_count": 25,
   "metadata": {},
   "outputs": [
    {
     "name": "stdout",
     "output_type": "stream",
     "text": [
      "1\n",
      "2\n",
      "3\n",
      "4\n",
      "5\n"
     ]
    }
   ],
   "source": [
    "for number in range(1,6):\n",
    "    print(number)"
   ]
  },
  {
   "cell_type": "markdown",
   "metadata": {},
   "source": [
    "<font color = 'blue'> **EXERCISE 4.1** </font>"
   ]
  },
  {
   "cell_type": "markdown",
   "metadata": {},
   "source": [
    "1. Set the random seed to 99\n",
    "2. Generate an array of random integers between 1 and 25 named rand_array with 5 rows and 5 columns\n",
    "3. Print rand_array"
   ]
  },
  {
   "cell_type": "code",
   "execution_count": 26,
   "metadata": {},
   "outputs": [
    {
     "name": "stdout",
     "output_type": "stream",
     "text": [
      "[[ 2  4  9 10  9]\n",
      " [19  5  6 21  2]\n",
      " [24  4 24 18  2]\n",
      " [17  7 12 21 24]\n",
      " [ 3  1 13  9  9]]\n"
     ]
    }
   ],
   "source": [
    "# Set the random seed to 99\n",
    "np.random.seed(99) \n",
    "\n",
    "# Generate an array of random integers between 1 and 25 named rand_array \n",
    "# with 5 rows and 5 columns\n",
    "rand_array=np.random.randint(1,26, size=(5,5))\n",
    "print(rand_array)"
   ]
  },
  {
   "cell_type": "markdown",
   "metadata": {},
   "source": [
    "4. Choose and print a random sample of 5 numbers from the **second row** of **rand_array** with replacement"
   ]
  },
  {
   "cell_type": "code",
   "execution_count": 27,
   "metadata": {},
   "outputs": [
    {
     "name": "stdout",
     "output_type": "stream",
     "text": [
      "[ 2  5 21  6 21]\n"
     ]
    }
   ],
   "source": [
    "print(np.random.choice(rand_array[1, :], 5)) # Sampling with Replacement"
   ]
  },
  {
   "cell_type": "markdown",
   "metadata": {},
   "source": [
    "5. Generate an array of ordered integers from 1 to 25 named ordered_array and **reshape to 5 rows and 5 columns**\n",
    "6. Print **order_array**"
   ]
  },
  {
   "cell_type": "code",
   "execution_count": 28,
   "metadata": {},
   "outputs": [
    {
     "name": "stdout",
     "output_type": "stream",
     "text": [
      "[[ 1  2  3  4  5]\n",
      " [ 6  7  8  9 10]\n",
      " [11 12 13 14 15]\n",
      " [16 17 18 19 20]\n",
      " [21 22 23 24 25]]\n"
     ]
    }
   ],
   "source": [
    "ordered_array = np.array(range(1, 26)).reshape(5,5)\n",
    "print(ordered_array)"
   ]
  },
  {
   "cell_type": "markdown",
   "metadata": {},
   "source": [
    "7. Choose and print a random sample of 5 numbers from the **third column** of ordered_array without replacement"
   ]
  },
  {
   "cell_type": "code",
   "execution_count": 29,
   "metadata": {},
   "outputs": [
    {
     "name": "stdout",
     "output_type": "stream",
     "text": [
      "[13 18  8  3 23]\n"
     ]
    }
   ],
   "source": [
    "# Sampling with Replacement\n",
    "print(np.random.choice(ordered_array[:, 2], 5, replace=False) ) "
   ]
  }
 ],
 "metadata": {
  "kernelspec": {
   "display_name": "Python 3",
   "language": "python",
   "name": "python3"
  },
  "language_info": {
   "codemirror_mode": {
    "name": "ipython",
    "version": 3
   },
   "file_extension": ".py",
   "mimetype": "text/x-python",
   "name": "python",
   "nbconvert_exporter": "python",
   "pygments_lexer": "ipython3",
   "version": "3.8.5"
  }
 },
 "nbformat": 4,
 "nbformat_minor": 2
}
