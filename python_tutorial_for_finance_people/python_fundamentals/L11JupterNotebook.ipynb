{
 "cells": [
  {
   "cell_type": "markdown",
   "metadata": {},
   "source": [
    "# Investor Classifier, Part II\n",
    "Welcome to the eleventh lesson! This Jupyter Notebook file is meant to accompany **L11 - Investor Classifier II.**"
   ]
  },
  {
   "cell_type": "markdown",
   "metadata": {},
   "source": [
    "##### Harry - I will be adding commentary from the course and myself to help anyone follow the lesson"
   ]
  },
  {
   "cell_type": "markdown",
   "metadata": {},
   "source": [
    "### 1. Redundant Features & Dummy Variables"
   ]
  },
  {
   "cell_type": "markdown",
   "metadata": {},
   "source": [
    "**Lesson Workspace**"
   ]
  },
  {
   "cell_type": "code",
   "execution_count": 1,
   "metadata": {},
   "outputs": [],
   "source": [
    "# Import NumPy, Pandas, Pyplot, and Seaborn\n",
    "import numpy as np\n",
    "import pandas as pd\n",
    "from matplotlib import pyplot as plt\n",
    "import seaborn as sns\n",
    "import sklearn"
   ]
  },
  {
   "cell_type": "code",
   "execution_count": 2,
   "metadata": {},
   "outputs": [
    {
     "data": {
      "text/html": [
       "<div>\n",
       "<style scoped>\n",
       "    .dataframe tbody tr th:only-of-type {\n",
       "        vertical-align: middle;\n",
       "    }\n",
       "\n",
       "    .dataframe tbody tr th {\n",
       "        vertical-align: top;\n",
       "    }\n",
       "\n",
       "    .dataframe thead th {\n",
       "        text-align: right;\n",
       "    }\n",
       "</style>\n",
       "<table border=\"1\" class=\"dataframe\">\n",
       "  <thead>\n",
       "    <tr style=\"text-align: right;\">\n",
       "      <th></th>\n",
       "      <th>investor</th>\n",
       "      <th>commit</th>\n",
       "      <th>deal_size</th>\n",
       "      <th>invite</th>\n",
       "      <th>rating</th>\n",
       "      <th>int_rate</th>\n",
       "      <th>covenants</th>\n",
       "      <th>total_fees</th>\n",
       "      <th>fee_share</th>\n",
       "      <th>prior_tier</th>\n",
       "      <th>invite_tier</th>\n",
       "      <th>tier_change</th>\n",
       "      <th>fee_percent</th>\n",
       "      <th>invite_percent</th>\n",
       "    </tr>\n",
       "  </thead>\n",
       "  <tbody>\n",
       "    <tr>\n",
       "      <th>0</th>\n",
       "      <td>Goldman Sachs</td>\n",
       "      <td>Commit</td>\n",
       "      <td>300</td>\n",
       "      <td>40</td>\n",
       "      <td>2</td>\n",
       "      <td>Market</td>\n",
       "      <td>2</td>\n",
       "      <td>30</td>\n",
       "      <td>0.0</td>\n",
       "      <td>Participant</td>\n",
       "      <td>Bookrunner</td>\n",
       "      <td>Promoted</td>\n",
       "      <td>0.000000</td>\n",
       "      <td>0.133333</td>\n",
       "    </tr>\n",
       "    <tr>\n",
       "      <th>1</th>\n",
       "      <td>Deutsche Bank</td>\n",
       "      <td>Decline</td>\n",
       "      <td>1200</td>\n",
       "      <td>140</td>\n",
       "      <td>2</td>\n",
       "      <td>Market</td>\n",
       "      <td>2</td>\n",
       "      <td>115</td>\n",
       "      <td>20.1</td>\n",
       "      <td>Bookrunner</td>\n",
       "      <td>Participant</td>\n",
       "      <td>Demoted</td>\n",
       "      <td>0.174783</td>\n",
       "      <td>0.116667</td>\n",
       "    </tr>\n",
       "    <tr>\n",
       "      <th>2</th>\n",
       "      <td>Bank of America</td>\n",
       "      <td>Commit</td>\n",
       "      <td>900</td>\n",
       "      <td>130</td>\n",
       "      <td>3</td>\n",
       "      <td>Market</td>\n",
       "      <td>2</td>\n",
       "      <td>98</td>\n",
       "      <td>24.4</td>\n",
       "      <td>Bookrunner</td>\n",
       "      <td>Bookrunner</td>\n",
       "      <td>None</td>\n",
       "      <td>0.248980</td>\n",
       "      <td>0.144444</td>\n",
       "    </tr>\n",
       "  </tbody>\n",
       "</table>\n",
       "</div>"
      ],
      "text/plain": [
       "          investor   commit  deal_size  invite  rating int_rate  covenants  \\\n",
       "0    Goldman Sachs   Commit        300      40       2   Market          2   \n",
       "1    Deutsche Bank  Decline       1200     140       2   Market          2   \n",
       "2  Bank of America   Commit        900     130       3   Market          2   \n",
       "\n",
       "   total_fees  fee_share   prior_tier  invite_tier tier_change  fee_percent  \\\n",
       "0          30        0.0  Participant   Bookrunner    Promoted     0.000000   \n",
       "1         115       20.1   Bookrunner  Participant     Demoted     0.174783   \n",
       "2          98       24.4   Bookrunner   Bookrunner        None     0.248980   \n",
       "\n",
       "   invite_percent  \n",
       "0        0.133333  \n",
       "1        0.116667  \n",
       "2        0.144444  "
      ]
     },
     "execution_count": 2,
     "metadata": {},
     "output_type": "execute_result"
    }
   ],
   "source": [
    "# Create a new DataFrame with investor_data_2.csv\n",
    "investor_data = pd.read_csv('.\\\\investor_data_2.csv')\n",
    "\n",
    "# display first three rows\n",
    "investor_data.head(3)"
   ]
  },
  {
   "cell_type": "markdown",
   "metadata": {},
   "source": [
    "<font color = 'blue'> **EXERCISE 1.1** </font> Drop Function Exercise"
   ]
  },
  {
   "cell_type": "code",
   "execution_count": 3,
   "metadata": {},
   "outputs": [
    {
     "data": {
      "text/plain": [
       "(7233, 11)"
      ]
     },
     "execution_count": 3,
     "metadata": {},
     "output_type": "execute_result"
    }
   ],
   "source": [
    "# Remove the invite_tier, fee_share, and invite features\n",
    "investor_data = investor_data.drop(['invite','fee_share','invite_tier'], axis=1)\n",
    "\n",
    "# Display shape of dataframe: 7233 rows and 11 columns\n",
    "investor_data.shape\n"
   ]
  },
  {
   "cell_type": "markdown",
   "metadata": {},
   "source": [
    "<font color = 'blue'> **EXERCISE 1.2** </font> Dummy Variables Exercise\n",
    "\n",
    "Convert **Categorical features** into **True/False** values in the form of **1** and **0**"
   ]
  },
  {
   "cell_type": "code",
   "execution_count": 4,
   "metadata": {},
   "outputs": [
    {
     "data": {
      "text/plain": [
       "(7233, 21)"
      ]
     },
     "execution_count": 4,
     "metadata": {},
     "output_type": "execute_result"
    }
   ],
   "source": [
    "# Create dummy variables\n",
    "investor_data = pd.get_dummies(investor_data)\n",
    "\n",
    "# Display shape of dataframe - should see increase in number of columns\n",
    "investor_data.shape"
   ]
  },
  {
   "cell_type": "code",
   "execution_count": 5,
   "metadata": {},
   "outputs": [
    {
     "data": {
      "text/html": [
       "<div>\n",
       "<style scoped>\n",
       "    .dataframe tbody tr th:only-of-type {\n",
       "        vertical-align: middle;\n",
       "    }\n",
       "\n",
       "    .dataframe tbody tr th {\n",
       "        vertical-align: top;\n",
       "    }\n",
       "\n",
       "    .dataframe thead th {\n",
       "        text-align: right;\n",
       "    }\n",
       "</style>\n",
       "<table border=\"1\" class=\"dataframe\">\n",
       "  <thead>\n",
       "    <tr style=\"text-align: right;\">\n",
       "      <th></th>\n",
       "      <th>deal_size</th>\n",
       "      <th>rating</th>\n",
       "      <th>covenants</th>\n",
       "      <th>total_fees</th>\n",
       "      <th>fee_percent</th>\n",
       "      <th>invite_percent</th>\n",
       "      <th>investor_Bank of America</th>\n",
       "      <th>investor_Deutsche Bank</th>\n",
       "      <th>investor_Goldman Sachs</th>\n",
       "      <th>investor_MUFG Union</th>\n",
       "      <th>...</th>\n",
       "      <th>commit_Commit</th>\n",
       "      <th>commit_Decline</th>\n",
       "      <th>int_rate_Above</th>\n",
       "      <th>int_rate_Below</th>\n",
       "      <th>int_rate_Market</th>\n",
       "      <th>prior_tier_Bookrunner</th>\n",
       "      <th>prior_tier_Participant</th>\n",
       "      <th>tier_change_Demoted</th>\n",
       "      <th>tier_change_None</th>\n",
       "      <th>tier_change_Promoted</th>\n",
       "    </tr>\n",
       "  </thead>\n",
       "  <tbody>\n",
       "    <tr>\n",
       "      <th>0</th>\n",
       "      <td>300</td>\n",
       "      <td>2</td>\n",
       "      <td>2</td>\n",
       "      <td>30</td>\n",
       "      <td>0.0</td>\n",
       "      <td>0.133333</td>\n",
       "      <td>0</td>\n",
       "      <td>0</td>\n",
       "      <td>1</td>\n",
       "      <td>0</td>\n",
       "      <td>...</td>\n",
       "      <td>1</td>\n",
       "      <td>0</td>\n",
       "      <td>0</td>\n",
       "      <td>0</td>\n",
       "      <td>1</td>\n",
       "      <td>0</td>\n",
       "      <td>1</td>\n",
       "      <td>0</td>\n",
       "      <td>0</td>\n",
       "      <td>1</td>\n",
       "    </tr>\n",
       "  </tbody>\n",
       "</table>\n",
       "<p>1 rows × 21 columns</p>\n",
       "</div>"
      ],
      "text/plain": [
       "   deal_size  rating  covenants  total_fees  fee_percent  invite_percent  \\\n",
       "0        300       2          2          30          0.0        0.133333   \n",
       "\n",
       "   investor_Bank of America  investor_Deutsche Bank  investor_Goldman Sachs  \\\n",
       "0                         0                       0                       1   \n",
       "\n",
       "   investor_MUFG Union  ...  commit_Commit  commit_Decline  int_rate_Above  \\\n",
       "0                    0  ...              1               0               0   \n",
       "\n",
       "   int_rate_Below  int_rate_Market  prior_tier_Bookrunner  \\\n",
       "0               0                1                      0   \n",
       "\n",
       "   prior_tier_Participant  tier_change_Demoted  tier_change_None  \\\n",
       "0                       1                    0                 0   \n",
       "\n",
       "   tier_change_Promoted  \n",
       "0                     1  \n",
       "\n",
       "[1 rows x 21 columns]"
      ]
     },
     "execution_count": 5,
     "metadata": {},
     "output_type": "execute_result"
    }
   ],
   "source": [
    "#you will now notice new Series like the following\n",
    "investor_data.head(1) "
   ]
  },
  {
   "cell_type": "markdown",
   "metadata": {},
   "source": [
    "<i>Harry - To help illustrate, notice the new columns with a prefix of \"investor_\"</i>"
   ]
  },
  {
   "cell_type": "code",
   "execution_count": 6,
   "metadata": {},
   "outputs": [
    {
     "data": {
      "text/html": [
       "<div>\n",
       "<style scoped>\n",
       "    .dataframe tbody tr th:only-of-type {\n",
       "        vertical-align: middle;\n",
       "    }\n",
       "\n",
       "    .dataframe tbody tr th {\n",
       "        vertical-align: top;\n",
       "    }\n",
       "\n",
       "    .dataframe thead th {\n",
       "        text-align: right;\n",
       "    }\n",
       "</style>\n",
       "<table border=\"1\" class=\"dataframe\">\n",
       "  <thead>\n",
       "    <tr style=\"text-align: right;\">\n",
       "      <th></th>\n",
       "      <th>investor_Bank of America</th>\n",
       "      <th>investor_Deutsche Bank</th>\n",
       "      <th>investor_Goldman Sachs</th>\n",
       "      <th>investor_MUFG Union</th>\n",
       "      <th>investor_Wells Fargo</th>\n",
       "    </tr>\n",
       "  </thead>\n",
       "  <tbody>\n",
       "    <tr>\n",
       "      <th>0</th>\n",
       "      <td>0</td>\n",
       "      <td>0</td>\n",
       "      <td>1</td>\n",
       "      <td>0</td>\n",
       "      <td>0</td>\n",
       "    </tr>\n",
       "    <tr>\n",
       "      <th>1</th>\n",
       "      <td>0</td>\n",
       "      <td>1</td>\n",
       "      <td>0</td>\n",
       "      <td>0</td>\n",
       "      <td>0</td>\n",
       "    </tr>\n",
       "    <tr>\n",
       "      <th>2</th>\n",
       "      <td>1</td>\n",
       "      <td>0</td>\n",
       "      <td>0</td>\n",
       "      <td>0</td>\n",
       "      <td>0</td>\n",
       "    </tr>\n",
       "  </tbody>\n",
       "</table>\n",
       "</div>"
      ],
      "text/plain": [
       "   investor_Bank of America  investor_Deutsche Bank  investor_Goldman Sachs  \\\n",
       "0                         0                       0                       1   \n",
       "1                         0                       1                       0   \n",
       "2                         1                       0                       0   \n",
       "\n",
       "   investor_MUFG Union  investor_Wells Fargo  \n",
       "0                    0                     0  \n",
       "1                    0                     0  \n",
       "2                    0                     0  "
      ]
     },
     "execution_count": 6,
     "metadata": {},
     "output_type": "execute_result"
    }
   ],
   "source": [
    "# For example investor_\n",
    "investor_data.filter(regex='^investor_',axis=1).head(3) "
   ]
  },
  {
   "cell_type": "markdown",
   "metadata": {},
   "source": [
    "**Lesson Workspace**\n",
    "\n",
    "When you created your **dummy variables**, your target feature **commit** was split into `commit_Commit` and `commit_Decline`.\n",
    "- Since these series are mirror images of each other, you only need one of them."
   ]
  },
  {
   "cell_type": "code",
   "execution_count": 7,
   "metadata": {},
   "outputs": [
    {
     "data": {
      "text/html": [
       "<div>\n",
       "<style scoped>\n",
       "    .dataframe tbody tr th:only-of-type {\n",
       "        vertical-align: middle;\n",
       "    }\n",
       "\n",
       "    .dataframe tbody tr th {\n",
       "        vertical-align: top;\n",
       "    }\n",
       "\n",
       "    .dataframe thead th {\n",
       "        text-align: right;\n",
       "    }\n",
       "</style>\n",
       "<table border=\"1\" class=\"dataframe\">\n",
       "  <thead>\n",
       "    <tr style=\"text-align: right;\">\n",
       "      <th></th>\n",
       "      <th>commit_Commit</th>\n",
       "      <th>commit_Decline</th>\n",
       "    </tr>\n",
       "  </thead>\n",
       "  <tbody>\n",
       "    <tr>\n",
       "      <th>0</th>\n",
       "      <td>1</td>\n",
       "      <td>0</td>\n",
       "    </tr>\n",
       "    <tr>\n",
       "      <th>1</th>\n",
       "      <td>0</td>\n",
       "      <td>1</td>\n",
       "    </tr>\n",
       "    <tr>\n",
       "      <th>2</th>\n",
       "      <td>1</td>\n",
       "      <td>0</td>\n",
       "    </tr>\n",
       "  </tbody>\n",
       "</table>\n",
       "</div>"
      ],
      "text/plain": [
       "   commit_Commit  commit_Decline\n",
       "0              1               0\n",
       "1              0               1\n",
       "2              1               0"
      ]
     },
     "execution_count": 7,
     "metadata": {},
     "output_type": "execute_result"
    }
   ],
   "source": [
    "# Display columns that start with commit_\n",
    "investor_data.filter(regex='^commit_',axis=1).head(3) "
   ]
  },
  {
   "cell_type": "code",
   "execution_count": 8,
   "metadata": {},
   "outputs": [
    {
     "data": {
      "text/plain": [
       "(7233, 20)"
      ]
     },
     "execution_count": 8,
     "metadata": {},
     "output_type": "execute_result"
    }
   ],
   "source": [
    "# Drop the commit_Commit Series from your DataFrame\n",
    "# investor_data = investor_data.drop('commit_Commit', axis=1)\n",
    "investor_data.drop('commit_Commit', axis=1, inplace=True) #Go with inplace\n",
    "\n",
    "# Display shape of dataframe - should be one less column\n",
    "investor_data.shape"
   ]
  },
  {
   "cell_type": "code",
   "execution_count": 9,
   "metadata": {},
   "outputs": [
    {
     "name": "stdout",
     "output_type": "stream",
     "text": [
      "Shape of target: (7233,)  ; Shape of inputs: (7233, 19)\n"
     ]
    }
   ],
   "source": [
    "# Define new DataFrames for your target variable and input features\n",
    "\n",
    "# Target Variable we are trying to predict (Decline vs. Didn't Decline)\n",
    "target = investor_data.commit_Decline\n",
    "\n",
    "# Feature Set used to predict the Target variable\n",
    "inputs = investor_data.drop('commit_Decline', axis=1) \n",
    "\n",
    "# I think it's worth showing the shapes of the two panda objects\n",
    "print('Shape of target: {}  ; Shape of inputs: {}'.format(target.shape,inputs.shape))"
   ]
  },
  {
   "cell_type": "markdown",
   "metadata": {},
   "source": [
    "### 2. Stratified Random Sampling"
   ]
  },
  {
   "cell_type": "markdown",
   "metadata": {},
   "source": [
    "#### Comments:\n",
    "\n",
    "When you **split your data** into **training** and **testing** sets, it's really important for each set to contain approximately equal proportions of commit and decline.\n",
    "> I.E., Each set, your training and testing, should be representative of the data as a whole. \n",
    "\n",
    "The greater the difference between Positive and Negative classes, the more likely you are to accidentally create varying proportions in your training and testing data sets that could lead misleading results. \n",
    "\n",
    "You can solve this with **stratified random sampling**, or (also known as proportionate random sampling).\n",
    "> - Stratified Random Sampling = separates your data into classes and randomly selects proportionate samples from each class\n",
    "> - Use `stratify` option in the `train_test_split()`"
   ]
  },
  {
   "cell_type": "code",
   "execution_count": 10,
   "metadata": {},
   "outputs": [
    {
     "data": {
      "image/png": "[encoded data removed]",
      "text/plain": [
       "<Figure size 432x288 with 1 Axes>"
      ]
     },
     "metadata": {
      "needs_background": "light"
     },
     "output_type": "display_data"
    }
   ],
   "source": [
    "sns.countplot(y='commit_Decline', data=investor_data)\n",
    "plt.show()"
   ]
  },
  {
   "cell_type": "markdown",
   "metadata": {},
   "source": [
    "**Lesson Workspace** : With `stratify=investor_data.commit.commit_Decline`\n",
    "- We can ensure the proportions of commit and decline in both the **training** data and **testing** data are representative of the data set as a whole"
   ]
  },
  {
   "cell_type": "code",
   "execution_count": 11,
   "metadata": {},
   "outputs": [],
   "source": [
    "# Split your data using stratified random sampling\n",
    "from sklearn.model_selection import train_test_split\n",
    "\n",
    "split_list = train_test_split(inputs, target, \n",
    "                              test_size=0.2, \n",
    "                              random_state=1,\n",
    "                              stratify=investor_data.commit_Decline\n",
    "                             )\n"
   ]
  },
  {
   "cell_type": "markdown",
   "metadata": {},
   "source": [
    "<font color = 'blue'> **EXERCISE 2.1** </font> Split Data Exercise"
   ]
  },
  {
   "cell_type": "code",
   "execution_count": 12,
   "metadata": {},
   "outputs": [
    {
     "name": "stdout",
     "output_type": "stream",
     "text": [
      "(5786, 19)\n",
      "(1447, 19)\n",
      "(5786,)\n",
      "(1447,)\n"
     ]
    }
   ],
   "source": [
    "# Unpack split_list into four new objects and print their shapes\n",
    "\n",
    "# X_train    X_test      y_train       y_test     \n",
    "input_train, input_test, target_train, target_test = split_list\n",
    "\n",
    "# Display the shape for each dataset\n",
    "for item in [input_train, input_test, target_train, target_test] :\n",
    "    print(item.shape)\n"
   ]
  },
  {
   "cell_type": "markdown",
   "metadata": {},
   "source": [
    "### 3. Pipelines & Hyperparameter Grids"
   ]
  },
  {
   "cell_type": "markdown",
   "metadata": {},
   "source": [
    "**Lesson Workspace**"
   ]
  },
  {
   "cell_type": "code",
   "execution_count": 13,
   "metadata": {},
   "outputs": [],
   "source": [
    "# Import Scikit-Learn functions and classifiers\n",
    "from sklearn.pipeline import make_pipeline\n",
    "from sklearn.preprocessing import StandardScaler\n",
    "from sklearn.linear_model import LogisticRegression\n",
    "from sklearn.ensemble import RandomForestClassifier\n",
    "from sklearn.ensemble import GradientBoostingClassifier"
   ]
  },
  {
   "cell_type": "markdown",
   "metadata": {},
   "source": [
    "<font color = 'blue'> **EXERCISE 3.1** </font> Create Pipeline Dictionary Exercise"
   ]
  },
  {
   "cell_type": "code",
   "execution_count": 14,
   "metadata": {},
   "outputs": [],
   "source": [
    "# Create your pipeline dictionary\n",
    "pipelines = {\n",
    "    'l1' : make_pipeline(StandardScaler(), LogisticRegression(penalty='l1', random_state=1, solver='liblinear')),\n",
    "    'l2' : make_pipeline(StandardScaler(), LogisticRegression(penalty='l2', random_state=1)),\n",
    "    'rf' : make_pipeline(StandardScaler(), RandomForestClassifier(random_state=1)),\n",
    "    'gb' : make_pipeline(StandardScaler(), GradientBoostingClassifier(random_state=1))\n",
    "}\n"
   ]
  },
  {
   "cell_type": "code",
   "execution_count": 15,
   "metadata": {},
   "outputs": [
    {
     "name": "stdout",
     "output_type": "stream",
     "text": [
      "l1 <class 'sklearn.pipeline.Pipeline'>\n",
      "l2 <class 'sklearn.pipeline.Pipeline'>\n",
      "rf <class 'sklearn.pipeline.Pipeline'>\n",
      "gb <class 'sklearn.pipeline.Pipeline'>\n"
     ]
    }
   ],
   "source": [
    "# To verify the pipelines were created correctly\n",
    "for key, value in pipelines.items():\n",
    "    print(key, type(value))"
   ]
  },
  {
   "cell_type": "markdown",
   "metadata": {},
   "source": [
    "<font color = 'blue'> **EXERCISE 3.2** </font> Hyperparameter Tuning\n",
    "1. **Logistic Regression Classifier** - Tune the $L_1$ and $L_2$ penalty factor\n",
    "    1. Adjusting the `C` parameter in `LogisticRegressionClassifier()`\n",
    "        1. `C`, default=1.0\n",
    "        1. Inverse of regularization strength; must be a positive float. Like in support vector machines, smaller values specify stronger regularization.\n",
    "2. **Random Forest Classifier** - Tune the number of **strong learners** and maximum **number of features**      \n",
    "3. **Gradient Boosting Classifier** - Tune the number of **weak learners**, the **learning rate** and the maximum **depth** of each decision tree\n",
    "\n",
    "| Dictionary Name    \t| Hyperparameter Name                         \t| Hyperparameter Values           |||\n",
    "| :--------------------\t|:---------------------------------------------\t|:---------:|:---------:|:---------:|\n",
    "| l1_hyperparameter  \t| 'logisticregression__C'                     \t|   0.1  \t|  1  \t    |  10 \t    |\n",
    "| l2_hyperparameter  \t| 'logisticregression__C'                     \t|   0.1  \t|  1  \t    |  10 \t    |\n",
    "| rf_hyperparameters \t| 'randomforestclassifier__n_estimators'      \t|   100  \t| 200 \t    |  -  \t    |\n",
    "|                    \t| 'randomforestclassifier__max_features'      \t| 'auto' \t| 0.3 \t    | 0.6 \t    |\n",
    "| gb_hyperparameters \t| 'gradientboostingclassifier__n_estimators'  \t|   100  \t| 200 \t    |  -  \t    |\n",
    "|                    \t| 'gradientboostingclassifier__learning_rate' \t|  0.05  \t| 0.1 \t    | 0.2 \t    |\n",
    "|                    \t| 'gradientboostingclassifier__max_depth'     \t|    1   \t|  3  \t    |  5  \t    |"
   ]
  },
  {
   "cell_type": "code",
   "execution_count": 16,
   "metadata": {},
   "outputs": [],
   "source": [
    "# Create the hyperparameter grids and store them in a new dictionary\n",
    "\n",
    "# Step 1: for each class model, create a dictionary of hyperparameter values\n",
    "l1_hyperparameters = {\n",
    "    'logisticregression__C' : [0.1, 1, 10]\n",
    "}\n",
    "\n",
    "l2_hyperparameters = {\n",
    "    'logisticregression__C' : [0.1, 1, 10]\n",
    "}\n",
    "\n",
    "rf_hyperparameters = {\n",
    "    'randomforestclassifier__n_estimators' : [100,200],\n",
    "    'randomforestclassifier__max_features' : ['auto',0.3,0.6]\n",
    "}\n",
    "GradientBoostingClassifier\n",
    "gb_hyperparameters = {\n",
    "    'gradientboostingclassifier__n_estimators'  : [100,200],\n",
    "    'gradientboostingclassifier__learning_rate' : [0.05, 0.1, 0.2],\n",
    "    'gradientboostingclassifier__max_depth'     : [1,3,5]\n",
    "}\n",
    "\n",
    "# Step 2: Create a master dictionary of hyperparameters\n",
    "hyperparameters = {\n",
    "    'l1' : l1_hyperparameters,\n",
    "    'l2' : l2_hyperparameters,\n",
    "    'rf' : rf_hyperparameters,\n",
    "    'gb' : gb_hyperparameters\n",
    "}\n"
   ]
  },
  {
   "cell_type": "code",
   "execution_count": 17,
   "metadata": {},
   "outputs": [
    {
     "name": "stdout",
     "output_type": "stream",
     "text": [
      "l1 was found, and it is a grid.\n",
      "l2 was found, and it is a grid.\n",
      "rf was found, and it is a grid.\n",
      "gb was found, and it is a grid.\n"
     ]
    }
   ],
   "source": [
    "for key in ['l1', 'l2', 'rf', 'gb'] :\n",
    "    if key in hyperparameters :\n",
    "        if type(hyperparameters[key]) is dict :\n",
    "            print(key, 'was found, and it is a grid.')\n",
    "        else :\n",
    "            print(key, 'was found, but it is not a grid.')\n",
    "    else :\n",
    "        print(key, 'was not found.')"
   ]
  },
  {
   "cell_type": "markdown",
   "metadata": {},
   "source": [
    "### 4. Cross-Validation\n",
    "\n",
    "Steps:\n",
    "1. Create **untrained models** for each model class\n",
    "2. **Train** each model and **tune** hyperparameters\n",
    "3. Use the trained model to make **predictions** based on the inputs from your testing data\n",
    "4. Compare the predictions against the **actual target values** from your testing data to score each model"
   ]
  },
  {
   "cell_type": "markdown",
   "metadata": {},
   "source": [
    "**Lesson Workspace**"
   ]
  },
  {
   "cell_type": "code",
   "execution_count": 18,
   "metadata": {},
   "outputs": [],
   "source": [
    "# Import GridSearchCV\n",
    "from sklearn.model_selection import GridSearchCV\n"
   ]
  },
  {
   "cell_type": "markdown",
   "metadata": {},
   "source": [
    "<font color = 'blue'> **EXERCISE 4.1** </font> Cross-Validation Exercise"
   ]
  },
  {
   "cell_type": "code",
   "execution_count": 19,
   "metadata": {},
   "outputs": [],
   "source": [
    "# Create a dictionary containing your untrained models\n",
    "models = {}\n",
    "for key in pipelines.keys():\n",
    "    models[key] = GridSearchCV(\n",
    "        pipelines[key],           # Pipeline object\n",
    "        hyperparameters[key],     # Hyperparameter Gird for the model\n",
    "        cv=5                      # number of folds\n",
    "    )"
   ]
  },
  {
   "cell_type": "markdown",
   "metadata": {},
   "source": [
    "<font color = 'blue'> **EXERCISE 4.2** </font> Fit Untrained Model"
   ]
  },
  {
   "cell_type": "code",
   "execution_count": 20,
   "metadata": {},
   "outputs": [
    {
     "name": "stdout",
     "output_type": "stream",
     "text": [
      "l1 is trained and tuned.\n",
      "l2 is trained and tuned.\n",
      "rf is trained and tuned.\n",
      "gb is trained and tuned.\n"
     ]
    }
   ],
   "source": [
    "# Write a for loop to train your models\n",
    "for key in models :\n",
    "    models[key].fit(input_train, target_train)\n",
    "    print(key, 'is trained and tuned.')"
   ]
  },
  {
   "cell_type": "markdown",
   "metadata": {},
   "source": [
    "### 5. Model Selection"
   ]
  },
  {
   "cell_type": "markdown",
   "metadata": {},
   "source": [
    "**Lesson Workspace**"
   ]
  },
  {
   "cell_type": "code",
   "execution_count": 21,
   "metadata": {},
   "outputs": [
    {
     "name": "stdout",
     "output_type": "stream",
     "text": [
      "[[1124   22]\n",
      " [  23  278]]\n"
     ]
    }
   ],
   "source": [
    "# Print the confusion matrix for your L1 Logistic Regression model\n",
    "from sklearn.metrics import confusion_matrix\n",
    "\n",
    "pred = models['l1'].predict(input_test)\n",
    "print(confusion_matrix(target_test, pred))\n"
   ]
  },
  {
   "cell_type": "code",
   "execution_count": 22,
   "metadata": {},
   "outputs": [
    {
     "name": "stdout",
     "output_type": "stream",
     "text": [
      "l1\n",
      "AUROC =  0.952\n"
     ]
    }
   ],
   "source": [
    "# Import functions\n",
    "from sklearn.metrics import roc_curve, auc\n",
    "\n",
    "# Calculate ROC curve and print L1 AUROC\n",
    "fpr, tpr, threshold = roc_curve(target_test, pred)\n",
    "print('l1')\n",
    "print('AUROC = ', round(auc(fpr, tpr), 3))\n",
    "\n"
   ]
  },
  {
   "cell_type": "markdown",
   "metadata": {},
   "source": [
    "<font color = 'blue'> **EXERCISE 5.1** </font> AUROC Exercise"
   ]
  },
  {
   "cell_type": "code",
   "execution_count": 23,
   "metadata": {},
   "outputs": [
    {
     "name": "stdout",
     "output_type": "stream",
     "text": [
      "l1\n",
      "AUROC =  0.9522\n",
      "---\n",
      "l2\n",
      "AUROC =  0.9522\n",
      "---\n",
      "rf\n",
      "AUROC =  0.9616\n",
      "---\n",
      "gb\n",
      "AUROC =  0.9683\n",
      "---\n"
     ]
    }
   ],
   "source": [
    "# Write a for loop that calculates and prints each model's AUROC\n",
    "from sklearn.metrics import roc_curve, auc\n",
    "\n",
    "for key in models.keys():\n",
    "    pred = models[key].predict(input_test)\n",
    "    fpr, tpr, threshold = roc_curve(target_test, pred)\n",
    "    print(key)\n",
    "    print('AUROC = ', round(auc(fpr, tpr), 4))\n",
    "    print('---')\n",
    "\n"
   ]
  },
  {
   "cell_type": "markdown",
   "metadata": {},
   "source": [
    "### Extra - Harry - AUROC for Gradient Boost"
   ]
  },
  {
   "cell_type": "code",
   "execution_count": 24,
   "metadata": {},
   "outputs": [
    {
     "name": "stdout",
     "output_type": "stream",
     "text": [
      "[[1138    8]\n",
      " [  17  284]]\n",
      "gb\n",
      "AUROC =  0.9683\n"
     ]
    }
   ],
   "source": [
    "pred = models['gb'].predict(input_test)\n",
    "print(confusion_matrix(target_test, pred))\n",
    "fpr_grd, tpr_grd, threshold = roc_curve(target_test, pred)\n",
    "print('gb')\n",
    "print('AUROC = ', round(auc(fpr_grd, tpr_grd), 4))"
   ]
  },
  {
   "cell_type": "code",
   "execution_count": 25,
   "metadata": {},
   "outputs": [
    {
     "data": {
      "image/png": "[encoded data removed]",
      "text/plain": [
       "<Figure size 432x288 with 1 Axes>"
      ]
     },
     "metadata": {
      "needs_background": "light"
     },
     "output_type": "display_data"
    },
    {
     "data": {
      "image/png": "[encoded data removed]",
      "text/plain": [
       "<Figure size 432x288 with 1 Axes>"
      ]
     },
     "metadata": {
      "needs_background": "light"
     },
     "output_type": "display_data"
    }
   ],
   "source": [
    "plt.figure(1)\n",
    "plt.plot([0, 1], [0, 1], 'k--')\n",
    "plt.plot(fpr_grd, tpr_grd, label='Gradient Boost')\n",
    "plt.xlabel('False positive rate')\n",
    "plt.ylabel('True positive rate')\n",
    "plt.title('ROC curve')\n",
    "plt.legend(loc='best')\n",
    "plt.show()\n",
    "\n",
    "plt.figure(2)\n",
    "plt.xlim(0, 0.1)\n",
    "plt.ylim(0.9, 1)\n",
    "plt.plot([0, 1], [0, 1], 'k--')\n",
    "plt.plot(fpr_grd, tpr_grd, label='Gradient Boost')\n",
    "plt.xlabel('False positive rate')\n",
    "plt.ylabel('True positive rate')\n",
    "plt.title('ROC curve (zoomed in at top left)')\n",
    "plt.legend(loc='best')\n",
    "plt.show()"
   ]
  }
 ],
 "metadata": {
  "kernelspec": {
   "display_name": "Python 3",
   "language": "python",
   "name": "python3"
  },
  "language_info": {
   "codemirror_mode": {
    "name": "ipython",
    "version": 3
   },
   "file_extension": ".py",
   "mimetype": "text/x-python",
   "name": "python",
   "nbconvert_exporter": "python",
   "pygments_lexer": "ipython3",
   "version": "3.8.5"
  },
  "varInspector": {
   "cols": {
    "lenName": 16,
    "lenType": 16,
    "lenVar": 40
   },
   "kernels_config": {
    "python": {
     "delete_cmd_postfix": "",
     "delete_cmd_prefix": "del ",
     "library": "var_list.py",
     "varRefreshCmd": "print(var_dic_list())"
    },
    "r": {
     "delete_cmd_postfix": ") ",
     "delete_cmd_prefix": "rm(",
     "library": "var_list.r",
     "varRefreshCmd": "cat(var_dic_list()) "
    }
   },
   "types_to_exclude": [
    "module",
    "function",
    "builtin_function_or_method",
    "instance",
    "_Feature"
   ],
   "window_display": false
  }
 },
 "nbformat": 4,
 "nbformat_minor": 2
}
