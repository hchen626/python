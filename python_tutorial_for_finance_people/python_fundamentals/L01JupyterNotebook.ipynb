{
 "cells": [
  {
   "cell_type": "markdown",
   "metadata": {},
   "source": [
    "# Python Fundamentals I\n",
    "Welcome to the first lesson! This Jupyter Notebook file is meant to accompany **L01 - Python Fundamentals I**\n",
    "\n",
    "Beneath each blue <font color = 'blue'> **EXERCISE**</font>, there is a code cell that looks like this:"
   ]
  },
  {
   "cell_type": "code",
   "execution_count": 1,
   "metadata": {},
   "outputs": [
    {
     "data": {
      "text/plain": [
       "2"
      ]
     },
     "execution_count": 1,
     "metadata": {},
     "output_type": "execute_result"
    }
   ],
   "source": [
    "1 + 1"
   ]
  },
  {
   "cell_type": "markdown",
   "metadata": {},
   "source": [
    "Type your answer in the code cell, and then press **Shift + Enter** to execute your code. Then, check the solution in the PDF to see how you did!"
   ]
  },
  {
   "cell_type": "markdown",
   "metadata": {},
   "source": [
    "### 1. Jupyter Notebook\n",
    "If you are reading this, you are ready to go!"
   ]
  },
  {
   "cell_type": "markdown",
   "metadata": {},
   "source": [
    "### 2. Calculations"
   ]
  },
  {
   "cell_type": "code",
   "execution_count": 2,
   "metadata": {},
   "outputs": [
    {
     "name": "stdout",
     "output_type": "stream",
     "text": [
      "1.0\n",
      "100\n"
     ]
    }
   ],
   "source": [
    "# Lesson Workspace\n",
    "\n",
    "print(10/10)\n",
    "print(10 * 10)"
   ]
  },
  {
   "cell_type": "markdown",
   "metadata": {},
   "source": [
    "<font color = 'blue'> **EXERCISE 2.1** </font>"
   ]
  },
  {
   "cell_type": "code",
   "execution_count": 3,
   "metadata": {},
   "outputs": [
    {
     "name": "stdout",
     "output_type": "stream",
     "text": [
      "0.5\n",
      "-111\n",
      "369630\n",
      "0.875\n"
     ]
    }
   ],
   "source": [
    "print(111 / 222)\n",
    "print(333 - 444)\n",
    "print(555 * 666)\n",
    "print(777 / 888)"
   ]
  },
  {
   "cell_type": "code",
   "execution_count": 4,
   "metadata": {},
   "outputs": [
    {
     "name": "stdout",
     "output_type": "stream",
     "text": [
      "its it's\n",
      "its it's\n"
     ]
    }
   ],
   "source": [
    "print(\"its it's\")\n",
    "print('its it\\'s')"
   ]
  },
  {
   "cell_type": "code",
   "execution_count": 5,
   "metadata": {},
   "outputs": [
    {
     "name": "stdout",
     "output_type": "stream",
     "text": [
      "CUSIP = 38259PAD4; Coupon = 3.375\n",
      "CUSIP = 38259PAD4; Coupon = 3.375\n"
     ]
    }
   ],
   "source": [
    "print('CUSIP = 38259PAD4; Coupon = 3.375')\n",
    "print('CUSIP = {}; Coupon = {}'.format('38259PAD4', '3.375'))"
   ]
  },
  {
   "cell_type": "code",
   "execution_count": null,
   "metadata": {},
   "outputs": [],
   "source": []
  },
  {
   "cell_type": "markdown",
   "metadata": {},
   "source": [
    "### 3. Text Outputs"
   ]
  },
  {
   "cell_type": "code",
   "execution_count": 6,
   "metadata": {},
   "outputs": [],
   "source": [
    "# Lesson Workspace\n",
    "\n"
   ]
  },
  {
   "cell_type": "markdown",
   "metadata": {},
   "source": [
    "<font color = 'blue'> **EXERCISE 3.1** </font>"
   ]
  },
  {
   "cell_type": "code",
   "execution_count": 7,
   "metadata": {},
   "outputs": [
    {
     "name": "stdout",
     "output_type": "stream",
     "text": [
      "Price = $220; EPS = $10; P/E = 22.0\n"
     ]
    }
   ],
   "source": [
    "print('Price = ${}; EPS = ${}; P/E = {}'.format(220, 10, 220/10))"
   ]
  },
  {
   "cell_type": "code",
   "execution_count": 8,
   "metadata": {},
   "outputs": [
    {
     "name": "stdout",
     "output_type": "stream",
     "text": [
      "Price = $220; EPS = $10; P/E = 22.0\n"
     ]
    }
   ],
   "source": [
    "p = 220\n",
    "eps = 10\n",
    "\n",
    "print('Price = ${}; EPS = ${}; P/E = {}'.format(p, eps, p/eps))"
   ]
  },
  {
   "cell_type": "code",
   "execution_count": 9,
   "metadata": {},
   "outputs": [
    {
     "name": "stdout",
     "output_type": "stream",
     "text": [
      "Price = $220; EPS = $10; P/E = 22.0\n"
     ]
    }
   ],
   "source": [
    "p = 220           # Price (stock) \n",
    "eps = 10          # Earnings Per Share\n",
    "m = p / eps       # Price-to-Earnings Ratio\n",
    "\n",
    "print('Price = ${}; EPS = ${}; P/E = {}'.format(p, eps, m))"
   ]
  },
  {
   "cell_type": "markdown",
   "metadata": {},
   "source": [
    "### 4. Variables"
   ]
  },
  {
   "cell_type": "code",
   "execution_count": 10,
   "metadata": {},
   "outputs": [],
   "source": [
    "# Lesson Workspace\n",
    "\n"
   ]
  },
  {
   "cell_type": "code",
   "execution_count": 11,
   "metadata": {},
   "outputs": [
    {
     "name": "stdout",
     "output_type": "stream",
     "text": [
      "10.41 %\n"
     ]
    }
   ],
   "source": [
    "end_value = 200\n",
    "start_value = 100\n",
    "years = 7\n",
    "cagr = (end_value / start_value) ** (1 / years) - 1\n",
    "\n",
    "print(round(cagr*100, 2), '%') # CAGR = Compound Annual Growth Rate"
   ]
  },
  {
   "cell_type": "markdown",
   "metadata": {},
   "source": [
    "<font color = 'blue'> **EXERCISE 4.1** </font>\n",
    "\n",
    "**LTM** = Last Twelve Months"
   ]
  },
  {
   "cell_type": "code",
   "execution_count": 12,
   "metadata": {},
   "outputs": [],
   "source": [
    "# Apple Data\n",
    "a_mcap = 896473\n",
    "a_pref = 0\n",
    "a_ltdebt = 97128\n",
    "a_cltdebt = 17472\n",
    "a_mint = 0\n",
    "a_cash = 70970\n",
    "a_q3_17 = 17067\n",
    "a_q4_17 = 30509\n",
    "a_q1_18 = 19699\n",
    "a_q2_18 = 16795\n",
    "\n",
    "\n",
    "# Microsoft Data\n",
    "m_mcap = 757029\n",
    "m_pref = 0\n",
    "m_ltdebt = 72242\n",
    "m_cltdebt = 3998\n",
    "m_mint = 0\n",
    "m_cash = 133768\n",
    "m_q3_17 = 11155\n",
    "m_q4_17 = 12403\n",
    "m_q1_18 = 12042\n",
    "m_q2_18 = 13868\n"
   ]
  },
  {
   "cell_type": "markdown",
   "metadata": {},
   "source": [
    "1. Calculate Enterprise Value and LTM EBITDA for both AAPL and MSFT and save as new variables\n",
    "\n",
    "2. Calculate the **Enterprise Value / LTM EBITDA ratio** for both AAPL and MSFT and save as new variables using these formulae:\n",
    "    - Enterprise Value = Market Cap + Preferred Debt + Long-term Debt + Current Long-term Debt + Minority Interest – Cash & Equivalents\n",
    "    - LTM EBITDA = Q3’17 EBITDA + Q4’17 EBITDA + Q1’18 EBITDA + Q2’18 EBITDA"
   ]
  },
  {
   "cell_type": "code",
   "execution_count": 13,
   "metadata": {},
   "outputs": [],
   "source": [
    "# Apple - Enterprise Value and LTM EBITDA\n",
    "a_ev = a_mcap + a_pref + a_ltdebt + a_cltdebt + a_mint - a_cash\n",
    "a_ltm_ebitda = a_q3_17 + a_q4_17 + a_q1_18 + a_q2_18\n",
    "\n",
    "# MSFT - Enterprise Value and LTM EBITDA\n",
    "m_ev = m_mcap + m_pref + m_ltdebt + m_cltdebt + m_mint - m_cash\n",
    "m_ltm_ebitda = m_q3_17 + m_q4_17 + m_q1_18 + m_q2_18\n",
    "\n"
   ]
  },
  {
   "cell_type": "code",
   "execution_count": 14,
   "metadata": {},
   "outputs": [],
   "source": [
    "a_ev_ebitda = a_ev / a_ltm_ebitda # Apple : EV-to-EBITDA\n",
    "m_ev_ebitda = m_ev / m_ltm_ebitda # MSFT : EV-to-EBITDA"
   ]
  },
  {
   "cell_type": "markdown",
   "metadata": {},
   "source": [
    "3. Create a new variable that compares **whether Apple’s ratio is greater than Microsoft’s ratio** using the > operator\n",
    "\n",
    "4. Use the .format() function to generate the following outputs:"
   ]
  },
  {
   "cell_type": "code",
   "execution_count": 15,
   "metadata": {},
   "outputs": [
    {
     "name": "stdout",
     "output_type": "stream",
     "text": [
      "AAPL EV = 940103\n",
      "AAPL LTM EBITDA = 84070\n",
      "AAPL EV / EBITDA = 11.18\n",
      "-\n",
      "MSFT EV = 699501\n",
      "MSFT LTM EBITDA = 49468\n",
      "MSFT EV / EBITDA = 14.14\n",
      "-\n",
      "AAPL's ratio is greater than MSFT's: False\n"
     ]
    }
   ],
   "source": [
    "compare = a_ev_ebitda > m_ev_ebitda\n",
    "print('AAPL EV = {}'.format(a_ev))\n",
    "print('AAPL LTM EBITDA = {}'.format(a_ltm_ebitda))\n",
    "print('AAPL EV / EBITDA = {}'.format(round(a_ev_ebitda,2)))\n",
    "print('-')\n",
    "print('MSFT EV = {}'.format(m_ev))\n",
    "print('MSFT LTM EBITDA = {}'.format(m_ltm_ebitda))\n",
    "print('MSFT EV / EBITDA = {}'.format(round(m_ev_ebitda,2)))\n",
    "print('-')\n",
    "print('AAPL\\'s ratio is greater than MSFT\\'s: {}'.format(compare))"
   ]
  }
 ],
 "metadata": {
  "kernelspec": {
   "display_name": "Python 3",
   "language": "python",
   "name": "python3"
  },
  "language_info": {
   "codemirror_mode": {
    "name": "ipython",
    "version": 3
   },
   "file_extension": ".py",
   "mimetype": "text/x-python",
   "name": "python",
   "nbconvert_exporter": "python",
   "pygments_lexer": "ipython3",
   "version": "3.8.5"
  }
 },
 "nbformat": 4,
 "nbformat_minor": 2
}
