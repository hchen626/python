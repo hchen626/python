{
 "cells": [
  {
   "cell_type": "markdown",
   "metadata": {},
   "source": [
    "# Liquidity Predictor\n",
    "Welcome to the eighth lesson! This Jupyter Notebook file is meant to accompany **L08 - Liquidity Predictor.**"
   ]
  },
  {
   "cell_type": "markdown",
   "metadata": {},
   "source": [
    "| Feature              \t| Description                                                   |\n",
    "|:---------------------\t|:--------------------------------------------------------------|\n",
    "| available_liquidity  \t| Cash + available lines of credit (<font color=red><b>target variable</b></font>)(\\$ in MM)  |\n",
    "| sp_score             \t| S&P credit rating, converted into continuous values           |\n",
    "| market_cap           \t| Current market capitalization (\\$ in MM)                      |\n",
    "| total_debt           \t| Current total debt (\\$ in MM)                                 |\n",
    "| ltm_capex            \t| Last twelve months <b>capital expenditures</b> (\\$ in MM)     |\n",
    "| ltm_ebitda           \t| Last twelve months <b>adjusted earnings</b> (\\$ in MM)        |\n",
    "| ltm_fcf              \t| Last twelve months <b>free cash flow</b> (\\$ in MM)           |\n",
    "| ltm_revenue          \t| Last twelve months <b>revenue</b> (\\$ in MM)                  |\n",
    "\n",
    "\n",
    "\n",
    "\n",
    "<p><center>* Harry - I added this metadata table</center></p>\n"
   ]
  },
  {
   "cell_type": "markdown",
   "metadata": {},
   "source": [
    "### 1. Liquidity Predictor Introduction\n",
    "\n",
    "#### The algorithm will evaluate the performance of each competting model, and then we will choose the top performer to make a prediction for client's situation\n",
    "\n",
    "1. Create **untrained models** for each model class (total of 5) \n",
    "    1. Linear Regression\\: Lasso, Ridge, Elastic Net \n",
    "    2. Decision Trees: Random Forest, Gradient Booster <br />\n",
    "    \n",
    "    \n",
    "2. **Train** each model and **tune** hyperparameters\n",
    "    1. We will determine the optimal hyperparmatized configuration for each model class before we start comparing\n",
    "    2. To prevent overfitting, we will **standardize** the feature set and perform **cross fold validation**, where it will repeat the splitting process multiple times **within training data only.** <br />\n",
    "    \n",
    "       \n",
    "3. Use the trained models to **make predictions** based on the inputs from your **testing data set**  <br />\n",
    "    \n",
    "    \n",
    "4. **Compare** the predictions against the actual target values from the testing data set to **score** each model"
   ]
  },
  {
   "cell_type": "markdown",
   "metadata": {},
   "source": [
    "### 2. Data Exploration"
   ]
  },
  {
   "cell_type": "markdown",
   "metadata": {},
   "source": [
    "<font color = 'blue'> **EXERCISE 2.1** </font> Import dataset and display the first three rows"
   ]
  },
  {
   "cell_type": "code",
   "execution_count": 1,
   "metadata": {},
   "outputs": [],
   "source": [
    "import numpy as np\n",
    "import pandas as pd\n",
    "from matplotlib import pyplot as plt\n",
    "import seaborn as sns\n",
    "\n",
    "\n",
    "%matplotlib inline       \n",
    "plt.style.use('ggplot')"
   ]
  },
  {
   "cell_type": "code",
   "execution_count": 2,
   "metadata": {},
   "outputs": [
    {
     "data": {
      "text/html": [
       "<div>\n",
       "<style scoped>\n",
       "    .dataframe tbody tr th:only-of-type {\n",
       "        vertical-align: middle;\n",
       "    }\n",
       "\n",
       "    .dataframe tbody tr th {\n",
       "        vertical-align: top;\n",
       "    }\n",
       "\n",
       "    .dataframe thead th {\n",
       "        text-align: right;\n",
       "    }\n",
       "</style>\n",
       "<table border=\"1\" class=\"dataframe\">\n",
       "  <thead>\n",
       "    <tr style=\"text-align: right;\">\n",
       "      <th></th>\n",
       "      <th>available_liquidity</th>\n",
       "      <th>sp_score</th>\n",
       "      <th>market_cap</th>\n",
       "      <th>total_debt</th>\n",
       "      <th>ltm_capex</th>\n",
       "      <th>ltm_ebitda</th>\n",
       "      <th>ltm_fcf</th>\n",
       "      <th>ltm_revenue</th>\n",
       "    </tr>\n",
       "  </thead>\n",
       "  <tbody>\n",
       "    <tr>\n",
       "      <th>0</th>\n",
       "      <td>28694.04271</td>\n",
       "      <td>2</td>\n",
       "      <td>54856.1961</td>\n",
       "      <td>84628.0</td>\n",
       "      <td>-9262.0</td>\n",
       "      <td>21387.00032</td>\n",
       "      <td>9488.0</td>\n",
       "      <td>170315.0</td>\n",
       "    </tr>\n",
       "    <tr>\n",
       "      <th>1</th>\n",
       "      <td>24784.00051</td>\n",
       "      <td>7</td>\n",
       "      <td>209150.6401</td>\n",
       "      <td>57909.0</td>\n",
       "      <td>-2021.0</td>\n",
       "      <td>15161.00019</td>\n",
       "      <td>12105.0</td>\n",
       "      <td>37727.0</td>\n",
       "    </tr>\n",
       "    <tr>\n",
       "      <th>2</th>\n",
       "      <td>24142.00013</td>\n",
       "      <td>6</td>\n",
       "      <td>180108.3453</td>\n",
       "      <td>32970.0</td>\n",
       "      <td>-1817.0</td>\n",
       "      <td>15818.99981</td>\n",
       "      <td>12604.0</td>\n",
       "      <td>192592.0</td>\n",
       "    </tr>\n",
       "  </tbody>\n",
       "</table>\n",
       "</div>"
      ],
      "text/plain": [
       "   available_liquidity  sp_score   market_cap  total_debt  ltm_capex  \\\n",
       "0          28694.04271         2   54856.1961     84628.0    -9262.0   \n",
       "1          24784.00051         7  209150.6401     57909.0    -2021.0   \n",
       "2          24142.00013         6  180108.3453     32970.0    -1817.0   \n",
       "\n",
       "    ltm_ebitda  ltm_fcf  ltm_revenue  \n",
       "0  21387.00032   9488.0     170315.0  \n",
       "1  15161.00019  12105.0      37727.0  \n",
       "2  15818.99981  12604.0     192592.0  "
      ]
     },
     "execution_count": 2,
     "metadata": {},
     "output_type": "execute_result"
    }
   ],
   "source": [
    "liquidity_data = pd.read_csv(\".\\\\liquidity_data.csv\")\n",
    "liquidity_data.head(3)"
   ]
  },
  {
   "cell_type": "markdown",
   "metadata": {},
   "source": [
    "<font color = 'blue'> **EXERCISE 2.2** </font> Display Summary Statistics Exercise"
   ]
  },
  {
   "cell_type": "code",
   "execution_count": 3,
   "metadata": {
    "scrolled": true
   },
   "outputs": [
    {
     "data": {
      "text/html": [
       "<div>\n",
       "<style scoped>\n",
       "    .dataframe tbody tr th:only-of-type {\n",
       "        vertical-align: middle;\n",
       "    }\n",
       "\n",
       "    .dataframe tbody tr th {\n",
       "        vertical-align: top;\n",
       "    }\n",
       "\n",
       "    .dataframe thead th {\n",
       "        text-align: right;\n",
       "    }\n",
       "</style>\n",
       "<table border=\"1\" class=\"dataframe\">\n",
       "  <thead>\n",
       "    <tr style=\"text-align: right;\">\n",
       "      <th></th>\n",
       "      <th>available_liquidity</th>\n",
       "      <th>sp_score</th>\n",
       "      <th>market_cap</th>\n",
       "      <th>total_debt</th>\n",
       "      <th>ltm_capex</th>\n",
       "      <th>ltm_ebitda</th>\n",
       "      <th>ltm_fcf</th>\n",
       "      <th>ltm_revenue</th>\n",
       "    </tr>\n",
       "  </thead>\n",
       "  <tbody>\n",
       "    <tr>\n",
       "      <th>count</th>\n",
       "      <td>802.000000</td>\n",
       "      <td>802.000000</td>\n",
       "      <td>802.000000</td>\n",
       "      <td>802.000000</td>\n",
       "      <td>802.00000</td>\n",
       "      <td>802.000000</td>\n",
       "      <td>802.000000</td>\n",
       "      <td>802.000000</td>\n",
       "    </tr>\n",
       "    <tr>\n",
       "      <th>mean</th>\n",
       "      <td>3884.952199</td>\n",
       "      <td>3.017456</td>\n",
       "      <td>41645.089870</td>\n",
       "      <td>9040.720589</td>\n",
       "      <td>-1200.91799</td>\n",
       "      <td>3455.752891</td>\n",
       "      <td>1772.335973</td>\n",
       "      <td>20420.383638</td>\n",
       "    </tr>\n",
       "    <tr>\n",
       "      <th>std</th>\n",
       "      <td>4267.893247</td>\n",
       "      <td>1.851461</td>\n",
       "      <td>74046.522440</td>\n",
       "      <td>12112.161513</td>\n",
       "      <td>2066.29159</td>\n",
       "      <td>5679.466199</td>\n",
       "      <td>4207.345101</td>\n",
       "      <td>39483.422972</td>\n",
       "    </tr>\n",
       "    <tr>\n",
       "      <th>min</th>\n",
       "      <td>267.000000</td>\n",
       "      <td>0.000000</td>\n",
       "      <td>4282.810112</td>\n",
       "      <td>0.000000</td>\n",
       "      <td>-15858.00000</td>\n",
       "      <td>-6530.000000</td>\n",
       "      <td>-4888.000000</td>\n",
       "      <td>503.586000</td>\n",
       "    </tr>\n",
       "    <tr>\n",
       "      <th>25%</th>\n",
       "      <td>1288.328992</td>\n",
       "      <td>2.000000</td>\n",
       "      <td>10082.091010</td>\n",
       "      <td>2125.297000</td>\n",
       "      <td>-1241.00000</td>\n",
       "      <td>936.200000</td>\n",
       "      <td>232.923000</td>\n",
       "      <td>3791.525000</td>\n",
       "    </tr>\n",
       "    <tr>\n",
       "      <th>50%</th>\n",
       "      <td>2395.700000</td>\n",
       "      <td>3.000000</td>\n",
       "      <td>19349.403650</td>\n",
       "      <td>4562.000000</td>\n",
       "      <td>-512.00000</td>\n",
       "      <td>1695.700032</td>\n",
       "      <td>682.110000</td>\n",
       "      <td>8587.166000</td>\n",
       "    </tr>\n",
       "    <tr>\n",
       "      <th>75%</th>\n",
       "      <td>4512.458596</td>\n",
       "      <td>4.000000</td>\n",
       "      <td>41154.826240</td>\n",
       "      <td>10478.000000</td>\n",
       "      <td>-190.00000</td>\n",
       "      <td>3706.000000</td>\n",
       "      <td>1788.000000</td>\n",
       "      <td>18816.000000</td>\n",
       "    </tr>\n",
       "    <tr>\n",
       "      <th>max</th>\n",
       "      <td>28694.042710</td>\n",
       "      <td>10.000000</td>\n",
       "      <td>777070.706700</td>\n",
       "      <td>87032.000000</td>\n",
       "      <td>-5.04900</td>\n",
       "      <td>69715.000320</td>\n",
       "      <td>53244.000000</td>\n",
       "      <td>487511.000000</td>\n",
       "    </tr>\n",
       "  </tbody>\n",
       "</table>\n",
       "</div>"
      ],
      "text/plain": [
       "       available_liquidity    sp_score     market_cap    total_debt  \\\n",
       "count           802.000000  802.000000     802.000000    802.000000   \n",
       "mean           3884.952199    3.017456   41645.089870   9040.720589   \n",
       "std            4267.893247    1.851461   74046.522440  12112.161513   \n",
       "min             267.000000    0.000000    4282.810112      0.000000   \n",
       "25%            1288.328992    2.000000   10082.091010   2125.297000   \n",
       "50%            2395.700000    3.000000   19349.403650   4562.000000   \n",
       "75%            4512.458596    4.000000   41154.826240  10478.000000   \n",
       "max           28694.042710   10.000000  777070.706700  87032.000000   \n",
       "\n",
       "         ltm_capex    ltm_ebitda       ltm_fcf    ltm_revenue  \n",
       "count    802.00000    802.000000    802.000000     802.000000  \n",
       "mean   -1200.91799   3455.752891   1772.335973   20420.383638  \n",
       "std     2066.29159   5679.466199   4207.345101   39483.422972  \n",
       "min   -15858.00000  -6530.000000  -4888.000000     503.586000  \n",
       "25%    -1241.00000    936.200000    232.923000    3791.525000  \n",
       "50%     -512.00000   1695.700032    682.110000    8587.166000  \n",
       "75%     -190.00000   3706.000000   1788.000000   18816.000000  \n",
       "max       -5.04900  69715.000320  53244.000000  487511.000000  "
      ]
     },
     "execution_count": 3,
     "metadata": {},
     "output_type": "execute_result"
    }
   ],
   "source": [
    "liquidity_data.describe()"
   ]
  },
  {
   "cell_type": "markdown",
   "metadata": {},
   "source": [
    "### 3. Splitting Data"
   ]
  },
  {
   "cell_type": "markdown",
   "metadata": {},
   "source": [
    "<font color = 'blue'> **EXERCISE 3.1** </font> Split Target Variable Exercise\n",
    "\n",
    "- ``target`` = Target Variable (Available Liquidity)\n",
    "- ``inputs`` = Feature Set"
   ]
  },
  {
   "cell_type": "code",
   "execution_count": 4,
   "metadata": {},
   "outputs": [
    {
     "name": "stdout",
     "output_type": "stream",
     "text": [
      "(641, 7)\n",
      "(161, 7)\n",
      "(641,)\n",
      "(161,)\n"
     ]
    }
   ],
   "source": [
    "# Import train_test_split() from Scikit Learn's model_selection module\n",
    "from sklearn.model_selection import train_test_split\n",
    "\n",
    "# Define a Series named \"target\" containing only the target variable\n",
    "target = liquidity_data.available_liquidity           \n",
    "\n",
    "# Define a DataFrame named \"inputs\" containing only the input features\n",
    "inputs = liquidity_data.drop('available_liquidity', axis=1) \n",
    "\n",
    "# Split your data and pass the results to a new object named \"results\"\n",
    "results = train_test_split(inputs, target, test_size=0.2, random_state=1)\n",
    "\n",
    "# For each item in results, print the item's dimensions\n",
    "for item in results:\n",
    "    print(item.shape)"
   ]
  },
  {
   "cell_type": "code",
   "execution_count": 5,
   "metadata": {},
   "outputs": [
    {
     "name": "stdout",
     "output_type": "stream",
     "text": [
      "(641, 7)\n",
      "(161, 7)\n",
      "(641,)\n",
      "(161,)\n"
     ]
    }
   ],
   "source": [
    "# Unpack this new list called Results into the individual objects \n",
    "input_train, input_test, target_train, target_test = results\n",
    "\n",
    "print(input_train.shape)   # X_train\n",
    "print(input_test.shape)    # X_test\n",
    "print(target_train.shape)  # y_train\n",
    "print(target_test.shape)   # y_test"
   ]
  },
  {
   "cell_type": "markdown",
   "metadata": {},
   "source": [
    "### 4. Model Pipelines\n",
    "\n",
    "Each model class will have simple two step process\n",
    "1. Standardize the training data to a common scale\n",
    "2. Apply the model class to the training data with a given random state"
   ]
  },
  {
   "cell_type": "markdown",
   "metadata": {},
   "source": [
    "<font color = 'blue'> **EXERCISE 4.1** </font>"
   ]
  },
  {
   "cell_type": "code",
   "execution_count": 6,
   "metadata": {},
   "outputs": [
    {
     "name": "stdout",
     "output_type": "stream",
     "text": [
      "lasso <class 'sklearn.pipeline.Pipeline'>\n",
      "ridge <class 'sklearn.pipeline.Pipeline'>\n",
      "enet <class 'sklearn.pipeline.Pipeline'>\n",
      "rf <class 'sklearn.pipeline.Pipeline'>\n",
      "gb <class 'sklearn.pipeline.Pipeline'>\n"
     ]
    }
   ],
   "source": [
    "# Import required functions from Scikit-Learn\n",
    "from sklearn.linear_model import Lasso, Ridge, ElasticNet   # Linear Models\n",
    "from sklearn.ensemble import RandomForestRegressor          # Decision Tree Model\n",
    "from sklearn.ensemble import GradientBoostingRegressor      # Decision Tree Model\n",
    "\n",
    "from sklearn.pipeline import make_pipeline\n",
    "from sklearn.preprocessing import StandardScaler\n",
    "\n",
    "\n",
    "\n",
    "# Create pipelines dictionary with model pipelines \n",
    "pipelines = {\n",
    "    'lasso' : make_pipeline(StandardScaler(), Lasso(random_state=1)),\n",
    "    'ridge' : make_pipeline(StandardScaler(), Ridge(random_state=1)),\n",
    "    'enet'  : make_pipeline(StandardScaler(), ElasticNet(random_state=1)),\n",
    "    'rf'    : make_pipeline(StandardScaler(), RandomForestRegressor(random_state=1)),\n",
    "    'gb'    : make_pipeline(StandardScaler(), GradientBoostingRegressor(random_state=1))\n",
    "}\n",
    "\n",
    "# Run this cell to verify that all 5 pipelines are properly defined\n",
    "for key, value in pipelines.items():\n",
    "    print(key, type(value))"
   ]
  },
  {
   "cell_type": "markdown",
   "metadata": {},
   "source": [
    "### 5. Hyperparameter Tuning\n",
    "\n",
    "1. Different classes of models have different kinds of hyperparameters.\n",
    "    1. Need to create list of values that you want to test for each hyper parameter\n",
    "    2. Include test values above and below the default value for each hyper parameter <br />\n",
    "    \n",
    "       \n",
    "\n",
    "2. The key in hyperparmeter grid dictionary **must begin** with the model class **followed by two underscores** and then the specific name of the parameter\n"
   ]
  },
  {
   "cell_type": "markdown",
   "metadata": {},
   "source": [
    "<font color = 'blue'> **EXERCISE 5.1** </font> For each model class, determine the list of values that we want to try for selected parameter model"
   ]
  },
  {
   "cell_type": "code",
   "execution_count": 7,
   "metadata": {},
   "outputs": [],
   "source": [
    "# Create a hyperparameter grid for Lasso\n",
    "lasso_hyperparameters = {\n",
    "    'lasso__alpha' : [0.01, 0.05, 0.1, 0.5, 1, 5] # Test Values - alpha hyperparameter\n",
    "}\n",
    "\n",
    "# Create a hyperparameter grid for Ridge\n",
    "ridge_hyperparameters = {\n",
    "    'ridge__alpha' : [0.01, 0.05, 0.1, 0.5, 1, 5]\n",
    "}\n",
    "\n",
    "# Create a hyperparameter grid for Elastic Net\n",
    "enet_hyperparameters = {\n",
    "    'elasticnet__alpha' : [0.01, 0.05, 0.1, 1, 5],\n",
    "    'elasticnet__l1_ratio' : [0.1, 0.3, 0.5, 0.7, 0.9]\n",
    "}\n",
    "\n",
    "# Create a hyperparameter grid for Random Forest\n",
    "rf_hyperparameters = {\n",
    "    'randomforestregressor__n_estimators'  : [100, 200],\n",
    "    'randomforestregressor__max_features'  : ['auto', 0.3, 0.6]\n",
    "}\n",
    "\n",
    "# Create a hyperparameter grid for Gradient Booster\n",
    "gb_hyperparameters = {\n",
    "    'gradientboostingregressor__n_estimators'   : [100, 200],\n",
    "    'gradientboostingregressor__learning_rate'  : [0.05, 0.1, 0.2],\n",
    "    'gradientboostingregressor__max_depth'      : [1, 3, 5]\n",
    "}\n"
   ]
  },
  {
   "cell_type": "markdown",
   "metadata": {},
   "source": [
    "<font color = 'blue'> **EXERCISE 5.2** </font> Create the hyperparameter_grids dictionary"
   ]
  },
  {
   "cell_type": "code",
   "execution_count": 8,
   "metadata": {},
   "outputs": [
    {
     "name": "stdout",
     "output_type": "stream",
     "text": [
      "enet was found, and it is a grid.\n",
      "gb was found, and it is a grid.\n",
      "ridge was found, and it is a grid.\n",
      "rf was found, and it is a grid.\n",
      "lasso was found, and it is a grid.\n"
     ]
    }
   ],
   "source": [
    "# Create the hyperparameter_grids dictionary\n",
    "hyperparameter_grids = {\n",
    "    'lasso' : lasso_hyperparameters,\n",
    "    'ridge' : ridge_hyperparameters,\n",
    "    'enet'  : enet_hyperparameters,\n",
    "    'rf'    : rf_hyperparameters,\n",
    "    'gb'    : gb_hyperparameters\n",
    "}\n",
    "\n",
    "# Run the code below to make sure everything is set up correctly\n",
    "for key in ['enet', 'gb', 'ridge', 'rf', 'lasso']:\n",
    "    if key in hyperparameter_grids:\n",
    "        if type(hyperparameter_grids[key]) is dict:\n",
    "            print( key, 'was found, and it is a grid.' )\n",
    "        else:\n",
    "            print( key, 'was found, but it is not a grid.' )\n",
    "    else:\n",
    "        print( key, 'was not found')\n"
   ]
  },
  {
   "cell_type": "markdown",
   "metadata": {},
   "source": [
    "### 6. Cross Validation\n",
    "\n"
   ]
  },
  {
   "cell_type": "markdown",
   "metadata": {},
   "source": [
    "**Lesson Workspace**"
   ]
  },
  {
   "cell_type": "code",
   "execution_count": 9,
   "metadata": {},
   "outputs": [],
   "source": [
    "# Import GridSearchCV\n",
    "from sklearn.model_selection import GridSearchCV\n",
    "\n",
    "# 1) Lasso Pipeline, 2) Hyperparameter configuration, 3) number of folds to perform\n",
    "untrained_lasso_model = GridSearchCV(pipelines['lasso'],            \n",
    "                                     hyperparameter_grids['lasso'], \n",
    "                                     cv=5 )                         "
   ]
  },
  {
   "cell_type": "markdown",
   "metadata": {},
   "source": [
    "<font color = 'blue'> **EXERCISE 6.1** </font> Create a dictionary of untrained model"
   ]
  },
  {
   "cell_type": "code",
   "execution_count": 10,
   "metadata": {},
   "outputs": [
    {
     "data": {
      "text/plain": [
       "dict_keys(['lasso', 'ridge', 'enet', 'rf', 'gb'])"
      ]
     },
     "execution_count": 10,
     "metadata": {},
     "output_type": "execute_result"
    }
   ],
   "source": [
    "models = {}\n",
    "\n",
    "# Create a dictionary of untrained model\n",
    "for key in pipelines.keys():\n",
    "    models[key] = GridSearchCV(pipelines[key],hyperparameter_grids[key], cv=5)\n",
    "\n",
    "models.keys()"
   ]
  },
  {
   "cell_type": "markdown",
   "metadata": {},
   "source": [
    "<font color = 'blue'> **EXERCISE 6.2** </font> Train the models with the **Testing Data Set**"
   ]
  },
  {
   "cell_type": "code",
   "execution_count": 11,
   "metadata": {},
   "outputs": [
    {
     "name": "stdout",
     "output_type": "stream",
     "text": [
      "lasso is trained and tuned\n",
      "ridge is trained and tuned\n",
      "enet is trained and tuned\n",
      "rf is trained and tuned\n",
      "gb is trained and tuned\n"
     ]
    }
   ],
   "source": [
    "for key in models.keys():\n",
    "    models[key].fit(input_train, target_train) # Train each model with Testing Dataset\n",
    "    print(key, 'is trained and tuned')"
   ]
  },
  {
   "cell_type": "markdown",
   "metadata": {},
   "source": [
    "### 7. Selecting a Winning Model"
   ]
  },
  {
   "cell_type": "markdown",
   "metadata": {},
   "source": [
    "**Lesson Workspace** \n",
    "\n"
   ]
  },
  {
   "cell_type": "code",
   "execution_count": 12,
   "metadata": {},
   "outputs": [],
   "source": [
    "# Import the r-squared and mean absolute error metrics\n",
    "from sklearn.metrics import r2_score, mean_absolute_error\n"
   ]
  },
  {
   "cell_type": "markdown",
   "metadata": {},
   "source": [
    "<font color = 'blue'> **EXERCISE 7.1** </font> \n",
    "1. Test each class model by making predictions based on **testing data set** (aka out-of-sample). \n",
    "2. Evaluate each class model by using **R squared** and **mean absolute error**, which calculates the average error in the same units as the target variable, which in this case is in millions\n",
    "\n",
    "\n",
    "```python\n",
    "# Get the predicted values for Testing Data Set\n",
    "lasso_preds = models['lasso'].predit(input_test)\n",
    "\n",
    "# Compare the Actual Values and Predicted Values for Testing Data Set\n",
    "print('R-Squared:', round(r2_score(target_test, lasso_preds), 3))\n",
    "print('MAE:', round(mean_absolute_error(target_test, lasso_preds), 3))\n",
    "```"
   ]
  },
  {
   "cell_type": "code",
   "execution_count": 13,
   "metadata": {},
   "outputs": [
    {
     "name": "stdout",
     "output_type": "stream",
     "text": [
      "lasso\n",
      "R-Squared: 0.498\n",
      "MAE: 1710.083\n",
      "---\n",
      "ridge\n",
      "R-Squared: 0.5\n",
      "MAE: 1708.062\n",
      "---\n",
      "enet\n",
      "R-Squared: 0.501\n",
      "MAE: 1706.04\n",
      "---\n",
      "rf\n",
      "R-Squared: 0.852\n",
      "MAE: 934.706\n",
      "---\n",
      "gb\n",
      "R-Squared: 0.855\n",
      "MAE: 588.249\n",
      "---\n",
      "Model with Highest R-squared\n",
      "('gb', [0.8553619350606756, 588.2485714927299])\n",
      "---\n",
      "Model with Lowest MAE\n",
      "('gb', [0.8553619350606756, 588.2485714927299])\n",
      "---\n",
      "Best Portfolio is:  gb\n"
     ]
    }
   ],
   "source": [
    "dicts={}\n",
    "for key in models:\n",
    "    preds = models[key].predict(input_test)\n",
    "\n",
    "    r2 = r2_score(target_test, preds)              # Calc R-squared\n",
    "    mae = mean_absolute_error(target_test, preds)  # Calc MAE                                    \n",
    "    dicts[key] = [r2,mae]                          # Add to dictionary\n",
    "    \n",
    "    print(key)\n",
    "    print('R-Squared:', round(r2, 3))\n",
    "    print('MAE:', round(mae, 3))\n",
    "    print('---')\n",
    "\n",
    "# Using Dictionary, determine best performing model\n",
    "print('Model with Highest R-squared')\n",
    "print(max(dicts.items(), key = lambda x: x[1][0])) # Model with Highest R-squared\n",
    "print('---')\n",
    "print('Model with Lowest MAE')\n",
    "print(min(dicts.items(), key = lambda x: x[1][1])) # Model with Lowest MAE\n",
    "print('---')\n",
    "\n",
    "# Store the name of the best porfolio in a variable\n",
    "best_portfolio = max(dicts.items(), key = lambda x: x[1][0])[0] #Best on R-squared\n",
    "print('Best Portfolio is: ',best_portfolio )"
   ]
  },
  {
   "cell_type": "markdown",
   "metadata": {},
   "source": [
    "### Comments\n",
    "The decision tree models (Random forest and Gradient Boost) signficantly outperformed their linear competitors (Lasso, Ridge, and Elastic Net). \n",
    "\n",
    "Winner = Gradient Boost emerged as the most accurate model "
   ]
  },
  {
   "cell_type": "markdown",
   "metadata": {},
   "source": [
    "<font color = 'blue'> **EXERCISE 7.2** </font>"
   ]
  },
  {
   "cell_type": "code",
   "execution_count": 14,
   "metadata": {},
   "outputs": [
    {
     "data": {
      "image/png": "[encoded data removed]",
      "text/plain": [
       "<Figure size 432x288 with 1 Axes>"
      ]
     },
     "metadata": {},
     "output_type": "display_data"
    }
   ],
   "source": [
    "# Make prediction with test data, using the best porfolio\n",
    "preds = models[best_portfolio].predict(input_test)\n",
    "\n",
    "# Plot predictions on x axis and actuals on y axis\n",
    "plt.scatter(preds, target_test)\n",
    "\n",
    "# Label axes and title\n",
    "plt.xlabel('predicted')\n",
    "plt.ylabel('actual')\n",
    "plt.title('Gradient Boost')\n",
    "\n",
    "# and show graph\n",
    "plt.show()\n"
   ]
  },
  {
   "cell_type": "markdown",
   "metadata": {},
   "source": [
    "### 8. Make Client Predictions"
   ]
  },
  {
   "cell_type": "markdown",
   "metadata": {},
   "source": [
    "Now that we have complete machine learning model trained to predict liquity, we can use it to advise our clients.\n",
    "- To do, we pass the model a dataframe in the same format as the training data, but without the column containing the target variable and only one line with your client's data\n",
    "\n",
    "| sp_score | market_cap | total_debt | ltm_capex | ltm_ebitda | ltm_fcf | ltm_revenue |\n",
    "|----------|------------|------------|-----------|------------|---------|-------------|\n",
    "|        2 |    54856.2 | 84628      |     -9262 |      21387 |    9488 |      170315 |\n"
   ]
  },
  {
   "cell_type": "code",
   "execution_count": 16,
   "metadata": {},
   "outputs": [
    {
     "name": "stdout",
     "output_type": "stream",
     "text": [
      "Recommend Liquidity amount: $28662.937 in MM\n"
     ]
    }
   ],
   "source": [
    "# client = pd.read_csv('C:\\\\Users\\\\employee_id\\\\MLE\\\\data\\\\liquidity_client.csv')\n",
    "\n",
    "# Client's data like above\n",
    "adhoc_input = [2, 54856.2,84628,-9262,21387,9488,170315] \n",
    "\n",
    "# Put the Client's data into dataframe\n",
    "# You don't have to specify the columns\n",
    "client_data = pd.DataFrame([adhoc_input],\n",
    "                           columns=['sp_score', 'market_cap', 'total_debt', \n",
    "                            'ltm_capex', 'ltm_ebitda', 'ltm_fcf', 'ltm_revenue'\n",
    "                           ] \n",
    "                          )\n",
    "\n",
    "# Pass the Client's dataframe to trained model to calculate model's prediction\n",
    "print(\"Recommend Liquidity amount: ${} in MM\"\n",
    "      .format(round(models[best_portfolio].predict(client_data)[0], 3)) )\n",
    "                                  "
   ]
  }
 ],
 "metadata": {
  "kernelspec": {
   "display_name": "Python 3",
   "language": "python",
   "name": "python3"
  },
  "language_info": {
   "codemirror_mode": {
    "name": "ipython",
    "version": 3
   },
   "file_extension": ".py",
   "mimetype": "text/x-python",
   "name": "python",
   "nbconvert_exporter": "python",
   "pygments_lexer": "ipython3",
   "version": "3.8.5"
  }
 },
 "nbformat": 4,
 "nbformat_minor": 2
}
