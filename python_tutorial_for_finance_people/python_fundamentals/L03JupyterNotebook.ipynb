{
 "cells": [
  {
   "cell_type": "markdown",
   "metadata": {},
   "source": [
    "# Python Fundamentals III\n",
    "Welcome to the third lesson! This Jupyter Notebook file is meant to accompany **L03 - Python Fundamentals III**."
   ]
  },
  {
   "cell_type": "markdown",
   "metadata": {},
   "source": [
    "Type your solutions for each exercise in the code cells below, and then press **Shift + Enter** to execute your code. Then, check the solution video to see how you did!"
   ]
  },
  {
   "cell_type": "markdown",
   "metadata": {},
   "source": [
    "### 1. Creating Custom Functions"
   ]
  },
  {
   "cell_type": "code",
   "execution_count": 1,
   "metadata": {},
   "outputs": [
    {
     "name": "stdout",
     "output_type": "stream",
     "text": [
      "[0.86, 0.97, 0.81, 1.39, 1.05, 1.07]\n",
      "[0.81, 1.39]\n"
     ]
    }
   ],
   "source": [
    "beta_values = [0.86, 0.97, 0.81, 1.39, 1.05, 1.07]  # list object\n",
    "\n",
    "def new_min_max(list_arg):              # return a list of min and max\n",
    "    return[min(list_arg),max(list_arg)] # return a list of min and max    \n",
    "\n",
    "beta_min_max = new_min_max(beta_values)\n",
    "print(beta_values)\n",
    "print(beta_min_max)"
   ]
  },
  {
   "cell_type": "markdown",
   "metadata": {},
   "source": [
    "<font color = 'blue'> **EXERCISE 1.1** </font>\n",
    "$$\\text{Future value} = Investment * (1 + \\text{growth_rate})^{years}$$\n",
    "- If you want to have multiple arguments in your function, follow the format:\n",
    "    - `function(arg_1, arg_2, arg_3)`\n",
    "- Use the round function to make your output clean: round(number, decimal_places)"
   ]
  },
  {
   "cell_type": "code",
   "execution_count": 2,
   "metadata": {},
   "outputs": [
    {
     "data": {
      "text/plain": [
       "133.1"
      ]
     },
     "execution_count": 2,
     "metadata": {},
     "output_type": "execute_result"
    }
   ],
   "source": [
    "def future_value(investment, growth_rate, years):\n",
    "    return round(investment * (1 + growth_rate) ** years,1)\n",
    "\n",
    "future_value(100, .1, 3)"
   ]
  },
  {
   "cell_type": "code",
   "execution_count": 3,
   "metadata": {},
   "outputs": [],
   "source": [
    "metrics_1 = [100, .2, 2]\n",
    "metrics_2 = [100, .1, 6]\n",
    "metrics_3 = [100, .22, 3]\n",
    "metrics_4 = [100, .15, 1]\n",
    "metrics_5 = [100, .08, 4]"
   ]
  },
  {
   "cell_type": "code",
   "execution_count": 4,
   "metadata": {},
   "outputs": [
    {
     "name": "stdout",
     "output_type": "stream",
     "text": [
      "144.0\n",
      "144\n"
     ]
    }
   ],
   "source": [
    "def new_future_value(metrics_list):\n",
    "    return round(metrics_list[0]*(1+metrics_list[1])**metrics_list[2])\n",
    "\n",
    "print(future_value(100, .2, 2))\n",
    "print(new_future_value(metrics_1))"
   ]
  },
  {
   "cell_type": "markdown",
   "metadata": {},
   "source": [
    "### 2. For Loops"
   ]
  },
  {
   "cell_type": "code",
   "execution_count": 5,
   "metadata": {},
   "outputs": [
    {
     "name": "stdout",
     "output_type": "stream",
     "text": [
      "a b c d e \n",
      "a, b, c, d, e\n"
     ]
    }
   ],
   "source": [
    "# Define iterable object (in this case, a list)\n",
    "list_iterable = ['a', 'b', 'c', 'd', 'e']\n",
    "\n",
    "# The for loop\n",
    "someChar = ''                              # initalize empty string\n",
    "for letter in list_iterable :             \n",
    "    someChar = someChar + letter + ' '     # add each element to someChar\n",
    "\n",
    "print(someChar)                            # Display someChar\n",
    "print(*list_iterable, sep=', ')            # Another way to dispaly items"
   ]
  },
  {
   "cell_type": "code",
   "execution_count": 6,
   "metadata": {},
   "outputs": [
    {
     "name": "stdout",
     "output_type": "stream",
     "text": [
      "144.0\n",
      "177.16\n",
      "181.58\n",
      "115.0\n",
      "136.05\n"
     ]
    }
   ],
   "source": [
    "def future_value(metrics_list):\n",
    "    return round(metrics_list[0]*(1+metrics_list[1])**metrics_list[2],2)\n",
    "\n",
    "metrics_1 = [100, .2, 2]\n",
    "metrics_2 = [100, .1, 6]\n",
    "metrics_3 = [100, .22, 3]\n",
    "metrics_4 = [100, .15, 1]\n",
    "metrics_5 = [100, .08, 4]\n",
    "\n",
    "# list of lists\n",
    "all_metrics = [\n",
    "    metrics_1,\n",
    "    metrics_2,\n",
    "    metrics_3,\n",
    "    metrics_4,\n",
    "    metrics_5\n",
    "]\n",
    "\n",
    "for metrics_list in all_metrics :         # iterable called metrics_list\n",
    "    print(future_value(metrics_list))"
   ]
  },
  {
   "cell_type": "markdown",
   "metadata": {},
   "source": [
    "<font color = 'blue'> **EXERCISE 2.1** </font>\n",
    "\n",
    "1. Define a new function called **calculate_return_on_investment**. The function should accept one argument named **price_list**\n",
    "\n",
    "2. The function should return the result of the following formula: \n",
    "    1. **(target_price – current_price) / current_price**\n",
    "\n",
    "3. Create a list called **companies** that contains all of the price lists defined in the first cell\n",
    "\n",
    "4. Write a for loop that performs the following actions:\n",
    "    1. Iterates through all objects in **companies**\n",
    "    2. Applies the **calculate_return_on_investment** function to each object\n",
    "    3. Rounds the result of each calculation to 3 decimal places\n",
    "    4. Prints the rounded result of each calculation"
   ]
  },
  {
   "cell_type": "code",
   "execution_count": 7,
   "metadata": {},
   "outputs": [],
   "source": [
    "# Run this code cell to create the price lists below\n",
    "jnj = [139.49, 144.20]\n",
    "unh = [265.31, 284.14]\n",
    "pfe = [42.96, 43.06]\n",
    "abbv = [95.68, 107.44]\n",
    "amgn = [200.58, 205.9]\n",
    "abt = [68.42, 71.06]"
   ]
  },
  {
   "cell_type": "code",
   "execution_count": 8,
   "metadata": {},
   "outputs": [],
   "source": [
    "# (target_price – current_price) / current_price\n",
    "def calculate_return_on_investment(price_list) :\n",
    "    return (price_list[1]-price_list[0]) / price_list[0]"
   ]
  },
  {
   "cell_type": "code",
   "execution_count": 9,
   "metadata": {},
   "outputs": [
    {
     "name": "stdout",
     "output_type": "stream",
     "text": [
      "0.034\n",
      "0.071\n",
      "0.002\n",
      "0.123\n",
      "0.027\n",
      "0.039\n"
     ]
    }
   ],
   "source": [
    "companies = [jnj,unh,pfe,abbv,amgn,abt]\n",
    "\n",
    "for ticker in companies :\n",
    "    print(round(calculate_return_on_investment(ticker),3))"
   ]
  },
  {
   "cell_type": "code",
   "execution_count": 10,
   "metadata": {},
   "outputs": [
    {
     "name": "stdout",
     "output_type": "stream",
     "text": [
      "[0.034, 0.071, 0.002, 0.123, 0.027, 0.039]\n"
     ]
    }
   ],
   "source": [
    "# Create an empty list\n",
    "roi_list=[]\n",
    "\n",
    "# Fill the empty list using a for loop\n",
    "for ticker in companies :\n",
    "    roi = round(calculate_return_on_investment(ticker),3) # Calc ROI\n",
    "    roi_list.append(roi) # Append value to roi_list\n",
    "\n",
    "# Print the resultant list\n",
    "print(roi_list)\n"
   ]
  },
  {
   "cell_type": "code",
   "execution_count": 11,
   "metadata": {},
   "outputs": [
    {
     "name": "stdout",
     "output_type": "stream",
     "text": [
      "[139.49, 144.2, 0.034]\n",
      "[265.31, 284.14, 0.071]\n",
      "[42.96, 43.06, 0.002]\n",
      "[95.68, 107.44, 0.123]\n",
      "[200.58, 205.9, 0.027]\n",
      "[68.42, 71.06, 0.039]\n"
     ]
    }
   ],
   "source": [
    "# Add roi calculation to each indvidual list\n",
    "for ticker in companies :\n",
    "    roi = round(calculate_return_on_investment(ticker),3) # Calc ROI\n",
    "    ticker.append(roi) # Append value to roi_list\n",
    "\n",
    "# Print the resultant list\n",
    "for ticker in companies :\n",
    "    print(ticker)"
   ]
  },
  {
   "cell_type": "markdown",
   "metadata": {},
   "source": [
    "<font color = 'blue'> **EXERCISE 2.2** </font>"
   ]
  },
  {
   "cell_type": "code",
   "execution_count": 12,
   "metadata": {},
   "outputs": [
    {
     "name": "stdout",
     "output_type": "stream",
     "text": [
      "[139.49, 265.31, 42.96, 95.68, 200.58, 68.42]\n",
      "[144.2, 284.14, 43.06, 107.44, 205.9, 71.06]\n",
      "[0.034, 0.071, 0.002, 0.123, 0.027, 0.039]\n"
     ]
    }
   ],
   "source": [
    "# 1. Calculate ROI and append to each list in companies\n",
    "for ticker in companies :\n",
    "    roi = round(calculate_return_on_investment(ticker),3) # Calc ROI\n",
    "    ticker.append(roi) # Append value to roi_list \n",
    "    \n",
    "# 2. Create empty lists\n",
    "current_prices = []\n",
    "target_prices = []\n",
    "roi_calulations = []\n",
    "\n",
    "# 3. Fill lits using a for loop\n",
    "for ticker in companies :\n",
    "    current_prices.append(ticker[0])\n",
    "    target_prices.append(ticker[1])\n",
    "    roi_calulations.append(ticker[2])\n",
    "\n",
    "# 4. Print new lists\n",
    "print(current_prices)\n",
    "print(target_prices)\n",
    "print(roi_calulations)"
   ]
  },
  {
   "cell_type": "markdown",
   "metadata": {},
   "source": [
    "### 3. Conditional Logic\n",
    "\n",
    "If-Else Statement examples"
   ]
  },
  {
   "cell_type": "code",
   "execution_count": 13,
   "metadata": {},
   "outputs": [
    {
     "name": "stdout",
     "output_type": "stream",
     "text": [
      "2\n",
      "4\n",
      "[2, 4]\n",
      "[1, 3, 5]\n"
     ]
    }
   ],
   "source": [
    "list_1 = [1, 2, 3, 4, 5]\n",
    "\n",
    "for number in list_1:       \n",
    "    if number % 2 == 0 :   # 1. Condition to evaluate (Only even numbers)\n",
    "        print(number)      # 2. Code to run if condition is true\n",
    "\n",
    "# create empty lists\n",
    "even_numbers = []\n",
    "odd_numbers = []\n",
    "\n",
    "# Separate values into 2 lists \n",
    "for number in list_1 :\n",
    "    if number % 2 == 0:               # When mod = 0\n",
    "        even_numbers.append(number)   # add to even\n",
    "    else :\n",
    "        odd_numbers.append(number)    # Or, add to odd list\n",
    "\n",
    "# print new list\n",
    "print(even_numbers)\n",
    "print(odd_numbers)"
   ]
  },
  {
   "cell_type": "code",
   "execution_count": 14,
   "metadata": {},
   "outputs": [
    {
     "name": "stdout",
     "output_type": "stream",
     "text": [
      "[1, 2]\n",
      "[-2, -1]\n",
      "[0]\n"
     ]
    }
   ],
   "source": [
    "list_2 = [-2, -1, 0, 1, 2]\n",
    "\n",
    "# create empty lits\n",
    "positive_list = []\n",
    "negative_list = []\n",
    "zero = []\n",
    "\n",
    "# append to the respecitive list\n",
    "for number in list_2 :\n",
    "    if number > 0 :\n",
    "        positive_list.append(number)\n",
    "    elif number < 0 :\n",
    "        negative_list.append(number)\n",
    "    else: \n",
    "        zero.append(number)\n",
    "\n",
    "print(positive_list)\n",
    "print(negative_list)\n",
    "print(zero)"
   ]
  },
  {
   "cell_type": "markdown",
   "metadata": {},
   "source": [
    "<font color = 'blue'> **EXERCISE 3.1** </font>"
   ]
  },
  {
   "cell_type": "code",
   "execution_count": 15,
   "metadata": {},
   "outputs": [
    {
     "data": {
      "text/plain": [
       "dict_keys(['jnj', 'unh', 'pfe', 'abbv', 'amgn', 'abt'])"
      ]
     },
     "execution_count": 15,
     "metadata": {},
     "output_type": "execute_result"
    }
   ],
   "source": [
    "roi_dict = {\n",
    "    'jnj' : 0.034,\n",
    "    'unh' : 0.071,\n",
    "    'pfe' : 0.002,\n",
    "    'abbv' : 0.123,\n",
    "    'amgn' : 0.027,\n",
    "    'abt' : 0.039\n",
    "}\n",
    "roi_dict.keys()"
   ]
  },
  {
   "cell_type": "markdown",
   "metadata": {},
   "source": [
    "1. Create three empty lists named buy_recommendations, hold_recommendations, and sell_recommendations"
   ]
  },
  {
   "cell_type": "code",
   "execution_count": 16,
   "metadata": {},
   "outputs": [],
   "source": [
    "buy_recommendations = []\n",
    "hold_recommendations = []\n",
    "sell_recommendations = []"
   ]
  },
  {
   "cell_type": "markdown",
   "metadata": {},
   "source": [
    "2. Write a for loop that cycles through all of the **keys** in **roi_dict** and completes the following actions:\n",
    "    1. If the ROI is greater than 10% (0.10), append the key to **buy_recommendations**\n",
    "    2. If the ROI is less than 10% (0.10) but greater than 5% (0.05), append the key to **hold_recommendations**\n",
    "    3. If the ROI is less than 5% (0.05), append the key to **sell_recommendations**"
   ]
  },
  {
   "cell_type": "code",
   "execution_count": 17,
   "metadata": {},
   "outputs": [
    {
     "name": "stdout",
     "output_type": "stream",
     "text": [
      "['abbv']\n",
      "['unh']\n",
      "['jnj', 'pfe', 'amgn', 'abt']\n"
     ]
    }
   ],
   "source": [
    "for key in roi_dict.keys() :\n",
    "    if roi_dict[key] > 0.1 :\n",
    "        buy_recommendations.append(key)\n",
    "    elif roi_dict[key] > 0.05 :\n",
    "        hold_recommendations.append(key)\n",
    "    else :\n",
    "        sell_recommendations.append(key)\n",
    "\n",
    "print(buy_recommendations)\n",
    "print(hold_recommendations)\n",
    "print(sell_recommendations)"
   ]
  },
  {
   "cell_type": "code",
   "execution_count": null,
   "metadata": {},
   "outputs": [],
   "source": []
  }
 ],
 "metadata": {
  "kernelspec": {
   "display_name": "Python 3",
   "language": "python",
   "name": "python3"
  },
  "language_info": {
   "codemirror_mode": {
    "name": "ipython",
    "version": 3
   },
   "file_extension": ".py",
   "mimetype": "text/x-python",
   "name": "python",
   "nbconvert_exporter": "python",
   "pygments_lexer": "ipython3",
   "version": "3.8.5"
  }
 },
 "nbformat": 4,
 "nbformat_minor": 2
}
