{
 "cells": [
  {
   "cell_type": "markdown",
   "metadata": {},
   "source": [
    "# Machine Learning for Finance - Python Fundamentals Assessment \n",
    "Welcome to the assessment! This Jupyter Notebook is meant to accompany the assessment for **Python Fundamentals**\n",
    "\n",
    "Beneath each blue <font color = 'blue'> **QUESTION**</font>, there is a code cell that provides space for calculation. On some questions, there will be some prepopulated data to help you answer the questions.\n",
    "You do **not** need to submit this worksheet. "
   ]
  },
  {
   "cell_type": "markdown",
   "metadata": {},
   "source": [
    "Type your answer in the code cell, and then press **Shift + Enter** to execute your code. "
   ]
  },
  {
   "cell_type": "markdown",
   "metadata": {},
   "source": [
    "### Exam Questions"
   ]
  },
  {
   "cell_type": "markdown",
   "metadata": {},
   "source": [
    "<font color = 'blue'> **QUESTION 1** </font>"
   ]
  },
  {
   "cell_type": "code",
   "execution_count": 1,
   "metadata": {
    "scrolled": false
   },
   "outputs": [
    {
     "name": "stdout",
     "output_type": "stream",
     "text": [
      "250\n",
      "True\n",
      "150 + 100\n",
      "50\n",
      "Hello World\n"
     ]
    }
   ],
   "source": [
    "# What would the following code block output when executed?\n",
    "print(150 + 100)\n",
    "print(150 > 100)\n",
    "print(\"150 + 100\")\n",
    "print(150 - 100)\n",
    "print(\"Hello World\")"
   ]
  },
  {
   "cell_type": "markdown",
   "metadata": {},
   "source": [
    "<font color = 'blue'> **QUESTION 2** </font>"
   ]
  },
  {
   "cell_type": "raw",
   "metadata": {
    "scrolled": false
   },
   "source": [
    "# Which of the following code blocks would not print the following\n",
    "print(\"Stock = {}; EPS = {}; P/E = {}\".format(\"APPL\", $11.91, 15))"
   ]
  },
  {
   "cell_type": "markdown",
   "metadata": {},
   "source": [
    "<font color = 'blue'> **QUESTION 3** </font>"
   ]
  },
  {
   "cell_type": "code",
   "execution_count": 2,
   "metadata": {},
   "outputs": [
    {
     "name": "stdout",
     "output_type": "stream",
     "text": [
      "Earnings = $34000000000;       Price = $144;       Shares = 7000000000;       EPS = 4.9;       P/E = 29.6\n"
     ]
    }
   ],
   "source": [
    "# Given the following data, select the alternative that best approximates the variable values. \n",
    "earnings = 34 * 10 ** 9\n",
    "price = 12 ** 2\n",
    "shares_outstanding = 7 * 10**9\n",
    "\n",
    "eps = earnings / shares_outstanding\n",
    "p_e = price / eps\n",
    "\n",
    "print(\"Earnings = ${}; \\\n",
    "      Price = ${}; \\\n",
    "      Shares = {}; \\\n",
    "      EPS = {}; \\\n",
    "      P/E = {}\".format(earnings, price, shares_outstanding,round(eps,1),round(p_e,1))\n",
    "     )"
   ]
  },
  {
   "cell_type": "markdown",
   "metadata": {},
   "source": [
    "<font color = 'blue'> **QUESTION 4** </font>"
   ]
  },
  {
   "cell_type": "code",
   "execution_count": 3,
   "metadata": {},
   "outputs": [
    {
     "name": "stdout",
     "output_type": "stream",
     "text": [
      "AMZN\n"
     ]
    }
   ],
   "source": [
    "# What function would print AMZN ticker symbol from the list?\n",
    "\n",
    "faang_list = ['FB','AMZN', 'AAPL', 'NFLX', 'GOOG']\n",
    "print(faang_list[1])"
   ]
  },
  {
   "cell_type": "markdown",
   "metadata": {},
   "source": [
    "<font color = 'blue'> **QUESTION 5** </font>"
   ]
  },
  {
   "cell_type": "code",
   "execution_count": 4,
   "metadata": {},
   "outputs": [
    {
     "name": "stdout",
     "output_type": "stream",
     "text": [
      "-----------------------------------------------------------------\n",
      "  Variable Name   Type      Value                              \n",
      "-----------------------------------------------------------------\n",
      "        A         tuple     (1, 2, 3, 4)                       \n",
      "        B         tuple     (1, True, 'three', False, 5.0)     \n",
      "        C         set       {'three', 1, 5.0, False}           \n",
      "        D         list      [(1, True, 'three', False, 5.0)]   \n",
      "        E         set       {1, 2, 3, 4, 5}                    \n",
      "        F         list      [1, 2, 3, 4, 5]                    \n"
     ]
    }
   ],
   "source": [
    "#Classify each object's type as either: list, tuple, or set\n",
    "A = (1,2,3,4)\n",
    "B = (1,True,\"three\",False,5.0)\n",
    "C = {1, True,\"three\",False, 5.0}\n",
    "D = [(1,True,\"three\",False, 5.0)]\n",
    "E = {1,2,3,4,5}\n",
    "F = [1,2,3,4,5]\n",
    "\n",
    "import string\n",
    "my_list = [] \n",
    "\n",
    "# create list object of A to F\n",
    "for i in range(ord('A'), ord('F')+1): # convert letter to ascii numeric representation\n",
    "    my_list.append(chr(i))            # Append letter to my_list     \n",
    "\n",
    "# Print out Summary of the Variable Types\n",
    "dash = '-' * 65    \n",
    "for counter, value in enumerate(my_list):\n",
    "    if counter == 0: \n",
    "        print(dash) # BEGIN - create header\n",
    "        print(\"{:^18s}{:<10s}{:<35s}\" \\\n",
    "              .format('Variable Name', 'Type', 'Value')\n",
    "             )\n",
    "        print(dash)# End - create header\n",
    "     \n",
    "    print(\"{:^18s}{:<10s}{:<35s}\" \\\n",
    "          .format(value, str(type(eval(value)).__name__) , str(eval(value)) )\n",
    "         )"
   ]
  },
  {
   "cell_type": "markdown",
   "metadata": {},
   "source": [
    "<font color = 'blue'> **QUESTION 6** </font>"
   ]
  },
  {
   "cell_type": "code",
   "execution_count": 5,
   "metadata": {},
   "outputs": [
    {
     "name": "stdout",
     "output_type": "stream",
     "text": [
      "False\n",
      "True\n"
     ]
    }
   ],
   "source": [
    "# What does the code below print?\n",
    "revenue = 149\n",
    "expenses = 78\n",
    "operating_profit = revenue - expenses\n",
    "\n",
    "tax = operating_profit * 0.3\n",
    "\n",
    "net_profit = operating_profit - tax\n",
    "\n",
    "print(operating_profit > 75)\n",
    "print(net_profit > 30)"
   ]
  },
  {
   "cell_type": "markdown",
   "metadata": {},
   "source": [
    "<font color = 'blue'> **QUESTION 7** </font>"
   ]
  },
  {
   "cell_type": "code",
   "execution_count": 6,
   "metadata": {},
   "outputs": [
    {
     "data": {
      "text/plain": [
       "['AAPL', 'GOOG', 'AMZN', ['GM', 'F']]"
      ]
     },
     "execution_count": 6,
     "metadata": {},
     "output_type": "execute_result"
    }
   ],
   "source": [
    "#What is the value of my_portfolio after you run this block of code?\n",
    "\n",
    "list_1 = [\"AAPL\", \"GOOG\"]\n",
    "list_2 = [\"GM\", \"F\"]\n",
    "\n",
    "my_portfolio = list_1       # You're creating another pointer to same object as list1\n",
    "list_1.append(\"AMZN\")       # Append item to list_1 (aka my_portfolio)\n",
    "my_portfolio.append(list_2)\n",
    "my_portfolio"
   ]
  },
  {
   "cell_type": "markdown",
   "metadata": {},
   "source": [
    "<font color = 'blue'> **QUESTION 8** </font>"
   ]
  },
  {
   "cell_type": "code",
   "execution_count": 7,
   "metadata": {},
   "outputs": [],
   "source": [
    "import pandas as pd"
   ]
  },
  {
   "cell_type": "code",
   "execution_count": 8,
   "metadata": {},
   "outputs": [
    {
     "data": {
      "text/html": [
       "<div>\n",
       "<style scoped>\n",
       "    .dataframe tbody tr th:only-of-type {\n",
       "        vertical-align: middle;\n",
       "    }\n",
       "\n",
       "    .dataframe tbody tr th {\n",
       "        vertical-align: top;\n",
       "    }\n",
       "\n",
       "    .dataframe thead th {\n",
       "        text-align: right;\n",
       "    }\n",
       "</style>\n",
       "<table border=\"1\" class=\"dataframe\">\n",
       "  <thead>\n",
       "    <tr style=\"text-align: right;\">\n",
       "      <th></th>\n",
       "      <th>Ticker</th>\n",
       "      <th>Price</th>\n",
       "      <th>Earnings</th>\n",
       "      <th>Beta</th>\n",
       "      <th>Industry</th>\n",
       "    </tr>\n",
       "  </thead>\n",
       "  <tbody>\n",
       "    <tr>\n",
       "      <th>0</th>\n",
       "      <td>AAPL</td>\n",
       "      <td>208.08</td>\n",
       "      <td>17.90</td>\n",
       "      <td>1.24</td>\n",
       "      <td>Technology</td>\n",
       "    </tr>\n",
       "    <tr>\n",
       "      <th>1</th>\n",
       "      <td>AMZN</td>\n",
       "      <td>1990.32</td>\n",
       "      <td>84.31</td>\n",
       "      <td>1.56</td>\n",
       "      <td>Diversified Retail</td>\n",
       "    </tr>\n",
       "    <tr>\n",
       "      <th>2</th>\n",
       "      <td>NFLX</td>\n",
       "      <td>316.85</td>\n",
       "      <td>123.70</td>\n",
       "      <td>1.23</td>\n",
       "      <td>Media</td>\n",
       "    </tr>\n",
       "    <tr>\n",
       "      <th>3</th>\n",
       "      <td>MSFT</td>\n",
       "      <td>140.13</td>\n",
       "      <td>27.40</td>\n",
       "      <td>1.23</td>\n",
       "      <td>Software</td>\n",
       "    </tr>\n",
       "  </tbody>\n",
       "</table>\n",
       "</div>"
      ],
      "text/plain": [
       "  Ticker    Price  Earnings  Beta            Industry\n",
       "0   AAPL   208.08     17.90  1.24          Technology\n",
       "1   AMZN  1990.32     84.31  1.56  Diversified Retail\n",
       "2   NFLX   316.85    123.70  1.23               Media\n",
       "3   MSFT   140.13     27.40  1.23            Software"
      ]
     },
     "execution_count": 8,
     "metadata": {},
     "output_type": "execute_result"
    }
   ],
   "source": [
    "# which of the following code blocks will produce the excel table below?\n",
    "portfolio_a = {\n",
    "    'AAPL' : [208.08, 17.90, 1.24, 'Technology'],\n",
    "    'AMZN' : [1990.32, 84.31, 1.56, 'Diversified Retail'],\n",
    "    'NFLX' : [316.85, 123.70, 1.23, 'Media'],\n",
    "    'MSFT' : [140.13, 27.40, 1.23, 'Software']\n",
    "}\n",
    "\n",
    "\n",
    "clm_name = ['Price','Earnings','Beta','Industry'] # Column Names for DF\n",
    "\n",
    "# Specify orient='index' to create the DataFrame \n",
    "# using dictionary keys as rows\n",
    "df_portfolio_a = pd.DataFrame.from_dict(data=portfolio_a, orient='index',\n",
    "                                        columns = clm_name\n",
    "                                       ) # Convert Dictionary to DF\n",
    "\n",
    "df_portfolio_a.index.name = 'Ticker'     # Rename index name to \"Ticker\"\n",
    "df_portfolio_a.reset_index(inplace=True) # Reset index in the dataframe\n",
    "\n",
    "df_portfolio_a                           # Display dataframe"
   ]
  },
  {
   "cell_type": "markdown",
   "metadata": {},
   "source": [
    "<font color = 'blue'> **QUESTION 9** </font>"
   ]
  },
  {
   "cell_type": "code",
   "execution_count": 9,
   "metadata": {},
   "outputs": [
    {
     "data": {
      "text/plain": [
       "['AMZN', 'MSFT', 'NFLX', 'AAPL']"
      ]
     },
     "execution_count": 9,
     "metadata": {},
     "output_type": "execute_result"
    }
   ],
   "source": [
    "# What is the value of the list_4 after you run the code below?\n",
    "\n",
    "list_4 = ['AMZN', 2500, 1, \"AAPL\"]\n",
    "\n",
    "for item in list_4:\n",
    "    if item == 1:\n",
    "        list_4[item] = 'MSFT'\n",
    "    elif item == \"AAPL\":\n",
    "        list_4[2] = \"NFLX\"\n",
    "\n",
    "list_4"
   ]
  },
  {
   "cell_type": "markdown",
   "metadata": {},
   "source": [
    "<font color = 'blue'> **QUESTION 10** </font>"
   ]
  },
  {
   "cell_type": "code",
   "execution_count": 10,
   "metadata": {},
   "outputs": [
    {
     "name": "stdout",
     "output_type": "stream",
     "text": [
      "0.16\n"
     ]
    }
   ],
   "source": [
    "#What will the code below print?\n",
    "def cagr(beg, end, years):\n",
    "    cagr = round( ( (end/beg)**(1/years) ) -1, 2)\n",
    "    return cagr\n",
    "\n",
    "print(cagr(100,115.65, 1))"
   ]
  },
  {
   "cell_type": "markdown",
   "metadata": {},
   "source": [
    "<font color = 'blue'> **QUESTION 11** </font>\n",
    "\n",
    "Harry - I recommend reading this link on [Stackflow](https://stackoverflow.com/questions/268272/getting-key-with-maximum-value-in-dictionary)"
   ]
  },
  {
   "cell_type": "code",
   "execution_count": 11,
   "metadata": {},
   "outputs": [],
   "source": [
    "# Use the CAGR funtion to identify the portfolio with the best CAGR.\n",
    "\n",
    "def cagr(beg, end, years):\n",
    "    cagr = round(((end/beg)**(1/years))-1, 2)\n",
    "    return cagr\n",
    "\n",
    "portfolio_a = [100, 120, 3]\n",
    "portfolio_b = [98, 120, 2]\n",
    "portfolio_c = [120, 156, 3]\n",
    "portfolio_d = [123, 163, 2]\n",
    "portfolio_e = [116, 156, 3]\n",
    "portfolio_f = [178, 198, 4]\n",
    "portfolio_g = [123, 213, 4]\n",
    "portfolio_h = [167, 516, 7]"
   ]
  },
  {
   "cell_type": "code",
   "execution_count": 12,
   "metadata": {},
   "outputs": [
    {
     "name": "stdout",
     "output_type": "stream",
     "text": [
      "Step 1\n",
      "['a', 'b', 'c', 'd', 'e', 'f', 'g', 'h']\n",
      "---\n",
      "Step 2\n",
      "{'a': [100, 120, 3], 'b': [98, 120, 2], 'c': [120, 156, 3], 'd': [123, 163, 2], 'e': [116, 156, 3], 'f': [178, 198, 4], 'g': [123, 213, 4], 'h': [167, 516, 7]}\n",
      "---\n",
      "Step 3\n",
      "Portfolio = a ; CAGR = 0.06\n",
      "Portfolio = b ; CAGR = 0.11\n",
      "Portfolio = c ; CAGR = 0.09\n",
      "Portfolio = d ; CAGR = 0.15\n",
      "Portfolio = e ; CAGR = 0.1\n",
      "Portfolio = f ; CAGR = 0.03\n",
      "Portfolio = g ; CAGR = 0.15\n",
      "Portfolio = h ; CAGR = 0.17\n",
      "---\n",
      "Step 4\n",
      "Best Portfolio =  h\n",
      "Best CAGR Rate =  0.17\n"
     ]
    }
   ],
   "source": [
    "# Harry's solution, based on the above current situation\n",
    "\n",
    "# Step 1: Create list of letters from a to h\n",
    "mykeys =[]\n",
    "for i in range(ord('a'), ord('h')+1):\n",
    "    mykeys.append(chr(i))\n",
    "    \n",
    "print('Step 1')    \n",
    "print(mykeys) \n",
    "print('---')\n",
    "\n",
    "\n",
    "# Step 2: Create dictionary of letter : 'portfolio' value\n",
    "my_dict = {i:eval(str('portfolio_'+i)) for i in mykeys}\n",
    "print('Step 2') \n",
    "print(my_dict)\n",
    "print('---')\n",
    "\n",
    "# Step 3: Display CAGR Calculation for each portfolio\n",
    "print('Step 3') \n",
    "for key in my_dict.keys() :\n",
    "    temp_calc = cagr(my_dict[key][0],my_dict[key][1],my_dict[key][2]) \n",
    "    print(\"Portfolio = {} ; CAGR = {}\".format(key, round(temp_calc,2)))\n",
    "\n",
    "print('---')\n",
    "\n",
    "# Step 4: Determine best portfolio\n",
    "print('Step 4') \n",
    "best, value = max(my_dict.items(), key = lambda x: cagr(x[1][0],x[1][1],x[1][2]))\n",
    "print(\"Best Portfolio = \", best)\n",
    "print(\"Best CAGR Rate = \", cagr(my_dict[best][0],my_dict[best][1],my_dict[best][2])) "
   ]
  },
  {
   "cell_type": "markdown",
   "metadata": {},
   "source": [
    "<font color = 'blue'> **QUESTION 12** </font>"
   ]
  },
  {
   "cell_type": "code",
   "execution_count": 13,
   "metadata": {},
   "outputs": [
    {
     "name": "stdout",
     "output_type": "stream",
     "text": [
      "Technology\n"
     ]
    }
   ],
   "source": [
    "# which of the following functions would retrieve AAPL's Industry (Technology)?\n",
    "\n",
    "portfolio_a = {\n",
    "    \n",
    "    'AAPL': [208.08, 17.90, 1.24, 'Technology'],\n",
    "    'AMZN': [1990.32, 84.31, 1.56, 'Diversified Retail'],\n",
    "    'NFLX': [316.85, 123.70, 1.23, 'Media'],\n",
    "    'MSFT': [140.13, 27.40, 1.23,  'Software'],\n",
    "}\n",
    "\n",
    "print(portfolio_a['AAPL'][3])"
   ]
  },
  {
   "cell_type": "markdown",
   "metadata": {},
   "source": [
    "<font color = 'blue'> **QUESTION 13** </font>"
   ]
  },
  {
   "cell_type": "code",
   "execution_count": 14,
   "metadata": {},
   "outputs": [
    {
     "name": "stdout",
     "output_type": "stream",
     "text": [
      "['AAPL', 'AMZN', 'NFLX', 'MSFT', 'FTNT', 'FLT', 'DO', 'MSCI', 'GPN', 'HPE']\n",
      "['FL', 'ALK', 'PYPL', 'FB', 'NLSN', 'CERN']\n",
      "['TMUS', 'TWTR', 'MAA', 'UAA', 'EQIX']\n"
     ]
    }
   ],
   "source": [
    "# Create 3 lists from the following dictionary. \n",
    "# One list should have the stocks with beta that are larger than 1. \n",
    "# List 2 should have stocks that have a beta that are larger than 0.75 but smaller or equal to 1. \n",
    "# List 3 should have stocks that have a beta that are small than 0.75.\n",
    "\n",
    "beta_dict ={\n",
    "    'AAPL' : 1.24,\n",
    "    'AMZN' : 1.56,\n",
    "    'NFLX' : 1.23,\n",
    "    'MSFT' : 1.23,\n",
    "    'TMUS' : 0.36,\n",
    "    'FTNT' : 1.09,\n",
    "    'FLT' : 1.17,\n",
    "    'DO' : 1.68,\n",
    "    'TWTR' : 0.61,\n",
    "    'MSCI' : 1.12,\n",
    "    'FL' : 0.96,\n",
    "    'MAA' : 0.37,\n",
    "    'GPN' : 1.01,\n",
    "    'UAA' : 0.52,\n",
    "    'ALK' : 0.85,\n",
    "    'HPE' : 1.59,\n",
    "    'PYPL' : 0.98,\n",
    "    'EQIX' : 0.74,\n",
    "    'FB' : 1.00,\n",
    "    'NLSN' : 0.89,\n",
    "    'CERN' : 0.92\n",
    "}\n",
    "\n",
    "\n",
    "\n",
    "large_beta = [];\n",
    "med_beta = [];\n",
    "small_beta = [];\n",
    "\n",
    "\n",
    "# solution below by append to the respecitive list\n",
    "large = 1\n",
    "med = 0.75\n",
    "\n",
    "for key in beta_dict.keys() :\n",
    "    if beta_dict[key] > large :\n",
    "        large_beta.append(key)\n",
    "    elif beta_dict[key] > med :\n",
    "        med_beta.append(key)\n",
    "    else :\n",
    "        small_beta.append(key)\n",
    "\n",
    "print(large_beta)\n",
    "print(med_beta)\n",
    "print(small_beta)"
   ]
  },
  {
   "cell_type": "markdown",
   "metadata": {},
   "source": [
    "<font color = 'blue'> **QUESTION 14** </font>"
   ]
  },
  {
   "cell_type": "code",
   "execution_count": 15,
   "metadata": {},
   "outputs": [
    {
     "data": {
      "text/plain": [
       "array([[2.08340e+02, 1.50000e-01],\n",
       "       [1.99729e+03, 1.30000e-01]])"
      ]
     },
     "execution_count": 15,
     "metadata": {},
     "output_type": "execute_result"
    }
   ],
   "source": [
    "# Calcualte the weighted average expected return percentage \n",
    "# for a portfolio that contains one share of AMZN and five shares of AAPL. \n",
    "# The Price of the stock and the expected return are represneted \n",
    "# by the following lists:\n",
    "\n",
    "import numpy as np\n",
    "\n",
    "# stock price, annual return\n",
    "AAPL = [208.34, 0.15]\n",
    "AMZN = [1997.29, 0.13]\n",
    "\n",
    "# Step 1: Put the lists into numpy 2d array \n",
    "array_x = np.array([\n",
    "    AAPL,\n",
    "    AMZN\n",
    "])\n",
    "\n",
    "array_x\n"
   ]
  },
  {
   "cell_type": "code",
   "execution_count": 16,
   "metadata": {},
   "outputs": [
    {
     "name": "stdout",
     "output_type": "stream",
     "text": [
      "0.137\n"
     ]
    }
   ],
   "source": [
    "# Step 2 : calculate the weights\n",
    "apple_shares = 5\n",
    "amzn_shares = 1\n",
    "\n",
    "# Get first column (stock price) of numpy 2d array \n",
    "# and multiple by the respective shares \n",
    "my_weights = array_x[: , 0] * [apple_shares,amzn_shares]\n",
    "\n",
    "\n",
    "# Step 3: calc weighted average, \n",
    "# but only return the calculation on 2nd column (i.e. the stock return)\n",
    "print(round(np.average(array_x, axis=0, weights=my_weights)[1],3))"
   ]
  },
  {
   "cell_type": "markdown",
   "metadata": {},
   "source": [
    "<font color = 'blue'> **QUESTION 15** </font>"
   ]
  },
  {
   "cell_type": "code",
   "execution_count": 17,
   "metadata": {},
   "outputs": [
    {
     "name": "stdout",
     "output_type": "stream",
     "text": [
      "{1, 4}\n",
      "{1, 2, 3, 4, 5, 7, 8}\n",
      "{2, 3, 7}\n",
      "{8, 5}\n",
      "{1, 2, 3, 4, 7}\n",
      "set()\n"
     ]
    }
   ],
   "source": [
    "# What will the following code print when executed?\n",
    "\n",
    "portfolio_a = {1,2,3,4,7}\n",
    "portfolio_b = {1,4,5,8,4}\n",
    "\n",
    "print(portfolio_a.intersection(portfolio_b)) # if a and b\n",
    "print(portfolio_a.union(portfolio_b))        # A + B\n",
    "print(portfolio_a.difference(portfolio_b))   # if a and not b\n",
    "print(portfolio_b.difference(portfolio_a))   # if b and not a\n",
    "print(portfolio_a.union(portfolio_a))        # A + A\n",
    "print(portfolio_b.difference(portfolio_b))   # if b and not b"
   ]
  },
  {
   "cell_type": "markdown",
   "metadata": {},
   "source": [
    "<font color = 'blue'> **QUESTION 16** </font>"
   ]
  },
  {
   "cell_type": "code",
   "execution_count": 18,
   "metadata": {},
   "outputs": [
    {
     "name": "stdout",
     "output_type": "stream",
     "text": [
      "['4' '7' '5.2' 'six' '10']\n"
     ]
    }
   ],
   "source": [
    "# What will the following code print when executed?\n",
    "\n",
    "import numpy as np\n",
    "\n",
    "array_3 = np.array([4,7,5.2,\"six\",10])\n",
    "print(array_3)                          # numpy array - force all to be same type"
   ]
  },
  {
   "cell_type": "markdown",
   "metadata": {},
   "source": [
    "<font color = 'blue'> **QUESTION 17** </font>"
   ]
  },
  {
   "cell_type": "code",
   "execution_count": 19,
   "metadata": {},
   "outputs": [
    {
     "name": "stdout",
     "output_type": "stream",
     "text": [
      "[ 7 13  3 17  8]\n"
     ]
    }
   ],
   "source": [
    "# Which of the following outputs is possible when you run the following code block?\n",
    "\n",
    "import numpy as np\n",
    "\n",
    "# low = 0    (inclusive)\n",
    "# high = 20 (exclusive)\n",
    "# return 5 random numbers from 0 to 19 in this case\n",
    "rand_x = np.random.randint(low=0, high=20, size = 5)\n",
    "print(rand_x)"
   ]
  },
  {
   "cell_type": "markdown",
   "metadata": {},
   "source": [
    "<font color = 'blue'> **QUESTION 18** </font>"
   ]
  },
  {
   "cell_type": "code",
   "execution_count": null,
   "metadata": {},
   "outputs": [],
   "source": [
    "# Select the INCORRECT statement based on the code and output below:\n",
    "\n",
    "import pandas as pd\n",
    "\n",
    "data_x = pd.read_csv('C:\\\\Users\\\\Analyst\\\\Documents\\\\Data.csv')\n",
    "print(data_x.shape)\n",
    "print('------------')\n",
    "print(data_x.min())\n",
    "print('------------')\n",
    "print(data_x.head(1))"
   ]
  },
  {
   "cell_type": "markdown",
   "metadata": {},
   "source": [
    "<font color = 'blue'> **QUESTION 19** </font>"
   ]
  },
  {
   "cell_type": "code",
   "execution_count": null,
   "metadata": {},
   "outputs": [],
   "source": [
    "# What could be a possible outcome of the following code block?\n",
    "\n",
    "import pandas as pd\n",
    "\n",
    "Data_A = pd.read_csv('C:\\\\Users\\\\Analyst\\\\Documents\\\\Test_Data.csv')\n",
    "Data_A['Number_Z'] = Data_A['Number Y']*Data_A['Number X']\n",
    "Data_A.head(2)"
   ]
  },
  {
   "cell_type": "markdown",
   "metadata": {},
   "source": [
    "<font color = 'blue'> **QUESTION 20** </font>"
   ]
  },
  {
   "cell_type": "code",
   "execution_count": null,
   "metadata": {},
   "outputs": [],
   "source": [
    "# What will the following code block do to the Pandas DataFrame?\n",
    "\n",
    "import pandas as pd\n",
    "\n",
    "company_data = pd.read_excel('C:\\\\Users\\\\Analyst\\\\Documents\\\\Company Data.xlsx')\n",
    "\n",
    "check_a = company_data.Beta > 1.14).astype(int)\n",
    "company_data['Beta Indicator'] = check_a\n",
    "company_data"
   ]
  }
 ],
 "metadata": {
  "kernelspec": {
   "display_name": "Python 3",
   "language": "python",
   "name": "python3"
  },
  "language_info": {
   "codemirror_mode": {
    "name": "ipython",
    "version": 3
   },
   "file_extension": ".py",
   "mimetype": "text/x-python",
   "name": "python",
   "nbconvert_exporter": "python",
   "pygments_lexer": "ipython3",
   "version": "3.8.5"
  }
 },
 "nbformat": 4,
 "nbformat_minor": 2
}
