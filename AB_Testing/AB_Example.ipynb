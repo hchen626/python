{
 "cells": [
  {
   "cell_type": "markdown",
   "metadata": {},
   "source": [
    "# A/B Example from Website\n",
    "\n",
    "## Code Source and Article\n",
    "\n",
    "### Please read\n",
    "I copied the author's code and commentary. Kudos to Samuel Hinton for sharing. \n",
    "\n",
    "-   Check out Sam's [link](https://cosmiccoding.com.au/tutorials/ab_tests)\n",
    "\n",
    "-   I will also put in some extra details and comments as I follow his example.\n",
    "\n",
    "-   It's been awhile for me and probably for others, so I added some theory to help understand his examples"
   ]
  },
  {
   "cell_type": "markdown",
   "metadata": {},
   "source": [
    "<h2>Table of content</h2>\n",
    "\n",
    "<div class=\"alert alert-block alert-info\" style=\"margin-top: 20px\">\n",
    "<ol>\n",
    "    <li><a>Modelling click through</a></li>\n",
    "    <li><a>Let's get normal</a></li>\n",
    "    <li><a>Can we check we've done the right thing?</a></li>\n",
    "    <li><a>Can we do this test even faster?</a></li>\n",
    "</ol>\n",
    "    \n",
    "</div>\n",
    " \n",
    "<hr>\n"
   ]
  },
  {
   "cell_type": "markdown",
   "metadata": {},
   "source": [
    "<h4>Important Concepts</h4> Copy from source - I wanted to include them as a reference\n",
    "\n",
    "[Wikipedia](https://en.wikipedia.org/wiki/Bernoulli_distribution) ; [Go to here for more details](https://towardsdatascience.com/understanding-bernoulli-and-binomial-distributions-a1eef4e0da8f)<h6> Bernoulli Distribution </h6> \n",
    "\n",
    "The Bernoulli distribution is the discrete probability distribution of a random variable which takes a binary, boolean output: \n",
    "- 1 with probability p\n",
    "- 0 with probability (1-p). \n",
    "\n",
    "\\begin{equation*}\n",
    "X \\sim Be(p) = f(x) = p^x (1-p)^{1-x} \\\\\n",
    "E[X]=p \\\\\n",
    "Var[X]=p(1-p)\n",
    "\\end{equation*} \n",
    "\n",
    "<h6> Binomal Distribution </h6> \n",
    "\n",
    "This distribution describes the behavior the outputs of $n$ random experiments, each having a Bernoulli distribution with probability $p$.\n",
    "\n",
    "The <font color='blue'><b>binomal</b></font> probability mass function ($Y$) is:\n",
    "\\begin{equation*}\n",
    "\\sum_{i=1}^n X_{i} =  Y \\\\\n",
    "Y \\sim Bin(n,p) = f(k) = {n \\choose k} p^k (1-p)^{n-k} \\text{  ,  } k \\in \\{0, 1,..., n\\} \\\\\n",
    "E[Y]=np \\\\\n",
    "Var[Y]=np(1-p)\n",
    "\\end{equation*} \n",
    "\n",
    "    n: The number of trials in the binomial experiment\n",
    "    k: The number of successes that result from the binomial experiment \n",
    "    p: The probability of success on an individual trial\n",
    "\n",
    "If $Y \\sim Bin(n, p)$ and if n is large (Central Limit Theorem), then\n",
    " - $\\frac{Y}{n}$ could be approximated by $Normal\\left(\\mu=p, \\sigma^{2}= \\frac{\\sigma^2_{Bernolli}}{n}=\\frac{pq}{n}\\right)$\n",
    "\n",
    "<h6> Why is it important to talk about this now?? </h6> \n",
    "In below example, we are interested in the <b> average</b> of our sample independent Bernoulli trials in this experiment. So this means that we fill be focusing on\n",
    "\\begin{equation*}\n",
    "\\frac{1}{n}\\sum_{i=1}^n X_{i} = \\bar{X}\n",
    "\\end{equation*} \n",
    "\n",
    "- How we calculate the expected sample mean and variance?\n",
    "\\begin{equation*}\n",
    "E\\left[ \\frac{1}{n}\\sum_{i=1}^n X_{i}\\right]=E\\left[\\frac{Y}{n}\\right]=\\frac{1}{n} E\\left[Y\\right]=\\frac{1}{n}\\left(np\\right)=p\n",
    "\\end{equation*} \n",
    "\n",
    "\\begin{equation*}\n",
    "Var\\left[ \\frac{1}{n}\\sum_{i=1}^n X_{i}\\right]=Var\\left[\\frac{Y}{n}\\right]=\\frac{1}{n^2} Var\\left[Y\\right]=\\frac{1}{n^2}\\left(npq\\right)=\\frac{pq}{n} \\\\\n",
    "\\text{where } q = 1-p\n",
    "\\end{equation*} \n",
    "\n"
   ]
  },
  {
   "cell_type": "markdown",
   "metadata": {},
   "source": [
    "<h3>What is an AB Test? </h3>\n",
    "\n",
    "Suppose you have 2 websites. Will the <font color='red'>red button</font>  change I made increase conversion?\n",
    "1. Old Website (A in the picture) \n",
    "2. New Webiste (B in the picture)\n",
    "\n",
    "![AB Test](https://cosmiccoding.com.au/static/img/tutorials/abtests/2020-01-12-ABTests_1_0.jpg)\n",
    "\n",
    "<b>Experiment Setup:</b> By having two sites active at once and randomly directing users to one or the other, you control for all variables.\n",
    "\n",
    "<b> Common Metrics to test in A/B test:</b> Click through/conversion, bounce rate, and how long you spend on the page. For the example, let us assume we want to optimise conversion, which in our case ic click the \"Add to cart\" button "
   ]
  },
  {
   "cell_type": "markdown",
   "metadata": {},
   "source": [
    "<h2 id=\"\">Setup</h2>\n"
   ]
  },
  {
   "cell_type": "markdown",
   "metadata": {},
   "source": [
    " Import libraries \n"
   ]
  },
  {
   "cell_type": "code",
   "execution_count": 1,
   "metadata": {},
   "outputs": [],
   "source": [
    "import pandas as pd\n",
    "import matplotlib.pyplot as plt\n",
    "import numpy as np\n",
    "import statsmodels.stats.api as sms\n",
    "\n",
    "from scipy.stats import binom\n",
    "from scipy.stats import mannwhitneyu\n",
    "from scipy.stats import norm\n",
    "from scipy.stats import ttest_ind\n",
    "import emcee\n",
    "\n",
    "import seaborn as sns\n",
    "import statsmodels.stats.api as sms\n",
    "from math import ceil"
   ]
  },
  {
   "cell_type": "markdown",
   "metadata": {},
   "source": [
    "## 1. Modeling click through -- Site A & Site B"
   ]
  },
  {
   "cell_type": "markdown",
   "metadata": {},
   "source": [
    "<h3> 1a. Understanding our sample experiment - We have binary outcomes </h3>Suppose we have a total of 1000 users\n",
    "\n",
    "|                      | Directed to A | Directed to B | Total |\n",
    "|----------------------|:-------------:|:-------------:|:-----:|\n",
    "| # of Users           | 550           | 450           | 1000  |\n",
    "| # of Users Converted | 48            | 56            | 104   |\n",
    "| % of Users Converted | 8.73%         | 12.44%        | 10.4% |\n",
    "\n"
   ]
  },
  {
   "cell_type": "code",
   "execution_count": 2,
   "metadata": {},
   "outputs": [
    {
     "name": "stdout",
     "output_type": "stream",
     "text": [
      "Rate A: 0.0873 ; Rate B: 0.1244\n",
      "Sample Rate difference between Site B and Site A: 0.0372\n"
     ]
    }
   ],
   "source": [
    "num_a, num_b = 550, 450 # Represents n\n",
    "click_a, click_b = 48, 56 # Represents k\n",
    "rate_a, rate_b = click_a / num_a, click_b / num_b # Represents p\n",
    "print(\"Rate A: %.4f ; Rate B: %.4f\" % (rate_a, rate_b) )\n",
    "print(\"Sample Rate difference between Site B and Site A: %.4f\" % (rate_b - rate_a))"
   ]
  },
  {
   "cell_type": "markdown",
   "metadata": {},
   "source": [
    "We have two discrete options **(Click Button, or not)** available, so this is textbook **binomal distribution**, with some unknown rate for site A and site B. \n",
    "\n",
    "Remember:\n",
    "- n: The number of trials in the binomial experiment \n",
    "- k: The number of successes that result from the binomial experiment \n",
    "- p: The probability of success on an individual trial\n",
    "\n",
    "[Scipy binom Documentation](https://docs.scipy.org/doc/scipy/reference/generated/scipy.stats.binom.html#scipy.stats.binom)\n",
    "\n",
    "In the scipy library, `binom` takes `n` and `p` as shape parameters.\n",
    "\n",
    "```python\n",
    "scipy.stats.binom(*args, **kwds).pmf(k, n, p, loc=0) \n",
    "= Probability mass function\n",
    "``` "
   ]
  },
  {
   "cell_type": "markdown",
   "metadata": {},
   "source": [
    "<h3> 1b. Plotting the binomal distribution </h3>"
   ]
  },
  {
   "cell_type": "code",
   "execution_count": 3,
   "metadata": {},
   "outputs": [
    {
     "data": {
      "image/png": "[encoded data removed]",
      "text/plain": [
       "<Figure size 432x288 with 1 Axes>"
      ]
     },
     "metadata": {
      "needs_background": "light"
     },
     "output_type": "display_data"
    }
   ],
   "source": [
    "import matplotlib.pyplot as plt\n",
    "from scipy.stats import binom\n",
    "import numpy as np\n",
    "\n",
    "# Determine the probability of having k number of click throughs\n",
    "clicks = np.arange(20, 80) #For Binom functions, try k={20,21,22...79} \n",
    "prob_a = binom(num_a, rate_a).pmf(clicks) #get probability mass function for binomal distribution\n",
    "prob_b = binom(num_b, rate_b).pmf(clicks)\n",
    "\n",
    "# Make the bar plots.\n",
    "plt.bar(clicks, prob_a, label=\"A\", alpha=0.7)\n",
    "plt.bar(clicks, prob_b, label=\"B\", alpha=0.7)\n",
    "plt.legend()\n",
    "plt.xlabel(\"Num converted\"); plt.ylabel(\"Probability\");"
   ]
  },
  {
   "cell_type": "markdown",
   "metadata": {},
   "source": [
    "<b>Samuel Hinton: </b> \n",
    "\n",
    "So we can see here that `B` has an edge, but its <u>certaintly possible</u> if we pick <u>two random points</u> according to the histograms for `A` and `B`, that `A`  <b>might actually be higher than</b> `B`!"
   ]
  },
  {
   "cell_type": "markdown",
   "metadata": {},
   "source": [
    "## 2. Let's get normal\n"
   ]
  },
  {
   "cell_type": "markdown",
   "metadata": {},
   "source": [
    "<h3> 2a. Using Normal Distributions to approximate binomal distributions </h3>\n",
    "\n",
    "<b><u>Samuel Hinton:</u></b> \n",
    "\n",
    "Sure, we can work with binomial distributions in this case. And Poisson distributions in the “How long were you on the site” case. \n",
    "\n",
    "We could swap for every question<b>… or we can invoke the Central Limit Theorem</b>. \n",
    "   - As we’re interested in the <font color=blue><b>average</b> conversion, or <b>average</b> time spent on the site</font>\n",
    "   - This averaging of an underlying distribution means our final estimate will be well approximated by a normal distribution. \n",
    "\n",
    "So let’s reformulate, [using the normal approximation here](https://en.wikipedia.org/wiki/Binomial_distribution#Normal_approximation), [link on Variance properities](https://en.wikipedia.org/wiki/Variance#Sum_of_uncorrelated_variables_.28Bienaym.C3.A9_formula.29) and [Scipy norm Documentation](https://docs.scipy.org/doc/scipy/reference/generated/scipy.stats.norm.html)"
   ]
  },
  {
   "cell_type": "markdown",
   "metadata": {},
   "source": [
    "- <b> Harry - Recall: </b>\n",
    "\\begin{equation*}\n",
    "E\\left[ \\frac{1}{n}\\sum_{i=1}^n X_{i}\\right]=E\\left[\\frac{Y}{n}\\right]=\\frac{1}{n} E\\left[Y\\right]=\\frac{1}{n}\\left(np\\right)=p\n",
    "\\end{equation*} \n",
    "\n",
    "\\begin{equation*}\n",
    "Var\\left[ \\frac{1}{n}\\sum_{i=1}^n X_{i}\\right]=Var\\left[\\frac{Y}{n}\\right]=\\frac{1}{n^2} Var\\left[Y\\right]=\\frac{1}{n^2}\\left(npq\\right)=\\frac{pq}{n} \\\\\n",
    "\\text{where } q = 1-p\n",
    "\\end{equation*} \n",
    "\n",
    "If $Y \\sim Bin(n, p)$ and if n is large (Central Limit Theorem), then\n",
    " - $\\frac{Y}{n}$ could be approximated by $Normal\\left(\\mu=p, \\sigma^{2}= \\frac{\\sigma^2_{Bernolli}}{n}=\\frac{pq}{n}\\right)$\n",
    " \n",
    "In the scipy library, `norm` takes 2 arugments: `loc`(mean) and `scale`(standard deviation)."
   ]
  },
  {
   "cell_type": "code",
   "execution_count": 4,
   "metadata": {},
   "outputs": [
    {
     "data": {
      "image/png": "[encoded data removed]",
      "text/plain": [
       "<Figure size 432x288 with 1 Axes>"
      ]
     },
     "metadata": {
      "needs_background": "light"
     },
     "output_type": "display_data"
    }
   ],
   "source": [
    "from scipy.stats import norm\n",
    "\n",
    "# Where does this come from? See the link above.\n",
    "std_a = np.sqrt(rate_a * (1 - rate_a) / num_a) #He is calculating the sample standard deviation\n",
    "std_b = np.sqrt(rate_b * (1 - rate_b) / num_b)\n",
    "\n",
    "click_rate = np.linspace(0, 0.2, 200) # Let plot pdf from 0 to 0.2; 200 steps\n",
    "prob_a = norm(rate_a, std_a).pdf(click_rate) #get probability dentisity function based normal distribution\n",
    "prob_b = norm(rate_b, std_b).pdf(click_rate)\n",
    "\n",
    "# Make the line plots.\n",
    "plt.plot(click_rate, prob_a, label=\"A\")\n",
    "plt.plot(click_rate, prob_b, label=\"B\", linestyle='dashed')\n",
    "plt.legend(frameon=False)\n",
    "plt.xlabel(\"Conversion rate\"); plt.ylabel(\"Probability\");"
   ]
  },
  {
   "cell_type": "markdown",
   "metadata": {},
   "source": [
    "<font color='red'><b>Sam:</b></font> By normalizing, we've removed the confusing effect of site A and site B having a slightly different number of vistors had.\n",
    "\n",
    "1. What is the chance that a draw from B is higher from A\n",
    "2. Is it significant?"
   ]
  },
  {
   "cell_type": "markdown",
   "metadata": {},
   "source": [
    "<h3>2b. We will examine the difference of the Normal Distributions of Site A versus Site B</h3>\n",
    "\n",
    "To answer this, let us utilise the handy fact that the sum (or difference) of normally <b>independent</b> distributed random numbers is also a normal. [See here for the proof](https://en.wikipedia.org/wiki/Sum_of_normally_distributed_random_variables#Independent_random_variables), but the math is as follows:\n",
    "\n",
    "$$ P(b-a) = \\mathcal{N}\\left(\\mu_{B-A}=\\mu_B - \\mu_A, \\sigma^{2}_{B-A}=\\sigma_B^2 + \\sigma_A^2 \\right) $$\n",
    "\n",
    "<b>Harry:</b> \n",
    "- I think he should mentioned about independent. \n",
    "- He's going to use this fact when  we analyze our samples\n"
   ]
  },
  {
   "cell_type": "markdown",
   "metadata": {},
   "source": [
    "<b>Harry: </b> For this 1-tailed test\n",
    "- $H_0$ We first assume that the mean rates of site B and site A are equal \n",
    "- $H_1$ We want to see if there is enough evidence to reject null hypothesis, and state B>A \n",
    "\n",
    "$$H_0 : \\mu_B=\\mu_A \\\\\n",
    "H_1 : \\mu_B>\\mu_A \\\\\n",
    "$$\n",
    "Essentially, you could view the alternative hypothesis $H_1$ as the below\n",
    "$$P(b>a)=P(b-a>0)$$\n",
    "\n",
    "For below code, recall the formula Z-Score\n",
    "$$z=\\frac{x-\\mu}{\\sigma} $$\n",
    "\n",
    "<b>Sam: </b>This is simple - take the difference in the means and sum the variance. We’ll do two things below: First, get the z-score, and second, plot the proper distribution."
   ]
  },
  {
   "cell_type": "code",
   "execution_count": 5,
   "metadata": {},
   "outputs": [
    {
     "name": "stdout",
     "output_type": "stream",
     "text": [
      "Zscore is 1.890, with p-value 0.029\n"
     ]
    },
    {
     "data": {
      "image/png": "[encoded data removed]",
      "text/plain": [
       "<Figure size 432x288 with 1 Axes>"
      ]
     },
     "metadata": {
      "needs_background": "light"
     },
     "output_type": "display_data"
    }
   ],
   "source": [
    "# Calc Z-score for our sample difference between B and A\n",
    "# with the assumption that the actual (aka population) \n",
    "# difference between B and A is 0\n",
    "z_score = (rate_b - rate_a) / np.sqrt(std_a**2 + std_b**2)\n",
    "\n",
    "# Normal Distribution of the difference between site B and site A\n",
    "p = norm(rate_b - rate_a, np.sqrt(std_a**2 + std_b**2))\n",
    "\n",
    "x = np.linspace(-0.05, 0.15, 1000)\n",
    "y = p.pdf(x)\n",
    "area_under_curve = p.sf(0) #Essentially 1-cdf for z-score of 0\n",
    "plt.plot(x, y, label=\"PDF\")\n",
    "plt.fill_between(x, 0, y, where=x>0, label=\"Prob(b>a)\", alpha=0.3)\n",
    "plt.annotate(f\"Area={area_under_curve:0.3f}\", (0.02, 5))\n",
    "plt.legend()\n",
    "plt.xlabel(\"Difference in conversion rate\"); plt.ylabel(\"Prob\");\n",
    "\n",
    "# #Survival function (also generalized as 1 - cdf), \n",
    "# but sf is sometimes more accurate).\n",
    "print(f\"Zscore is {z_score:0.3f}, with p-value {norm().sf(z_score):0.3f}\") "
   ]
  },
  {
   "cell_type": "code",
   "execution_count": 6,
   "metadata": {},
   "outputs": [
    {
     "name": "stdout",
     "output_type": "stream",
     "text": [
      "Cumulative distribution of z-score: 0.9705973\n",
      "Our sample difference (B-A): 0.0372\n"
     ]
    }
   ],
   "source": [
    "# Instead of p-value, you could also see cdf\n",
    "print(\"Cumulative distribution of z-score: %.7f\" % (norm().cdf(z_score)))\n",
    "\n",
    "# the sample difference\n",
    "print(\"Our sample difference (B-A): %.4f\" % (rate_b - rate_a))"
   ]
  },
  {
   "cell_type": "markdown",
   "metadata": {},
   "source": [
    "<b>Sam </b> Great! So, how to phrase this result? \n",
    "- Using our frequentist approach so far, we would say that given the null hypothesis is true (that B is less then or equal to A), <b><u>we would expect to get this result or a result more extreme only 2.9% of the time. </u></b>\n",
    "- As that is a significant result (typically p < 5%), we reject the null hypothesis, and state that we have evidence that B > A.\n",
    "\n",
    "We should explicitly note here that this is a one-tailed test - the question we’ve asked is if B > A. \n",
    "\n",
    "<b>An alterative is the two-tailed test, where we just want to discriminate that B is different to A.</b> \n",
    "- In that case, our p-value is actually $2*2.9=5.8$ percent (as we have two tails, not one)\n",
    "- We would want more samples before rejecting the null hypothesis if we stick to the p-value of 0.05 percent threshold."
   ]
  },
  {
   "cell_type": "markdown",
   "metadata": {},
   "source": [
    "<b>Harry </b> I like Sam's explanation and the graph we just made. Another way of thinking, we just calcuated the <b>Type 1 error</b> (reject a true null hypothesis). There is a 2.9% chance we were wrong to reject the null hypothesis.\n",
    "\n",
    "![cool image](http://www.personal.ceu.hu/students/08/Olga_Etchevskaia/images/errors.jpg)"
   ]
  },
  {
   "cell_type": "markdown",
   "metadata": {},
   "source": [
    "<h3>2c. Let's just simplify what we just did</h3>\n",
    "\n",
    "<b>Sam:</b> However, we’ve made a lot of plots for this to try and explain the concept. You can easily write a tiny function to simplify all of this. Whether you want the confidence or the p-value just means changing the final <code><font color='crimson'>norm.cdf</font></code> to <code><font color='crimson'>norm.sf</font></code> \n"
   ]
  },
  {
   "cell_type": "code",
   "execution_count": 7,
   "metadata": {},
   "outputs": [
    {
     "name": "stdout",
     "output_type": "stream",
     "text": [
      "0.9705973498275782\n"
     ]
    }
   ],
   "source": [
    "# Num Conv for A, Total Users A, Num Conv for B, Total Users B\n",
    "def get_confidence_ab_test(click_a, num_a, click_b, num_b):\n",
    "    rate_a = click_a / num_a\n",
    "    rate_b = click_b / num_b\n",
    "    std_a = np.sqrt(rate_a * (1 - rate_a) / num_a) #sample std for A\n",
    "    std_b = np.sqrt(rate_b * (1 - rate_b) / num_b) #sample std for B\n",
    "    z_score = (rate_b - rate_a) / np.sqrt(std_a**2 + std_b**2)\n",
    "    return norm.cdf(z_score)\n",
    "\n",
    "print(get_confidence_ab_test(click_a, num_a, click_b, num_b))"
   ]
  },
  {
   "cell_type": "markdown",
   "metadata": {},
   "source": [
    "## 3. Can we check we've done the right thing?"
   ]
  },
  {
   "cell_type": "code",
   "execution_count": 8,
   "metadata": {},
   "outputs": [
    {
     "name": "stdout",
     "output_type": "stream",
     "text": [
      "B is better than A 97.0% of the time\n"
     ]
    }
   ],
   "source": [
    "# Draw 10000 samples of possible rates for a and b\n",
    "n = 10000\n",
    "\n",
    "# Get N random samples for Site A and Site B, \n",
    "# based on normalized distribution\n",
    "rates_a = norm(rate_a, std_a).rvs(n) \n",
    "rates_b = norm(rate_b, std_b).rvs(n)\n",
    "\n",
    "#Determine the number of times when B is greater than A\n",
    "b_better = (rates_b > rates_a).sum() / n\n",
    "\n",
    "print(f\"B is better than A {b_better * 100:0.1f}% of the time\")"
   ]
  },
  {
   "cell_type": "markdown",
   "metadata": {},
   "source": [
    "<b>Sam:</b> \n",
    "Which, rephrased to the language of before, is that $A > B$ only $2.9\\text{%}$ of the time, which is statistically significant such that <u>we can reject our null hypothesis</u> (that $A <= B$).\n"
   ]
  },
  {
   "cell_type": "code",
   "execution_count": 9,
   "metadata": {},
   "outputs": [
    {
     "data": {
      "text/plain": [
       "array([0.08641403, 0.1071461 , 0.10768395, 0.07965207, 0.0809472 ])"
      ]
     },
     "execution_count": 9,
     "metadata": {},
     "output_type": "execute_result"
    }
   ],
   "source": [
    "rates_a[0:5] #looking at the first 5 samples rates of conversion for site A"
   ]
  },
  {
   "cell_type": "code",
   "execution_count": 10,
   "metadata": {},
   "outputs": [
    {
     "data": {
      "text/plain": [
       "array([0.11682689, 0.10913186, 0.11939957, 0.12515559, 0.12656525])"
      ]
     },
     "execution_count": 10,
     "metadata": {},
     "output_type": "execute_result"
    }
   ],
   "source": [
    "rates_b[0:5] #looking at the first 5 samples rates of conversion for site b"
   ]
  },
  {
   "cell_type": "markdown",
   "metadata": {},
   "source": [
    "## 4. Can we do this test faster? Use some libraries !\n"
   ]
  },
  {
   "cell_type": "markdown",
   "metadata": {},
   "source": [
    "Imagine we have the <b>raw results</b> of click through, 0 or 1, as our distribution, and we want to use an inbuild <font color='red'><b>t-test</b></font>.  For a two-sided test,\n",
    "\n",
    "$$H_0 : \\mu_B=\\mu_A \\\\\n",
    "H_1 : \\mu_B\\neq\\mu_A \\\\\n",
    "$$"
   ]
  },
  {
   "cell_type": "markdown",
   "metadata": {},
   "source": [
    "### 4a. Welsch's t-test\n",
    "\n",
    "[Click here for ttest documentation](https://docs.scipy.org/doc/scipy/reference/generated/scipy.stats.ttest_ind.html)"
   ]
  },
  {
   "cell_type": "code",
   "execution_count": 14,
   "metadata": {},
   "outputs": [
    {
     "name": "stdout",
     "output_type": "stream",
     "text": [
      "Zscore is -1.89, p-value is 0.059 (two tailed), 0.030 (one tailed)\n"
     ]
    }
   ],
   "source": [
    "from scipy.stats import ttest_ind\n",
    "a_dist = np.zeros(num_a) # Create array of 0s for Site A\n",
    "a_dist[:click_a] = 1     # For first K entries, put 1 for convert\n",
    "b_dist = np.zeros(num_b)\n",
    "b_dist[:click_b] = 1\n",
    "zscore, prob = ttest_ind(a_dist, b_dist, equal_var=False) #use False\n",
    "print(f\"Zscore is {zscore:0.2f}, p-value is {prob:0.3f} (two tailed), {prob/2:0.3f} (one tailed)\")"
   ]
  },
  {
   "cell_type": "markdown",
   "metadata": {},
   "source": [
    "<font color='red'><b>Sam</b></font>\n",
    "\n",
    "Note here that the p-value by default is using the two-tailed test. We can see these values are almost identical to the ones we computed ourselves… but they’re not exactly the same. \n",
    "\n",
    "Why is this? \n",
    "\n",
    "1. Well, the ttest_ind (with equal_var=False) is running Welch’s t-test. \n",
    "2. The t-test has degrees-of-freedom which will induce subtle differences with the normal approximation. \n",
    "3. Additionally, <b>Welsch’s t-test is meant for continuous data</b>, we have discrete 0 and 1 options. \n",
    "4. A better option for discrete data is the Mann-Whitney U statistic.\n",
    "\n",
    "<b>Harry - Recall</b>\n",
    "``` python\n",
    "num_a, num_b = 550, 450 # Represents n\n",
    "click_a, click_b = 48, 56 # Represents k\n",
    "\n",
    "ttest_ind(a, b, axis=0, equal_var=True, nan_policy='propagate')\n",
    "```\n",
    "<b>equal_varbool, optional </b>\n",
    "1. If True (default), perform a standard independent 2 sample test that assumes \n",
    "2. If <b>False</b>, perform Welch’s t-test, which does not assume equal population variance \n"
   ]
  },
  {
   "cell_type": "markdown",
   "metadata": {},
   "source": [
    "### 4b. Mann-Whitney U test\n",
    "\n",
    "[Click here for SCIPY documentation](https://docs.scipy.org/doc/scipy/reference/generated/scipy.stats.mannwhitneyu.html)"
   ]
  },
  {
   "cell_type": "code",
   "execution_count": 17,
   "metadata": {},
   "outputs": [
    {
     "name": "stdout",
     "output_type": "stream",
     "text": [
      "Mann-Whitney U test for null hypothesis B <= A is 0.028\n"
     ]
    }
   ],
   "source": [
    "from scipy.stats import mannwhitneyu\n",
    "stat, p_value = mannwhitneyu(a_dist, b_dist, alternative=\"less\")\n",
    "print(f\"Mann-Whitney U test for null hypothesis B <= A is {p_value:0.3f}\")"
   ]
  },
  {
   "cell_type": "markdown",
   "metadata": {},
   "source": [
    "<b>Sam</b>\n",
    "\n",
    "1. P-value is low and we can reject the null hypthesis. \n",
    "\n",
    "2. Noticed too that we have <code><font color='crimson'>alternative=\"less\"</font></code>, which is the null hypothesis that we are testing so that we can investigate if <code><font color='crimson'>B > A</font></code>.\n",
    "\n",
    "<b>Harry</b>\n",
    "\n",
    "1. In other words, he's saying this\n",
    "    1. Null hypothesis <font color='crimson'>$A \\geq B$</font>\n",
    "    2. Alternative hypothesis <font color='crimson'>$A < B$</font>\n",
    "\n",
    "``` python\n",
    "alternative{None, ‘two-sided’, ‘less’, ‘greater’}, optional\n",
    "```\n",
    "Defines the alternative hypothesis. The following options are available (default is None):\n",
    "\n",
    "            None: computes p-value half the size of the ‘two-sided’ p-value and a different U statistic. The default behavior is not the same as using ‘less’ or ‘greater’; it only exists for backward compatibility and is deprecated.\n",
    "\n",
    "            ‘two-sided’\n",
    "\n",
    "            ‘less’: one-sided\n",
    "\n",
    "            ‘greater’: one-sided"
   ]
  },
  {
   "cell_type": "markdown",
   "metadata": {},
   "source": [
    "### 4c. Bayesian Approach\n",
    "\n"
   ]
  },
  {
   "cell_type": "code",
   "execution_count": 19,
   "metadata": {},
   "outputs": [],
   "source": [
    "import numpy as np\n",
    "\n",
    "def get_prior(x):\n",
    "    p, delta = x\n",
    "    if not 0 < p < 1:\n",
    "        return -np.inf\n",
    "    if not 0 < p + delta < 1:\n",
    "        return -np.inf\n",
    "    if not -0.1 < delta < 0.1:\n",
    "        return -np.inf\n",
    "    return 0\n",
    "\n",
    "def get_likelihood(x):\n",
    "    p, delta = x\n",
    "    return norm().logpdf((p - rate_a) / std_a) + norm().logpdf((p + delta - rate_b) / std_b)\n",
    "\n",
    "def get_posterior(x):\n",
    "    prior = get_prior(x)\n",
    "    if np.isfinite(prior):\n",
    "        return prior + get_likelihood(x)\n",
    "    return prior"
   ]
  },
  {
   "cell_type": "code",
   "execution_count": 20,
   "metadata": {},
   "outputs": [
    {
     "name": "stdout",
     "output_type": "stream",
     "text": [
      "[[0.08556736 0.05889887]\n",
      " [0.07708193 0.05569577]\n",
      " [0.0735285  0.06304955]\n",
      " ...\n",
      " [0.07191659 0.06937792]\n",
      " [0.07191659 0.06937792]\n",
      " [0.07191659 0.06937792]]\n"
     ]
    }
   ],
   "source": [
    "import emcee\n",
    "ndim = 2  # How many parameters we are fitting. This is our dimensionality.\n",
    "nwalkers = 30  # Keep this well above your dimensionality.\n",
    "p0 = np.random.uniform(low=0, high=0.1, size=(nwalkers, ndim))  # Start points\n",
    "sampler = emcee.EnsembleSampler(nwalkers, ndim, get_posterior)\n",
    "state = sampler.run_mcmc(p0, 1000)  # Tell each walker to take some steps\n",
    "\n",
    "chain = sampler.chain[:, 200:, :]  # Throw out the first 200 steps\n",
    "flat_chain = chain.reshape((-1, ndim))  # Stack the steps from each walker\n",
    "print(flat_chain)"
   ]
  },
  {
   "cell_type": "markdown",
   "metadata": {},
   "source": [
    "Great, so we have samples from the posterior, but this doesn’t mean much. Lets throw them into chainconsumer."
   ]
  },
  {
   "cell_type": "code",
   "execution_count": 21,
   "metadata": {},
   "outputs": [
    {
     "ename": "ModuleNotFoundError",
     "evalue": "No module named 'chainconsumer'",
     "output_type": "error",
     "traceback": [
      "\u001b[1;31m---------------------------------------------------------------------------\u001b[0m",
      "\u001b[1;31mModuleNotFoundError\u001b[0m                       Traceback (most recent call last)",
      "\u001b[1;32m<ipython-input-21-f5538d95b66b>\u001b[0m in \u001b[0;36m<module>\u001b[1;34m\u001b[0m\n\u001b[1;32m----> 1\u001b[1;33m \u001b[1;32mfrom\u001b[0m \u001b[0mchainconsumer\u001b[0m \u001b[1;32mimport\u001b[0m \u001b[0mChainConsumer\u001b[0m\u001b[1;33m\u001b[0m\u001b[1;33m\u001b[0m\u001b[0m\n\u001b[0m\u001b[0;32m      2\u001b[0m \u001b[0mc\u001b[0m \u001b[1;33m=\u001b[0m \u001b[0mChainConsumer\u001b[0m\u001b[1;33m(\u001b[0m\u001b[1;33m)\u001b[0m\u001b[1;33m\u001b[0m\u001b[1;33m\u001b[0m\u001b[0m\n\u001b[0;32m      3\u001b[0m \u001b[0mc\u001b[0m\u001b[1;33m.\u001b[0m\u001b[0madd_chain\u001b[0m\u001b[1;33m(\u001b[0m\u001b[0mflat_chain\u001b[0m\u001b[1;33m,\u001b[0m \u001b[0mparameters\u001b[0m\u001b[1;33m=\u001b[0m\u001b[1;33m[\u001b[0m\u001b[1;34m\"$P_A$\"\u001b[0m\u001b[1;33m,\u001b[0m \u001b[1;34m\"$\\delta_P$\"\u001b[0m\u001b[1;33m]\u001b[0m\u001b[1;33m,\u001b[0m \u001b[0mkde\u001b[0m\u001b[1;33m=\u001b[0m\u001b[1;36m1.0\u001b[0m\u001b[1;33m)\u001b[0m\u001b[1;33m\u001b[0m\u001b[1;33m\u001b[0m\u001b[0m\n\u001b[0;32m      4\u001b[0m \u001b[0mc\u001b[0m\u001b[1;33m.\u001b[0m\u001b[0mconfigure\u001b[0m\u001b[1;33m(\u001b[0m\u001b[0mflip\u001b[0m\u001b[1;33m=\u001b[0m\u001b[1;32mFalse\u001b[0m\u001b[1;33m)\u001b[0m\u001b[1;33m\u001b[0m\u001b[1;33m\u001b[0m\u001b[0m\n\u001b[0;32m      5\u001b[0m \u001b[0mc\u001b[0m\u001b[1;33m.\u001b[0m\u001b[0mplotter\u001b[0m\u001b[1;33m.\u001b[0m\u001b[0mplot\u001b[0m\u001b[1;33m(\u001b[0m\u001b[1;33m)\u001b[0m\u001b[1;33m;\u001b[0m\u001b[1;33m\u001b[0m\u001b[1;33m\u001b[0m\u001b[0m\n",
      "\u001b[1;31mModuleNotFoundError\u001b[0m: No module named 'chainconsumer'"
     ]
    }
   ],
   "source": [
    "from chainconsumer import ChainConsumer\n",
    "c = ChainConsumer()\n",
    "c.add_chain(flat_chain, parameters=[\"$P_A$\", \"$\\delta_P$\"], kde=1.0)\n",
    "c.configure(flip=False)\n",
    "c.plotter.plot();"
   ]
  },
  {
   "cell_type": "markdown",
   "metadata": {},
   "source": [
    "### Closing Thoughts\n",
    "\n",
    "In general, the One-way ANOVA F-test could be generalized as being reserved for three or more groups, where as the  T-Test is reserved when dealing with two groups.\n",
    "\n"
   ]
  }
 ],
 "metadata": {
  "anaconda-cloud": {},
  "kernelspec": {
   "display_name": "Python 3",
   "language": "python",
   "name": "python3"
  },
  "language_info": {
   "codemirror_mode": {
    "name": "ipython",
    "version": 3
   },
   "file_extension": ".py",
   "mimetype": "text/x-python",
   "name": "python",
   "nbconvert_exporter": "python",
   "pygments_lexer": "ipython3",
   "version": "3.8.5"
  }
 },
 "nbformat": 4,
 "nbformat_minor": 2
}
